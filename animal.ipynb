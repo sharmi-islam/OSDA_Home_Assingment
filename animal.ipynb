{
  "nbformat": 4,
  "nbformat_minor": 0,
  "metadata": {
    "colab": {
      "provenance": [],
      "gpuType": "T4"
    },
    "kernelspec": {
      "name": "python3",
      "display_name": "Python 3"
    },
    "language_info": {
      "name": "python"
    },
    "accelerator": "GPU"
  },
  "cells": [
    {
      "cell_type": "code",
      "source": [
        "# This Python 3 environment comes with many helpful analytics libraries installed\n",
        "# It is defined by the kaggle/python Docker image: https://github.com/kaggle/docker-python\n",
        "# For example, here's several helpful packages to load\n",
        "\n",
        "import numpy as np # linear algebra\n",
        "import pandas as pd # data processing, CSV file I/O (e.g. pd.read_csv)\n",
        "\n",
        "# Input data files are available in the read-only \"../input/\" directory\n",
        "# For example, running this (by clicking run or pressing Shift+Enter) will list all files under the input directory\n",
        "\n",
        "import os\n",
        "for dirname, _, filenames in os.walk('/content/Animal Dataset.csv'):\n",
        "    for filename in filenames:\n",
        "        print(os.path.join(dirname, filename))\n",
        "\n",
        "# You can write up to 20GB to the current directory (/kaggle/working/) that gets preserved as output when you create a version using \"Save & Run All\"\n",
        "# You can also write temporary files to /kaggle/temp/, but they won't be saved outside of the current session"
      ],
      "metadata": {
        "id": "B3yj3npztpXh"
      },
      "execution_count": null,
      "outputs": []
    },
    {
      "cell_type": "code",
      "source": [
        "df = pd.read_csv('/content/Animal Dataset.csv')"
      ],
      "metadata": {
        "id": "F7N31T6ImInw"
      },
      "execution_count": null,
      "outputs": []
    },
    {
      "cell_type": "code",
      "source": [
        "df.head()"
      ],
      "metadata": {
        "colab": {
          "base_uri": "https://localhost:8080/",
          "height": 382
        },
        "id": "qF-Vz6TimMvw",
        "outputId": "c99908a7-7755-48c3-bde8-b9f829e17835"
      },
      "execution_count": null,
      "outputs": [
        {
          "output_type": "execute_result",
          "data": {
            "text/plain": [
              "             Animal Height (cm) Weight (kg)         Color Lifespan (years)  \\\n",
              "0          Aardvark     105-130       40-65          Grey            20-30   \n",
              "1          Aardwolf       40-50        8-14  Yellow-brown            10-12   \n",
              "2  African Elephant     270-310   2700-6000          Grey            60-70   \n",
              "3      African Lion      80-110     120-250           Tan            10-14   \n",
              "4  African Wild Dog       75-80       18-36  Multicolored            10-12   \n",
              "\n",
              "          Diet               Habitat           Predators Average Speed (km/h)  \\\n",
              "0  Insectivore  Savannas, Grasslands       Lions, Hyenas                   40   \n",
              "1  Insectivore  Grasslands, Savannas     Lions, Leopards                24-30   \n",
              "2    Herbivore      Savannah, Forest       Lions, Hyenas                   25   \n",
              "3    Carnivore  Grasslands, Savannas  Hyenas, Crocodiles                   58   \n",
              "4    Carnivore             Savannahs       Lions, Hyenas                   56   \n",
              "\n",
              "               Countries Found Conservation Status           Family  \\\n",
              "0                       Africa       Least Concern  Orycteropodidae   \n",
              "1  Eastern and Southern Africa       Least Concern        Hyaenidae   \n",
              "2                       Africa          Vulnerable     Elephantidae   \n",
              "3                       Africa          Vulnerable          Felidae   \n",
              "4           Sub-Saharan Africa          Endangered          Canidae   \n",
              "\n",
              "  Gestation Period (days) Top Speed (km/h) Social Structure  \\\n",
              "0                 210-240               40         Solitary   \n",
              "1                      90               40         Solitary   \n",
              "2                 640-660               40       Herd-based   \n",
              "3                  98-105               80      Group-based   \n",
              "4                      70               56      Group-based   \n",
              "\n",
              "  Offspring per Birth  \n",
              "0                   1  \n",
              "1                 2-5  \n",
              "2                   1  \n",
              "3       2-4 (usually)  \n",
              "4               10-12  "
            ],
            "text/html": [
              "\n",
              "  <div id=\"df-06c81261-28e9-4f61-9885-1a4898de237a\" class=\"colab-df-container\">\n",
              "    <div>\n",
              "<style scoped>\n",
              "    .dataframe tbody tr th:only-of-type {\n",
              "        vertical-align: middle;\n",
              "    }\n",
              "\n",
              "    .dataframe tbody tr th {\n",
              "        vertical-align: top;\n",
              "    }\n",
              "\n",
              "    .dataframe thead th {\n",
              "        text-align: right;\n",
              "    }\n",
              "</style>\n",
              "<table border=\"1\" class=\"dataframe\">\n",
              "  <thead>\n",
              "    <tr style=\"text-align: right;\">\n",
              "      <th></th>\n",
              "      <th>Animal</th>\n",
              "      <th>Height (cm)</th>\n",
              "      <th>Weight (kg)</th>\n",
              "      <th>Color</th>\n",
              "      <th>Lifespan (years)</th>\n",
              "      <th>Diet</th>\n",
              "      <th>Habitat</th>\n",
              "      <th>Predators</th>\n",
              "      <th>Average Speed (km/h)</th>\n",
              "      <th>Countries Found</th>\n",
              "      <th>Conservation Status</th>\n",
              "      <th>Family</th>\n",
              "      <th>Gestation Period (days)</th>\n",
              "      <th>Top Speed (km/h)</th>\n",
              "      <th>Social Structure</th>\n",
              "      <th>Offspring per Birth</th>\n",
              "    </tr>\n",
              "  </thead>\n",
              "  <tbody>\n",
              "    <tr>\n",
              "      <th>0</th>\n",
              "      <td>Aardvark</td>\n",
              "      <td>105-130</td>\n",
              "      <td>40-65</td>\n",
              "      <td>Grey</td>\n",
              "      <td>20-30</td>\n",
              "      <td>Insectivore</td>\n",
              "      <td>Savannas, Grasslands</td>\n",
              "      <td>Lions, Hyenas</td>\n",
              "      <td>40</td>\n",
              "      <td>Africa</td>\n",
              "      <td>Least Concern</td>\n",
              "      <td>Orycteropodidae</td>\n",
              "      <td>210-240</td>\n",
              "      <td>40</td>\n",
              "      <td>Solitary</td>\n",
              "      <td>1</td>\n",
              "    </tr>\n",
              "    <tr>\n",
              "      <th>1</th>\n",
              "      <td>Aardwolf</td>\n",
              "      <td>40-50</td>\n",
              "      <td>8-14</td>\n",
              "      <td>Yellow-brown</td>\n",
              "      <td>10-12</td>\n",
              "      <td>Insectivore</td>\n",
              "      <td>Grasslands, Savannas</td>\n",
              "      <td>Lions, Leopards</td>\n",
              "      <td>24-30</td>\n",
              "      <td>Eastern and Southern Africa</td>\n",
              "      <td>Least Concern</td>\n",
              "      <td>Hyaenidae</td>\n",
              "      <td>90</td>\n",
              "      <td>40</td>\n",
              "      <td>Solitary</td>\n",
              "      <td>2-5</td>\n",
              "    </tr>\n",
              "    <tr>\n",
              "      <th>2</th>\n",
              "      <td>African Elephant</td>\n",
              "      <td>270-310</td>\n",
              "      <td>2700-6000</td>\n",
              "      <td>Grey</td>\n",
              "      <td>60-70</td>\n",
              "      <td>Herbivore</td>\n",
              "      <td>Savannah, Forest</td>\n",
              "      <td>Lions, Hyenas</td>\n",
              "      <td>25</td>\n",
              "      <td>Africa</td>\n",
              "      <td>Vulnerable</td>\n",
              "      <td>Elephantidae</td>\n",
              "      <td>640-660</td>\n",
              "      <td>40</td>\n",
              "      <td>Herd-based</td>\n",
              "      <td>1</td>\n",
              "    </tr>\n",
              "    <tr>\n",
              "      <th>3</th>\n",
              "      <td>African Lion</td>\n",
              "      <td>80-110</td>\n",
              "      <td>120-250</td>\n",
              "      <td>Tan</td>\n",
              "      <td>10-14</td>\n",
              "      <td>Carnivore</td>\n",
              "      <td>Grasslands, Savannas</td>\n",
              "      <td>Hyenas, Crocodiles</td>\n",
              "      <td>58</td>\n",
              "      <td>Africa</td>\n",
              "      <td>Vulnerable</td>\n",
              "      <td>Felidae</td>\n",
              "      <td>98-105</td>\n",
              "      <td>80</td>\n",
              "      <td>Group-based</td>\n",
              "      <td>2-4 (usually)</td>\n",
              "    </tr>\n",
              "    <tr>\n",
              "      <th>4</th>\n",
              "      <td>African Wild Dog</td>\n",
              "      <td>75-80</td>\n",
              "      <td>18-36</td>\n",
              "      <td>Multicolored</td>\n",
              "      <td>10-12</td>\n",
              "      <td>Carnivore</td>\n",
              "      <td>Savannahs</td>\n",
              "      <td>Lions, Hyenas</td>\n",
              "      <td>56</td>\n",
              "      <td>Sub-Saharan Africa</td>\n",
              "      <td>Endangered</td>\n",
              "      <td>Canidae</td>\n",
              "      <td>70</td>\n",
              "      <td>56</td>\n",
              "      <td>Group-based</td>\n",
              "      <td>10-12</td>\n",
              "    </tr>\n",
              "  </tbody>\n",
              "</table>\n",
              "</div>\n",
              "    <div class=\"colab-df-buttons\">\n",
              "\n",
              "  <div class=\"colab-df-container\">\n",
              "    <button class=\"colab-df-convert\" onclick=\"convertToInteractive('df-06c81261-28e9-4f61-9885-1a4898de237a')\"\n",
              "            title=\"Convert this dataframe to an interactive table.\"\n",
              "            style=\"display:none;\">\n",
              "\n",
              "  <svg xmlns=\"http://www.w3.org/2000/svg\" height=\"24px\" viewBox=\"0 -960 960 960\">\n",
              "    <path d=\"M120-120v-720h720v720H120Zm60-500h600v-160H180v160Zm220 220h160v-160H400v160Zm0 220h160v-160H400v160ZM180-400h160v-160H180v160Zm440 0h160v-160H620v160ZM180-180h160v-160H180v160Zm440 0h160v-160H620v160Z\"/>\n",
              "  </svg>\n",
              "    </button>\n",
              "\n",
              "  <style>\n",
              "    .colab-df-container {\n",
              "      display:flex;\n",
              "      gap: 12px;\n",
              "    }\n",
              "\n",
              "    .colab-df-convert {\n",
              "      background-color: #E8F0FE;\n",
              "      border: none;\n",
              "      border-radius: 50%;\n",
              "      cursor: pointer;\n",
              "      display: none;\n",
              "      fill: #1967D2;\n",
              "      height: 32px;\n",
              "      padding: 0 0 0 0;\n",
              "      width: 32px;\n",
              "    }\n",
              "\n",
              "    .colab-df-convert:hover {\n",
              "      background-color: #E2EBFA;\n",
              "      box-shadow: 0px 1px 2px rgba(60, 64, 67, 0.3), 0px 1px 3px 1px rgba(60, 64, 67, 0.15);\n",
              "      fill: #174EA6;\n",
              "    }\n",
              "\n",
              "    .colab-df-buttons div {\n",
              "      margin-bottom: 4px;\n",
              "    }\n",
              "\n",
              "    [theme=dark] .colab-df-convert {\n",
              "      background-color: #3B4455;\n",
              "      fill: #D2E3FC;\n",
              "    }\n",
              "\n",
              "    [theme=dark] .colab-df-convert:hover {\n",
              "      background-color: #434B5C;\n",
              "      box-shadow: 0px 1px 3px 1px rgba(0, 0, 0, 0.15);\n",
              "      filter: drop-shadow(0px 1px 2px rgba(0, 0, 0, 0.3));\n",
              "      fill: #FFFFFF;\n",
              "    }\n",
              "  </style>\n",
              "\n",
              "    <script>\n",
              "      const buttonEl =\n",
              "        document.querySelector('#df-06c81261-28e9-4f61-9885-1a4898de237a button.colab-df-convert');\n",
              "      buttonEl.style.display =\n",
              "        google.colab.kernel.accessAllowed ? 'block' : 'none';\n",
              "\n",
              "      async function convertToInteractive(key) {\n",
              "        const element = document.querySelector('#df-06c81261-28e9-4f61-9885-1a4898de237a');\n",
              "        const dataTable =\n",
              "          await google.colab.kernel.invokeFunction('convertToInteractive',\n",
              "                                                    [key], {});\n",
              "        if (!dataTable) return;\n",
              "\n",
              "        const docLinkHtml = 'Like what you see? Visit the ' +\n",
              "          '<a target=\"_blank\" href=https://colab.research.google.com/notebooks/data_table.ipynb>data table notebook</a>'\n",
              "          + ' to learn more about interactive tables.';\n",
              "        element.innerHTML = '';\n",
              "        dataTable['output_type'] = 'display_data';\n",
              "        await google.colab.output.renderOutput(dataTable, element);\n",
              "        const docLink = document.createElement('div');\n",
              "        docLink.innerHTML = docLinkHtml;\n",
              "        element.appendChild(docLink);\n",
              "      }\n",
              "    </script>\n",
              "  </div>\n",
              "\n",
              "\n",
              "<div id=\"df-1fec48d3-da31-4787-b74b-4582ef025b2b\">\n",
              "  <button class=\"colab-df-quickchart\" onclick=\"quickchart('df-1fec48d3-da31-4787-b74b-4582ef025b2b')\"\n",
              "            title=\"Suggest charts.\"\n",
              "            style=\"display:none;\">\n",
              "\n",
              "<svg xmlns=\"http://www.w3.org/2000/svg\" height=\"24px\"viewBox=\"0 0 24 24\"\n",
              "     width=\"24px\">\n",
              "    <g>\n",
              "        <path d=\"M19 3H5c-1.1 0-2 .9-2 2v14c0 1.1.9 2 2 2h14c1.1 0 2-.9 2-2V5c0-1.1-.9-2-2-2zM9 17H7v-7h2v7zm4 0h-2V7h2v10zm4 0h-2v-4h2v4z\"/>\n",
              "    </g>\n",
              "</svg>\n",
              "  </button>\n",
              "\n",
              "<style>\n",
              "  .colab-df-quickchart {\n",
              "      --bg-color: #E8F0FE;\n",
              "      --fill-color: #1967D2;\n",
              "      --hover-bg-color: #E2EBFA;\n",
              "      --hover-fill-color: #174EA6;\n",
              "      --disabled-fill-color: #AAA;\n",
              "      --disabled-bg-color: #DDD;\n",
              "  }\n",
              "\n",
              "  [theme=dark] .colab-df-quickchart {\n",
              "      --bg-color: #3B4455;\n",
              "      --fill-color: #D2E3FC;\n",
              "      --hover-bg-color: #434B5C;\n",
              "      --hover-fill-color: #FFFFFF;\n",
              "      --disabled-bg-color: #3B4455;\n",
              "      --disabled-fill-color: #666;\n",
              "  }\n",
              "\n",
              "  .colab-df-quickchart {\n",
              "    background-color: var(--bg-color);\n",
              "    border: none;\n",
              "    border-radius: 50%;\n",
              "    cursor: pointer;\n",
              "    display: none;\n",
              "    fill: var(--fill-color);\n",
              "    height: 32px;\n",
              "    padding: 0;\n",
              "    width: 32px;\n",
              "  }\n",
              "\n",
              "  .colab-df-quickchart:hover {\n",
              "    background-color: var(--hover-bg-color);\n",
              "    box-shadow: 0 1px 2px rgba(60, 64, 67, 0.3), 0 1px 3px 1px rgba(60, 64, 67, 0.15);\n",
              "    fill: var(--button-hover-fill-color);\n",
              "  }\n",
              "\n",
              "  .colab-df-quickchart-complete:disabled,\n",
              "  .colab-df-quickchart-complete:disabled:hover {\n",
              "    background-color: var(--disabled-bg-color);\n",
              "    fill: var(--disabled-fill-color);\n",
              "    box-shadow: none;\n",
              "  }\n",
              "\n",
              "  .colab-df-spinner {\n",
              "    border: 2px solid var(--fill-color);\n",
              "    border-color: transparent;\n",
              "    border-bottom-color: var(--fill-color);\n",
              "    animation:\n",
              "      spin 1s steps(1) infinite;\n",
              "  }\n",
              "\n",
              "  @keyframes spin {\n",
              "    0% {\n",
              "      border-color: transparent;\n",
              "      border-bottom-color: var(--fill-color);\n",
              "      border-left-color: var(--fill-color);\n",
              "    }\n",
              "    20% {\n",
              "      border-color: transparent;\n",
              "      border-left-color: var(--fill-color);\n",
              "      border-top-color: var(--fill-color);\n",
              "    }\n",
              "    30% {\n",
              "      border-color: transparent;\n",
              "      border-left-color: var(--fill-color);\n",
              "      border-top-color: var(--fill-color);\n",
              "      border-right-color: var(--fill-color);\n",
              "    }\n",
              "    40% {\n",
              "      border-color: transparent;\n",
              "      border-right-color: var(--fill-color);\n",
              "      border-top-color: var(--fill-color);\n",
              "    }\n",
              "    60% {\n",
              "      border-color: transparent;\n",
              "      border-right-color: var(--fill-color);\n",
              "    }\n",
              "    80% {\n",
              "      border-color: transparent;\n",
              "      border-right-color: var(--fill-color);\n",
              "      border-bottom-color: var(--fill-color);\n",
              "    }\n",
              "    90% {\n",
              "      border-color: transparent;\n",
              "      border-bottom-color: var(--fill-color);\n",
              "    }\n",
              "  }\n",
              "</style>\n",
              "\n",
              "  <script>\n",
              "    async function quickchart(key) {\n",
              "      const quickchartButtonEl =\n",
              "        document.querySelector('#' + key + ' button');\n",
              "      quickchartButtonEl.disabled = true;  // To prevent multiple clicks.\n",
              "      quickchartButtonEl.classList.add('colab-df-spinner');\n",
              "      try {\n",
              "        const charts = await google.colab.kernel.invokeFunction(\n",
              "            'suggestCharts', [key], {});\n",
              "      } catch (error) {\n",
              "        console.error('Error during call to suggestCharts:', error);\n",
              "      }\n",
              "      quickchartButtonEl.classList.remove('colab-df-spinner');\n",
              "      quickchartButtonEl.classList.add('colab-df-quickchart-complete');\n",
              "    }\n",
              "    (() => {\n",
              "      let quickchartButtonEl =\n",
              "        document.querySelector('#df-1fec48d3-da31-4787-b74b-4582ef025b2b button');\n",
              "      quickchartButtonEl.style.display =\n",
              "        google.colab.kernel.accessAllowed ? 'block' : 'none';\n",
              "    })();\n",
              "  </script>\n",
              "</div>\n",
              "    </div>\n",
              "  </div>\n"
            ]
          },
          "metadata": {},
          "execution_count": 154
        }
      ]
    },
    {
      "cell_type": "code",
      "source": [
        "df.isnull().sum()"
      ],
      "metadata": {
        "colab": {
          "base_uri": "https://localhost:8080/"
        },
        "id": "Vc5Qj3BWmPMZ",
        "outputId": "799a5123-e12c-4357-8c27-5adc83a6ea64"
      },
      "execution_count": null,
      "outputs": [
        {
          "output_type": "execute_result",
          "data": {
            "text/plain": [
              "Animal                     0\n",
              "Height (cm)                0\n",
              "Weight (kg)                0\n",
              "Color                      0\n",
              "Lifespan (years)           0\n",
              "Diet                       0\n",
              "Habitat                    0\n",
              "Predators                  0\n",
              "Average Speed (km/h)       0\n",
              "Countries Found            0\n",
              "Conservation Status        0\n",
              "Family                     0\n",
              "Gestation Period (days)    0\n",
              "Top Speed (km/h)           0\n",
              "Social Structure           0\n",
              "Offspring per Birth        0\n",
              "dtype: int64"
            ]
          },
          "metadata": {},
          "execution_count": 155
        }
      ]
    },
    {
      "cell_type": "code",
      "source": [
        "!pip install catboost"
      ],
      "metadata": {
        "colab": {
          "base_uri": "https://localhost:8080/"
        },
        "id": "Ms_8946wmXBQ",
        "outputId": "87927f0f-e061-469e-b35d-c7bcc837ef4e"
      },
      "execution_count": null,
      "outputs": [
        {
          "output_type": "stream",
          "name": "stdout",
          "text": [
            "Requirement already satisfied: catboost in /usr/local/lib/python3.10/dist-packages (1.2.2)\n",
            "Requirement already satisfied: graphviz in /usr/local/lib/python3.10/dist-packages (from catboost) (0.20.1)\n",
            "Requirement already satisfied: matplotlib in /usr/local/lib/python3.10/dist-packages (from catboost) (3.7.1)\n",
            "Requirement already satisfied: numpy>=1.16.0 in /usr/local/lib/python3.10/dist-packages (from catboost) (1.23.5)\n",
            "Requirement already satisfied: pandas>=0.24 in /usr/local/lib/python3.10/dist-packages (from catboost) (1.5.3)\n",
            "Requirement already satisfied: scipy in /usr/local/lib/python3.10/dist-packages (from catboost) (1.11.3)\n",
            "Requirement already satisfied: plotly in /usr/local/lib/python3.10/dist-packages (from catboost) (5.15.0)\n",
            "Requirement already satisfied: six in /usr/local/lib/python3.10/dist-packages (from catboost) (1.16.0)\n",
            "Requirement already satisfied: python-dateutil>=2.8.1 in /usr/local/lib/python3.10/dist-packages (from pandas>=0.24->catboost) (2.8.2)\n",
            "Requirement already satisfied: pytz>=2020.1 in /usr/local/lib/python3.10/dist-packages (from pandas>=0.24->catboost) (2023.3.post1)\n",
            "Requirement already satisfied: contourpy>=1.0.1 in /usr/local/lib/python3.10/dist-packages (from matplotlib->catboost) (1.1.1)\n",
            "Requirement already satisfied: cycler>=0.10 in /usr/local/lib/python3.10/dist-packages (from matplotlib->catboost) (0.12.0)\n",
            "Requirement already satisfied: fonttools>=4.22.0 in /usr/local/lib/python3.10/dist-packages (from matplotlib->catboost) (4.43.0)\n",
            "Requirement already satisfied: kiwisolver>=1.0.1 in /usr/local/lib/python3.10/dist-packages (from matplotlib->catboost) (1.4.5)\n",
            "Requirement already satisfied: packaging>=20.0 in /usr/local/lib/python3.10/dist-packages (from matplotlib->catboost) (23.2)\n",
            "Requirement already satisfied: pillow>=6.2.0 in /usr/local/lib/python3.10/dist-packages (from matplotlib->catboost) (9.4.0)\n",
            "Requirement already satisfied: pyparsing>=2.3.1 in /usr/local/lib/python3.10/dist-packages (from matplotlib->catboost) (3.1.1)\n",
            "Requirement already satisfied: tenacity>=6.2.0 in /usr/local/lib/python3.10/dist-packages (from plotly->catboost) (8.2.3)\n"
          ]
        }
      ]
    },
    {
      "cell_type": "code",
      "source": [
        "!\n",
        "from sklearn.metrics import mean_squared_error\n",
        "\n",
        "from sklearn.preprocessing import LabelEncoder\n",
        "import xgboost as xg\n",
        "from sklearn.model_selection import train_test_split\n",
        "from sklearn.preprocessing import OneHotEncoder\n",
        "\n",
        "import catboost as cb"
      ],
      "metadata": {
        "id": "xT6HasoGmSFB"
      },
      "execution_count": null,
      "outputs": []
    },
    {
      "cell_type": "code",
      "source": [
        "le = LabelEncoder()\n",
        "df['Animal'] = le.fit_transform(df['Animal'])\n",
        "df['Height (cm)'] = le.fit_transform(df['Height (cm)'])\n",
        "df['Weight (kg)'] = le.fit_transform(df['Weight (kg)'])\n",
        "df['Color'] = le.fit_transform(df['Color'])\n",
        "df['Lifespan (years)'] = le.fit_transform(df['Lifespan (years)'])\n",
        "df['Diet'] = le.fit_transform(df['Diet'])\n",
        "df['Habitat'] = le.fit_transform(df['Habitat'])\n",
        "df['Predators'] = le.fit_transform(df['Predators'])\n",
        "df['Average Speed (km/h)'] = le.fit_transform(df['Average Speed (km/h)'])\n",
        "df['Countries Found'] = le.fit_transform(df['Countries Found'])\n",
        "df['Conservation Status'] = le.fit_transform(df['Conservation Status'])\n",
        "df['Gestation Period (days)'] = le.fit_transform(df['Gestation Period (days)'])\n",
        "df['Family'] = le.fit_transform(df['Family'])\n",
        "df['Social Structure'] = le.fit_transform(df['Social Structure'])\n",
        "df['Offspring per Birth'] = le.fit_transform(df['Offspring per Birth'])\n",
        "df['Top Speed (km/h)'] = le.fit_transform(df['Top Speed (km/h)'])"
      ],
      "metadata": {
        "id": "_Xe4vAM0mf8P"
      },
      "execution_count": null,
      "outputs": []
    },
    {
      "cell_type": "code",
      "source": [
        "X= df.drop(['Lifespan (years)'],axis=1)\n",
        "y = df['Lifespan (years)']"
      ],
      "metadata": {
        "id": "tNioQQ6GmjPG"
      },
      "execution_count": null,
      "outputs": []
    },
    {
      "cell_type": "code",
      "source": [
        "X_train,X_test,y_train,y_test = train_test_split(X,y,test_size=0.2)"
      ],
      "metadata": {
        "id": "5Fq5dalImlQY"
      },
      "execution_count": null,
      "outputs": []
    },
    {
      "cell_type": "code",
      "source": [
        "xgm = xg.XGBRegressor()\n",
        "xgm.fit(X_train,y_train)\n",
        "xgm.score(X_test,y_test)"
      ],
      "metadata": {
        "colab": {
          "base_uri": "https://localhost:8080/"
        },
        "id": "0afaU7U9mnOO",
        "outputId": "4a57f287-1b22-49b9-a321-53c23083a51f"
      },
      "execution_count": null,
      "outputs": [
        {
          "output_type": "execute_result",
          "data": {
            "text/plain": [
              "-0.08905409120361862"
            ]
          },
          "metadata": {},
          "execution_count": 161
        }
      ]
    },
    {
      "cell_type": "code",
      "source": [
        "cbm = cb.CatBoostRegressor(verbose=0)\n",
        "cbm.fit(X_train,y_train)\n",
        "cbm.score(X_test,y_test)"
      ],
      "metadata": {
        "colab": {
          "base_uri": "https://localhost:8080/"
        },
        "id": "qSWgU5BLmpbf",
        "outputId": "b3ea7d54-1453-4016-eeb6-1360db549600"
      },
      "execution_count": null,
      "outputs": [
        {
          "output_type": "execute_result",
          "data": {
            "text/plain": [
              "0.06045359781398274"
            ]
          },
          "metadata": {},
          "execution_count": 162
        }
      ]
    },
    {
      "cell_type": "code",
      "source": [
        "y_pred = cbm.predict(X_test)\n",
        "mse = mean_squared_error(y_test, y_pred)"
      ],
      "metadata": {
        "id": "vRRV6_B9msXn"
      },
      "execution_count": null,
      "outputs": []
    },
    {
      "cell_type": "code",
      "source": [
        "print(mse)"
      ],
      "metadata": {
        "colab": {
          "base_uri": "https://localhost:8080/"
        },
        "id": "zO2RAywmmubu",
        "outputId": "989fec1b-f899-4a88-8a6c-02f5fe91619e"
      },
      "execution_count": null,
      "outputs": [
        {
          "output_type": "stream",
          "name": "stdout",
          "text": [
            "739.3073218486213\n"
          ]
        }
      ]
    },
    {
      "cell_type": "code",
      "source": [
        "!pip install optuna\n",
        "import optuna"
      ],
      "metadata": {
        "colab": {
          "base_uri": "https://localhost:8080/"
        },
        "id": "UJzQbB1lmwWw",
        "outputId": "0c701f6b-c69f-49f5-a8c3-911b4f680b3c"
      },
      "execution_count": null,
      "outputs": [
        {
          "output_type": "stream",
          "name": "stdout",
          "text": [
            "Requirement already satisfied: optuna in /usr/local/lib/python3.10/dist-packages (3.3.0)\n",
            "Requirement already satisfied: alembic>=1.5.0 in /usr/local/lib/python3.10/dist-packages (from optuna) (1.12.0)\n",
            "Requirement already satisfied: cmaes>=0.10.0 in /usr/local/lib/python3.10/dist-packages (from optuna) (0.10.0)\n",
            "Requirement already satisfied: colorlog in /usr/local/lib/python3.10/dist-packages (from optuna) (6.7.0)\n",
            "Requirement already satisfied: numpy in /usr/local/lib/python3.10/dist-packages (from optuna) (1.23.5)\n",
            "Requirement already satisfied: packaging>=20.0 in /usr/local/lib/python3.10/dist-packages (from optuna) (23.2)\n",
            "Requirement already satisfied: sqlalchemy>=1.3.0 in /usr/local/lib/python3.10/dist-packages (from optuna) (2.0.21)\n",
            "Requirement already satisfied: tqdm in /usr/local/lib/python3.10/dist-packages (from optuna) (4.66.1)\n",
            "Requirement already satisfied: PyYAML in /usr/local/lib/python3.10/dist-packages (from optuna) (6.0.1)\n",
            "Requirement already satisfied: Mako in /usr/local/lib/python3.10/dist-packages (from alembic>=1.5.0->optuna) (1.2.4)\n",
            "Requirement already satisfied: typing-extensions>=4 in /usr/local/lib/python3.10/dist-packages (from alembic>=1.5.0->optuna) (4.5.0)\n",
            "Requirement already satisfied: greenlet!=0.4.17 in /usr/local/lib/python3.10/dist-packages (from sqlalchemy>=1.3.0->optuna) (3.0.0)\n",
            "Requirement already satisfied: MarkupSafe>=0.9.2 in /usr/local/lib/python3.10/dist-packages (from Mako->alembic>=1.5.0->optuna) (2.1.3)\n"
          ]
        }
      ]
    },
    {
      "cell_type": "code",
      "source": [
        " def objective(trial):\n",
        "\n",
        "    params = {\n",
        "        'iterations': trial.suggest_int('iterations', 100, 1000),\n",
        "        'learning_rate': trial.suggest_float('learning_rate', 0.01, 0.3),\n",
        "        'depth': trial.suggest_int('depth', 4, 10),\n",
        "        'l2_leaf_reg': trial.suggest_float('l2_leaf_reg', 1e-6, 10, log=True),\n",
        "        'bagging_temperature': trial.suggest_float('bagging_temperature', 0.0, 1.0),\n",
        "    }\n",
        "\n",
        "    # Initialize and train CatBoostRegressor with suggested hyperparameters\n",
        "    model = cb.CatBoostRegressor(**params, verbose=False)\n",
        "    model.fit(X_train, y_train, eval_set=(X_test, y_test))\n",
        "\n",
        "    # Evaluate the model using mean squared error\n",
        "    y_pred = model.predict(X_test)\n",
        "    mse = mean_squared_error(y_test, y_pred)\n",
        "\n",
        "    return mse\n",
        "\n",
        "# Create an Optuna study and optimize the objective function\n",
        "study = optuna.create_study(direction='minimize')\n",
        "study.optimize(objective, n_trials=100)  # You can adjust n_trials as needed\n",
        "\n",
        "# Get the best hyperparameters\n",
        "best_params = study.best_params\n",
        "best_mse = study.best_value\n",
        "\n",
        "print(f\"Best Hyperparameters: {best_params}\")\n",
        "print(f\"Best Mean Squared Error: {best_mse}\")\n",
        "\n",
        "# Train a final model with the best hyperparameters\n",
        "final_model = cb.CatBoostRegressor(**best_params, verbose=False)\n",
        "final_model.fit(X_train, y_train)  # Train on the entire dataset"
      ],
      "metadata": {
        "colab": {
          "base_uri": "https://localhost:8080/"
        },
        "id": "1LBjyo0xm6BG",
        "outputId": "6d4ac27e-2a9f-4e9c-e53f-2fe98ea12937"
      },
      "execution_count": null,
      "outputs": [
        {
          "output_type": "stream",
          "name": "stderr",
          "text": [
            "[I 2023-10-07 12:16:05,162] A new study created in memory with name: no-name-30ac4589-1dd1-4041-bd50-746596907302\n",
            "[I 2023-10-07 12:16:05,684] Trial 0 finished with value: 716.7638875843802 and parameters: {'iterations': 812, 'learning_rate': 0.29204587283714245, 'depth': 4, 'l2_leaf_reg': 0.18654706993012957, 'bagging_temperature': 0.28742718453096605}. Best is trial 0 with value: 716.7638875843802.\n",
            "[I 2023-10-07 12:16:06,518] Trial 1 finished with value: 731.5873630106694 and parameters: {'iterations': 217, 'learning_rate': 0.0803245208090863, 'depth': 8, 'l2_leaf_reg': 0.007163870375523045, 'bagging_temperature': 0.20289715800886532}. Best is trial 0 with value: 716.7638875843802.\n",
            "[I 2023-10-07 12:16:08,357] Trial 2 finished with value: 695.915419476913 and parameters: {'iterations': 407, 'learning_rate': 0.1040516193363673, 'depth': 8, 'l2_leaf_reg': 0.0007931066897871959, 'bagging_temperature': 0.6070295934749415}. Best is trial 2 with value: 695.915419476913.\n",
            "[I 2023-10-07 12:16:11,488] Trial 3 finished with value: 756.237435346748 and parameters: {'iterations': 327, 'learning_rate': 0.22085499899881816, 'depth': 9, 'l2_leaf_reg': 0.005309238920315107, 'bagging_temperature': 0.8883355601516417}. Best is trial 2 with value: 695.915419476913.\n",
            "[I 2023-10-07 12:16:12,876] Trial 4 finished with value: 711.9845678359546 and parameters: {'iterations': 353, 'learning_rate': 0.13325216162696843, 'depth': 6, 'l2_leaf_reg': 0.010502343750171362, 'bagging_temperature': 0.674421921478751}. Best is trial 2 with value: 695.915419476913.\n",
            "[I 2023-10-07 12:16:13,363] Trial 5 finished with value: 692.1697421338959 and parameters: {'iterations': 103, 'learning_rate': 0.04409469896809115, 'depth': 8, 'l2_leaf_reg': 0.04122843583681623, 'bagging_temperature': 0.9561309418453156}. Best is trial 5 with value: 692.1697421338959.\n",
            "[I 2023-10-07 12:16:14,193] Trial 6 finished with value: 791.7407946499458 and parameters: {'iterations': 116, 'learning_rate': 0.27151954845897386, 'depth': 9, 'l2_leaf_reg': 3.363679919760228e-05, 'bagging_temperature': 0.8101637098345191}. Best is trial 5 with value: 692.1697421338959.\n",
            "[I 2023-10-07 12:16:16,358] Trial 7 finished with value: 710.780174034998 and parameters: {'iterations': 571, 'learning_rate': 0.013369812091782129, 'depth': 8, 'l2_leaf_reg': 5.615459741428934, 'bagging_temperature': 0.4411926480250432}. Best is trial 5 with value: 692.1697421338959.\n",
            "[I 2023-10-07 12:16:16,632] Trial 8 finished with value: 752.6723342831758 and parameters: {'iterations': 274, 'learning_rate': 0.20383466256762442, 'depth': 5, 'l2_leaf_reg': 2.100253612001964e-06, 'bagging_temperature': 0.38982155218491243}. Best is trial 5 with value: 692.1697421338959.\n",
            "[I 2023-10-07 12:16:18,172] Trial 9 finished with value: 752.8798169987034 and parameters: {'iterations': 706, 'learning_rate': 0.14880727171026056, 'depth': 7, 'l2_leaf_reg': 0.0011764580504566927, 'bagging_temperature': 0.3580748180049884}. Best is trial 5 with value: 692.1697421338959.\n",
            "[I 2023-10-07 12:16:42,050] Trial 10 finished with value: 694.8461773836543 and parameters: {'iterations': 905, 'learning_rate': 0.023049833171499196, 'depth': 10, 'l2_leaf_reg': 0.26029727745501496, 'bagging_temperature': 0.9873006943871129}. Best is trial 5 with value: 692.1697421338959.\n",
            "[I 2023-10-07 12:16:58,350] Trial 11 finished with value: 709.526991888889 and parameters: {'iterations': 986, 'learning_rate': 0.012288195033154647, 'depth': 10, 'l2_leaf_reg': 0.20701541062493037, 'bagging_temperature': 0.9443040737231305}. Best is trial 5 with value: 692.1697421338959.\n",
            "[I 2023-10-07 12:17:10,206] Trial 12 finished with value: 667.4577794791817 and parameters: {'iterations': 913, 'learning_rate': 0.058447734155757367, 'depth': 10, 'l2_leaf_reg': 0.28070203129582294, 'bagging_temperature': 0.9776836844707886}. Best is trial 12 with value: 667.4577794791817.\n",
            "[I 2023-10-07 12:17:16,689] Trial 13 finished with value: 696.5322669201308 and parameters: {'iterations': 531, 'learning_rate': 0.06675599547137487, 'depth': 10, 'l2_leaf_reg': 7.85110164103345, 'bagging_temperature': 0.7825250807206154}. Best is trial 12 with value: 667.4577794791817.\n",
            "[I 2023-10-07 12:17:19,632] Trial 14 finished with value: 689.8447760823515 and parameters: {'iterations': 653, 'learning_rate': 0.05696321073419451, 'depth': 7, 'l2_leaf_reg': 0.03670653810916142, 'bagging_temperature': 0.9957012271915218}. Best is trial 12 with value: 667.4577794791817.\n",
            "[I 2023-10-07 12:17:20,617] Trial 15 finished with value: 677.4650406332302 and parameters: {'iterations': 709, 'learning_rate': 0.09947598831073888, 'depth': 6, 'l2_leaf_reg': 1.194572194156968, 'bagging_temperature': 0.015431389387813632}. Best is trial 12 with value: 667.4577794791817.\n",
            "[I 2023-10-07 12:17:21,757] Trial 16 finished with value: 702.465766879764 and parameters: {'iterations': 826, 'learning_rate': 0.09668607249425931, 'depth': 6, 'l2_leaf_reg': 1.4303512961194649, 'bagging_temperature': 0.14243655575098269}. Best is trial 12 with value: 667.4577794791817.\n",
            "[I 2023-10-07 12:17:22,458] Trial 17 finished with value: 669.9522556423717 and parameters: {'iterations': 757, 'learning_rate': 0.11761725974600892, 'depth': 5, 'l2_leaf_reg': 1.8134761455330861, 'bagging_temperature': 0.05759851317541604}. Best is trial 12 with value: 667.4577794791817.\n",
            "[I 2023-10-07 12:17:23,100] Trial 18 finished with value: 715.3267937909847 and parameters: {'iterations': 971, 'learning_rate': 0.12658366255833717, 'depth': 4, 'l2_leaf_reg': 1.0483472735787622, 'bagging_temperature': 0.5348290240131827}. Best is trial 12 with value: 667.4577794791817.\n",
            "[I 2023-10-07 12:17:23,892] Trial 19 finished with value: 655.3980478155863 and parameters: {'iterations': 817, 'learning_rate': 0.17337390151497076, 'depth': 5, 'l2_leaf_reg': 9.083971985245956, 'bagging_temperature': 0.5407371279796578}. Best is trial 19 with value: 655.3980478155863.\n",
            "[I 2023-10-07 12:17:24,689] Trial 20 finished with value: 661.163929764329 and parameters: {'iterations': 846, 'learning_rate': 0.17957922745098287, 'depth': 5, 'l2_leaf_reg': 7.739462469386847, 'bagging_temperature': 0.67683143447722}. Best is trial 19 with value: 655.3980478155863.\n",
            "[I 2023-10-07 12:17:25,538] Trial 21 finished with value: 659.5634711100804 and parameters: {'iterations': 879, 'learning_rate': 0.18381546605172314, 'depth': 5, 'l2_leaf_reg': 9.05595609627019, 'bagging_temperature': 0.6915205295537851}. Best is trial 19 with value: 655.3980478155863.\n",
            "[I 2023-10-07 12:17:26,353] Trial 22 finished with value: 667.404037979611 and parameters: {'iterations': 863, 'learning_rate': 0.1765182355704577, 'depth': 5, 'l2_leaf_reg': 8.859254594112144, 'bagging_temperature': 0.6806903546016887}. Best is trial 19 with value: 655.3980478155863.\n",
            "[I 2023-10-07 12:17:26,769] Trial 23 finished with value: 707.8819728124301 and parameters: {'iterations': 607, 'learning_rate': 0.15918827415983536, 'depth': 4, 'l2_leaf_reg': 8.271070832245067, 'bagging_temperature': 0.5472855026647178}. Best is trial 19 with value: 655.3980478155863.\n",
            "[I 2023-10-07 12:17:27,523] Trial 24 finished with value: 711.77957802758 and parameters: {'iterations': 772, 'learning_rate': 0.1847236002315981, 'depth': 5, 'l2_leaf_reg': 2.6247356213741724, 'bagging_temperature': 0.4898824638021473}. Best is trial 19 with value: 655.3980478155863.\n",
            "[I 2023-10-07 12:17:28,236] Trial 25 finished with value: 704.5513983547778 and parameters: {'iterations': 486, 'learning_rate': 0.22084311196521825, 'depth': 6, 'l2_leaf_reg': 0.5597221100366139, 'bagging_temperature': 0.6346003291140733}. Best is trial 19 with value: 655.3980478155863.\n",
            "[I 2023-10-07 12:17:29,083] Trial 26 finished with value: 703.9216301588567 and parameters: {'iterations': 914, 'learning_rate': 0.15973335264166663, 'depth': 5, 'l2_leaf_reg': 2.3645822740419056, 'bagging_temperature': 0.7365491803167381}. Best is trial 19 with value: 655.3980478155863.\n",
            "[I 2023-10-07 12:17:29,541] Trial 27 finished with value: 671.3000509653432 and parameters: {'iterations': 665, 'learning_rate': 0.18781502717991624, 'depth': 4, 'l2_leaf_reg': 3.2883429253197294, 'bagging_temperature': 0.606632956321819}. Best is trial 19 with value: 655.3980478155863.\n",
            "[I 2023-10-07 12:17:33,196] Trial 28 finished with value: 734.5738320818083 and parameters: {'iterations': 1000, 'learning_rate': 0.14289576299898196, 'depth': 7, 'l2_leaf_reg': 0.9862278823507121, 'bagging_temperature': 0.7204391714534139}. Best is trial 19 with value: 655.3980478155863.\n",
            "[I 2023-10-07 12:17:33,729] Trial 29 finished with value: 642.8533914509087 and parameters: {'iterations': 808, 'learning_rate': 0.23804209677610985, 'depth': 4, 'l2_leaf_reg': 0.11625822417723505, 'bagging_temperature': 0.5662093311645253}. Best is trial 29 with value: 642.8533914509087.\n",
            "[I 2023-10-07 12:17:34,240] Trial 30 finished with value: 644.8468112284885 and parameters: {'iterations': 776, 'learning_rate': 0.24548111580351956, 'depth': 4, 'l2_leaf_reg': 0.10471310112653269, 'bagging_temperature': 0.5668168408961701}. Best is trial 29 with value: 642.8533914509087.\n",
            "[I 2023-10-07 12:17:34,731] Trial 31 finished with value: 635.4459919463854 and parameters: {'iterations': 777, 'learning_rate': 0.25870765333464035, 'depth': 4, 'l2_leaf_reg': 0.12898845203882414, 'bagging_temperature': 0.5661895257857371}. Best is trial 31 with value: 635.4459919463854.\n",
            "[I 2023-10-07 12:17:35,281] Trial 32 finished with value: 635.0012570284393 and parameters: {'iterations': 780, 'learning_rate': 0.25863599023164613, 'depth': 4, 'l2_leaf_reg': 0.09855474658930195, 'bagging_temperature': 0.4946501867713284}. Best is trial 32 with value: 635.0012570284393.\n",
            "[I 2023-10-07 12:17:35,775] Trial 33 finished with value: 696.3872816200317 and parameters: {'iterations': 767, 'learning_rate': 0.26343572203316046, 'depth': 4, 'l2_leaf_reg': 0.06719954820676366, 'bagging_temperature': 0.48430291051096686}. Best is trial 32 with value: 635.0012570284393.\n",
            "[I 2023-10-07 12:17:36,269] Trial 34 finished with value: 644.611925029687 and parameters: {'iterations': 746, 'learning_rate': 0.24758885706039924, 'depth': 4, 'l2_leaf_reg': 0.09706580717848681, 'bagging_temperature': 0.596208883227219}. Best is trial 32 with value: 635.0012570284393.\n",
            "[I 2023-10-07 12:17:36,715] Trial 35 finished with value: 625.5454652669171 and parameters: {'iterations': 718, 'learning_rate': 0.29500118024224636, 'depth': 4, 'l2_leaf_reg': 0.016562315686847937, 'bagging_temperature': 0.6118294794788087}. Best is trial 35 with value: 625.5454652669171.\n",
            "[I 2023-10-07 12:17:37,150] Trial 36 finished with value: 691.5214463606687 and parameters: {'iterations': 633, 'learning_rate': 0.29975264864642664, 'depth': 4, 'l2_leaf_reg': 0.017250931881545455, 'bagging_temperature': 0.4584571336622393}. Best is trial 35 with value: 625.5454652669171.\n",
            "[I 2023-10-07 12:17:37,496] Trial 37 finished with value: 686.7896277668262 and parameters: {'iterations': 495, 'learning_rate': 0.2826369632123416, 'depth': 4, 'l2_leaf_reg': 0.017322443238793554, 'bagging_temperature': 0.6371858912403308}. Best is trial 35 with value: 625.5454652669171.\n",
            "[I 2023-10-07 12:17:37,988] Trial 38 finished with value: 637.5686870320326 and parameters: {'iterations': 703, 'learning_rate': 0.2952705745206667, 'depth': 4, 'l2_leaf_reg': 0.0055935015117657225, 'bagging_temperature': 0.3038973248912346}. Best is trial 35 with value: 625.5454652669171.\n",
            "[I 2023-10-07 12:17:38,963] Trial 39 finished with value: 759.2494728420818 and parameters: {'iterations': 700, 'learning_rate': 0.284392447411807, 'depth': 6, 'l2_leaf_reg': 0.0033435957596661212, 'bagging_temperature': 0.286096252784769}. Best is trial 35 with value: 625.5454652669171.\n",
            "[I 2023-10-07 12:17:39,371] Trial 40 finished with value: 710.4543879848586 and parameters: {'iterations': 586, 'learning_rate': 0.2699627430683733, 'depth': 4, 'l2_leaf_reg': 0.0018807052472432479, 'bagging_temperature': 0.4222439159480572}. Best is trial 35 with value: 625.5454652669171.\n",
            "[I 2023-10-07 12:17:39,819] Trial 41 finished with value: 634.2130867451901 and parameters: {'iterations': 700, 'learning_rate': 0.297052640917692, 'depth': 4, 'l2_leaf_reg': 0.006474199760084266, 'bagging_temperature': 0.505324817507443}. Best is trial 35 with value: 625.5454652669171.\n",
            "[I 2023-10-07 12:17:40,283] Trial 42 finished with value: 610.902725504503 and parameters: {'iterations': 691, 'learning_rate': 0.2980633069002567, 'depth': 4, 'l2_leaf_reg': 0.00549166422679316, 'bagging_temperature': 0.3401046805784017}. Best is trial 42 with value: 610.902725504503.\n",
            "[I 2023-10-07 12:17:40,721] Trial 43 finished with value: 686.7585606542663 and parameters: {'iterations': 672, 'learning_rate': 0.28283314049954184, 'depth': 4, 'l2_leaf_reg': 0.009832561258237525, 'bagging_temperature': 0.4824537929362338}. Best is trial 42 with value: 610.902725504503.\n",
            "[I 2023-10-07 12:17:41,331] Trial 44 finished with value: 692.3914303279223 and parameters: {'iterations': 626, 'learning_rate': 0.26468260343252886, 'depth': 5, 'l2_leaf_reg': 0.0359385303561722, 'bagging_temperature': 0.3961886713705821}. Best is trial 42 with value: 610.902725504503.\n",
            "[I 2023-10-07 12:17:47,178] Trial 45 finished with value: 737.4466536018423 and parameters: {'iterations': 539, 'learning_rate': 0.29852469684709865, 'depth': 9, 'l2_leaf_reg': 0.00041824487754394595, 'bagging_temperature': 0.4362037066533825}. Best is trial 42 with value: 610.902725504503.\n",
            "[I 2023-10-07 12:17:48,038] Trial 46 finished with value: 687.0469263062461 and parameters: {'iterations': 737, 'learning_rate': 0.2834048435977841, 'depth': 4, 'l2_leaf_reg': 0.019951726528395428, 'bagging_temperature': 0.5057117846647708}. Best is trial 42 with value: 610.902725504503.\n",
            "[I 2023-10-07 12:17:48,511] Trial 47 finished with value: 729.5870166557941 and parameters: {'iterations': 444, 'learning_rate': 0.26220050469823, 'depth': 5, 'l2_leaf_reg': 0.006506235550874745, 'bagging_temperature': 0.360256502434773}. Best is trial 42 with value: 610.902725504503.\n",
            "[I 2023-10-07 12:17:48,701] Trial 48 finished with value: 711.9877099508386 and parameters: {'iterations': 213, 'learning_rate': 0.27520617532094893, 'depth': 4, 'l2_leaf_reg': 0.04280271993420385, 'bagging_temperature': 0.5155314635089014}. Best is trial 42 with value: 610.902725504503.\n",
            "[I 2023-10-07 12:17:49,449] Trial 49 finished with value: 775.680901306979 and parameters: {'iterations': 798, 'learning_rate': 0.29921101175549986, 'depth': 5, 'l2_leaf_reg': 0.25039553278543103, 'bagging_temperature': 0.5937594977373738}. Best is trial 42 with value: 610.902725504503.\n",
            "[I 2023-10-07 12:17:52,106] Trial 50 finished with value: 779.5694312388314 and parameters: {'iterations': 720, 'learning_rate': 0.2527118225178431, 'depth': 8, 'l2_leaf_reg': 0.0033370330210830746, 'bagging_temperature': 0.4226962261009177}. Best is trial 42 with value: 610.902725504503.\n",
            "[I 2023-10-07 12:17:52,575] Trial 51 finished with value: 658.388259249504 and parameters: {'iterations': 682, 'learning_rate': 0.28969688131236593, 'depth': 4, 'l2_leaf_reg': 0.006139234338773442, 'bagging_temperature': 0.2920735942855909}. Best is trial 42 with value: 610.902725504503.\n",
            "[I 2023-10-07 12:17:52,975] Trial 52 finished with value: 711.238604816322 and parameters: {'iterations': 583, 'learning_rate': 0.27553882375646266, 'depth': 4, 'l2_leaf_reg': 0.013214554238943483, 'bagging_temperature': 0.30755424134208703}. Best is trial 42 with value: 610.902725504503.\n",
            "[I 2023-10-07 12:17:53,447] Trial 53 finished with value: 658.2048593685201 and parameters: {'iterations': 720, 'learning_rate': 0.2891139866110974, 'depth': 4, 'l2_leaf_reg': 0.0014447841957538133, 'bagging_temperature': 0.3469131336499081}. Best is trial 42 with value: 610.902725504503.\n",
            "[I 2023-10-07 12:17:54,219] Trial 54 finished with value: 710.2448235450439 and parameters: {'iterations': 839, 'learning_rate': 0.2748899867853236, 'depth': 5, 'l2_leaf_reg': 0.0296812957728451, 'bagging_temperature': 0.21964883525895135}. Best is trial 42 with value: 610.902725504503.\n",
            "[I 2023-10-07 12:17:54,656] Trial 55 finished with value: 691.3007227686521 and parameters: {'iterations': 641, 'learning_rate': 0.2993023054078802, 'depth': 4, 'l2_leaf_reg': 0.011092898264702932, 'bagging_temperature': 0.4685502316242987}. Best is trial 42 with value: 610.902725504503.\n",
            "[I 2023-10-07 12:17:55,223] Trial 56 finished with value: 634.4731135558501 and parameters: {'iterations': 888, 'learning_rate': 0.25889255679278406, 'depth': 4, 'l2_leaf_reg': 0.06518535741087957, 'bagging_temperature': 0.5248880838491}. Best is trial 42 with value: 610.902725504503.\n",
            "[I 2023-10-07 12:17:57,383] Trial 57 finished with value: 772.2683487086285 and parameters: {'iterations': 965, 'learning_rate': 0.2573646209331228, 'depth': 5, 'l2_leaf_reg': 0.057687209868862784, 'bagging_temperature': 0.5197650572167245}. Best is trial 42 with value: 610.902725504503.\n",
            "[I 2023-10-07 12:17:58,825] Trial 58 finished with value: 728.787220393281 and parameters: {'iterations': 895, 'learning_rate': 0.23576427211172296, 'depth': 6, 'l2_leaf_reg': 0.13220675898650205, 'bagging_temperature': 0.5513778059683364}. Best is trial 42 with value: 610.902725504503.\n",
            "[I 2023-10-07 12:17:59,437] Trial 59 finished with value: 657.1646094745555 and parameters: {'iterations': 940, 'learning_rate': 0.2548643090830804, 'depth': 4, 'l2_leaf_reg': 0.3805525301481356, 'bagging_temperature': 0.4436294333061152}. Best is trial 42 with value: 610.902725504503.\n",
            "[I 2023-10-07 12:18:00,192] Trial 60 finished with value: 693.211156514715 and parameters: {'iterations': 788, 'learning_rate': 0.27323082361526585, 'depth': 5, 'l2_leaf_reg': 0.16657245481591637, 'bagging_temperature': 0.5190785701553955}. Best is trial 42 with value: 610.902725504503.\n",
            "[I 2023-10-07 12:18:00,760] Trial 61 finished with value: 689.0179306892909 and parameters: {'iterations': 855, 'learning_rate': 0.28718715132326167, 'depth': 4, 'l2_leaf_reg': 0.06229954796370945, 'bagging_temperature': 0.630905521412928}. Best is trial 42 with value: 610.902725504503.\n",
            "[I 2023-10-07 12:18:01,234] Trial 62 finished with value: 694.1365950343245 and parameters: {'iterations': 696, 'learning_rate': 0.26882176284685005, 'depth': 4, 'l2_leaf_reg': 0.029610270659216065, 'bagging_temperature': 0.4030180662740587}. Best is trial 42 with value: 610.902725504503.\n",
            "[I 2023-10-07 12:18:01,751] Trial 63 finished with value: 647.8848525619267 and parameters: {'iterations': 750, 'learning_rate': 0.29078528437107326, 'depth': 4, 'l2_leaf_reg': 0.004490316979012829, 'bagging_temperature': 0.46910944340350835}. Best is trial 42 with value: 610.902725504503.\n",
            "[I 2023-10-07 12:18:02,297] Trial 64 finished with value: 711.4990713214722 and parameters: {'iterations': 822, 'learning_rate': 0.2794535730830245, 'depth': 4, 'l2_leaf_reg': 0.009393086298462763, 'bagging_temperature': 0.5665469426273068}. Best is trial 42 with value: 610.902725504503.\n",
            "[I 2023-10-07 12:18:03,100] Trial 65 finished with value: 743.77714776861 and parameters: {'iterations': 881, 'learning_rate': 0.2622065120247631, 'depth': 5, 'l2_leaf_reg': 0.021274170624517787, 'bagging_temperature': 0.6479953726287829}. Best is trial 42 with value: 610.902725504503.\n",
            "[I 2023-10-07 12:18:03,520] Trial 66 finished with value: 644.2769400545214 and parameters: {'iterations': 611, 'learning_rate': 0.2938222371365544, 'depth': 4, 'l2_leaf_reg': 0.006388082283389503, 'bagging_temperature': 0.58796625480082}. Best is trial 42 with value: 610.902725504503.\n",
            "[I 2023-10-07 12:18:03,971] Trial 67 finished with value: 657.2625245710393 and parameters: {'iterations': 658, 'learning_rate': 0.2237139988032265, 'depth': 4, 'l2_leaf_reg': 0.0022309466426525776, 'bagging_temperature': 0.5332552987485636}. Best is trial 42 with value: 610.902725504503.\n",
            "[I 2023-10-07 12:18:04,672] Trial 68 finished with value: 712.9392742056942 and parameters: {'iterations': 742, 'learning_rate': 0.2690040341599762, 'depth': 5, 'l2_leaf_reg': 0.0007081121257297469, 'bagging_temperature': 0.486649061983898}. Best is trial 42 with value: 610.902725504503.\n",
            "[I 2023-10-07 12:18:05,285] Trial 69 finished with value: 686.6427337291047 and parameters: {'iterations': 934, 'learning_rate': 0.2912682505107562, 'depth': 4, 'l2_leaf_reg': 0.0763819015104184, 'bagging_temperature': 0.369890609544535}. Best is trial 42 with value: 610.902725504503.\n",
            "[I 2023-10-07 12:18:06,022] Trial 70 finished with value: 745.8819079763487 and parameters: {'iterations': 797, 'learning_rate': 0.2784010721735237, 'depth': 5, 'l2_leaf_reg': 0.139303536882461, 'bagging_temperature': 0.5699368912876108}. Best is trial 42 with value: 610.902725504503.\n",
            "[I 2023-10-07 12:18:06,562] Trial 71 finished with value: 656.0424550464825 and parameters: {'iterations': 812, 'learning_rate': 0.24265529683931128, 'depth': 4, 'l2_leaf_reg': 0.10266328227708012, 'bagging_temperature': 0.558944349116824}. Best is trial 42 with value: 610.902725504503.\n",
            "[I 2023-10-07 12:18:07,070] Trial 72 finished with value: 644.7686712021998 and parameters: {'iterations': 772, 'learning_rate': 0.2412260288823242, 'depth': 4, 'l2_leaf_reg': 0.04687593880852795, 'bagging_temperature': 0.620259129528246}. Best is trial 42 with value: 610.902725504503.\n",
            "[I 2023-10-07 12:18:14,538] Trial 73 finished with value: 737.7377969558179 and parameters: {'iterations': 861, 'learning_rate': 0.2542631458043002, 'depth': 9, 'l2_leaf_reg': 0.2191609474583385, 'bagging_temperature': 0.5956639451419694}. Best is trial 42 with value: 610.902725504503.\n",
            "[I 2023-10-07 12:18:15,072] Trial 74 finished with value: 710.5065493452847 and parameters: {'iterations': 724, 'learning_rate': 0.26216641931625767, 'depth': 4, 'l2_leaf_reg': 0.024072138565311582, 'bagging_temperature': 0.5020198005192003}. Best is trial 42 with value: 610.902725504503.\n",
            "[I 2023-10-07 12:18:15,640] Trial 75 finished with value: 666.1442239550619 and parameters: {'iterations': 836, 'learning_rate': 0.2814930435404373, 'depth': 4, 'l2_leaf_reg': 0.3989167261203972, 'bagging_temperature': 0.5336353863379336}. Best is trial 42 with value: 610.902725504503.\n",
            "[I 2023-10-07 12:18:16,130] Trial 76 finished with value: 656.2451152694505 and parameters: {'iterations': 683, 'learning_rate': 0.23348455461669887, 'depth': 4, 'l2_leaf_reg': 0.014486337487969398, 'bagging_temperature': 0.6687917299133002}. Best is trial 42 with value: 610.902725504503.\n",
            "[I 2023-10-07 12:18:16,660] Trial 77 finished with value: 655.2911210423822 and parameters: {'iterations': 808, 'learning_rate': 0.2483825345554669, 'depth': 4, 'l2_leaf_reg': 0.08037711545141589, 'bagging_temperature': 0.45781550615018374}. Best is trial 42 with value: 610.902725504503.\n",
            "[I 2023-10-07 12:18:17,205] Trial 78 finished with value: 710.6677804776798 and parameters: {'iterations': 561, 'learning_rate': 0.2693079186123986, 'depth': 5, 'l2_leaf_reg': 0.16098380292099285, 'bagging_temperature': 0.61062470548448}. Best is trial 42 with value: 610.902725504503.\n",
            "[I 2023-10-07 12:18:17,661] Trial 79 finished with value: 637.6243501699308 and parameters: {'iterations': 702, 'learning_rate': 0.295177527465229, 'depth': 4, 'l2_leaf_reg': 0.009046274312733813, 'bagging_temperature': 0.4125730564663658}. Best is trial 42 with value: 610.902725504503.\n",
            "[I 2023-10-07 12:18:20,268] Trial 80 finished with value: 732.6112021446232 and parameters: {'iterations': 651, 'learning_rate': 0.29305896829622136, 'depth': 7, 'l2_leaf_reg': 0.004333165618310758, 'bagging_temperature': 0.41468162555764143}. Best is trial 42 with value: 610.902725504503.\n",
            "[I 2023-10-07 12:18:22,028] Trial 81 finished with value: 688.1880036266522 and parameters: {'iterations': 764, 'learning_rate': 0.2849722067063816, 'depth': 4, 'l2_leaf_reg': 0.045830014570343094, 'bagging_temperature': 0.5008067579659113}. Best is trial 42 with value: 610.902725504503.\n",
            "[I 2023-10-07 12:18:23,087] Trial 82 finished with value: 691.4323239128865 and parameters: {'iterations': 726, 'learning_rate': 0.2999118326979365, 'depth': 4, 'l2_leaf_reg': 0.00904083955427483, 'bagging_temperature': 0.4368017034052334}. Best is trial 42 with value: 610.902725504503.\n",
            "[I 2023-10-07 12:18:23,768] Trial 83 finished with value: 711.9742384554052 and parameters: {'iterations': 698, 'learning_rate': 0.27866361981039073, 'depth': 4, 'l2_leaf_reg': 0.030411234026857675, 'bagging_temperature': 0.39139880329497984}. Best is trial 42 with value: 610.902725504503.\n",
            "[I 2023-10-07 12:18:24,237] Trial 84 finished with value: 684.1331507606787 and parameters: {'iterations': 614, 'learning_rate': 0.25872508117146287, 'depth': 4, 'l2_leaf_reg': 0.015534653470245654, 'bagging_temperature': 0.45266898823699625}. Best is trial 42 with value: 610.902725504503.\n",
            "[I 2023-10-07 12:18:24,779] Trial 85 finished with value: 644.2124030183111 and parameters: {'iterations': 787, 'learning_rate': 0.29325478937306376, 'depth': 4, 'l2_leaf_reg': 0.006500387974701694, 'bagging_temperature': 0.5477053233185666}. Best is trial 42 with value: 610.902725504503.\n",
            "[I 2023-10-07 12:18:25,286] Trial 86 finished with value: 687.7636596295206 and parameters: {'iterations': 754, 'learning_rate': 0.28572625259385587, 'depth': 4, 'l2_leaf_reg': 0.022626024502563413, 'bagging_temperature': 0.5754898294465589}. Best is trial 42 with value: 610.902725504503.\n",
            "[I 2023-10-07 12:18:25,950] Trial 87 finished with value: 744.6226367259416 and parameters: {'iterations': 677, 'learning_rate': 0.2672476466513878, 'depth': 5, 'l2_leaf_reg': 0.008846765807676328, 'bagging_temperature': 0.33759505362220604}. Best is trial 42 with value: 610.902725504503.\n",
            "[I 2023-10-07 12:18:26,200] Trial 88 finished with value: 686.7323965595183 and parameters: {'iterations': 337, 'learning_rate': 0.274506747422114, 'depth': 4, 'l2_leaf_reg': 0.10220113889460479, 'bagging_temperature': 0.4807352627208103}. Best is trial 42 with value: 610.902725504503.\n",
            "[I 2023-10-07 12:18:26,690] Trial 89 finished with value: 634.8713961423005 and parameters: {'iterations': 707, 'learning_rate': 0.2528145623574158, 'depth': 4, 'l2_leaf_reg': 0.05047026181004451, 'bagging_temperature': 0.3734336033733863}. Best is trial 42 with value: 610.902725504503.\n",
            "[I 2023-10-07 12:18:27,391] Trial 90 finished with value: 772.1259611007047 and parameters: {'iterations': 704, 'learning_rate': 0.2508915895065824, 'depth': 5, 'l2_leaf_reg': 0.048805964784954005, 'bagging_temperature': 0.37129795106267316}. Best is trial 42 with value: 610.902725504503.\n",
            "[I 2023-10-07 12:18:27,868] Trial 91 finished with value: 709.9762757585851 and parameters: {'iterations': 742, 'learning_rate': 0.2591230579123418, 'depth': 4, 'l2_leaf_reg': 0.012082746810535719, 'bagging_temperature': 0.40610839137622146}. Best is trial 42 with value: 610.902725504503.\n",
            "[I 2023-10-07 12:18:28,387] Trial 92 finished with value: 711.6063113447548 and parameters: {'iterations': 779, 'learning_rate': 0.2734253317229262, 'depth': 4, 'l2_leaf_reg': 0.033905155277285284, 'bagging_temperature': 0.3253478242658665}. Best is trial 42 with value: 610.902725504503.\n",
            "[I 2023-10-07 12:18:28,854] Trial 93 finished with value: 659.7448939502227 and parameters: {'iterations': 712, 'learning_rate': 0.29337828403383487, 'depth': 4, 'l2_leaf_reg': 0.0577519002331378, 'bagging_temperature': 0.37120820531213056}. Best is trial 42 with value: 610.902725504503.\n",
            "[I 2023-10-07 12:18:29,324] Trial 94 finished with value: 687.1199112178629 and parameters: {'iterations': 639, 'learning_rate': 0.28433915323182757, 'depth': 4, 'l2_leaf_reg': 0.0028175040960541865, 'bagging_temperature': 0.5238819697501157}. Best is trial 42 with value: 610.902725504503.\n",
            "[I 2023-10-07 12:18:29,892] Trial 95 finished with value: 683.7954924959562 and parameters: {'iterations': 874, 'learning_rate': 0.25247064544685616, 'depth': 4, 'l2_leaf_reg': 0.019390590425097276, 'bagging_temperature': 0.2646827542459582}. Best is trial 42 with value: 610.902725504503.\n",
            "[I 2023-10-07 12:18:30,448] Trial 96 finished with value: 692.6385321862781 and parameters: {'iterations': 832, 'learning_rate': 0.2633471246240574, 'depth': 4, 'l2_leaf_reg': 0.004945993119810554, 'bagging_temperature': 0.4293006878561997}. Best is trial 42 with value: 610.902725504503.\n",
            "[I 2023-10-07 12:18:30,915] Trial 97 finished with value: 687.8603886884058 and parameters: {'iterations': 671, 'learning_rate': 0.2779083271627838, 'depth': 4, 'l2_leaf_reg': 0.12345153587259869, 'bagging_temperature': 0.3288826994815741}. Best is trial 42 with value: 610.902725504503.\n",
            "[I 2023-10-07 12:18:31,310] Trial 98 finished with value: 640.7722134009402 and parameters: {'iterations': 596, 'learning_rate': 0.2999232167312489, 'depth': 4, 'l2_leaf_reg': 0.07211730829224554, 'bagging_temperature': 0.3846836161756474}. Best is trial 42 with value: 610.902725504503.\n",
            "[I 2023-10-07 12:18:31,811] Trial 99 finished with value: 719.8975359024648 and parameters: {'iterations': 498, 'learning_rate': 0.29518004538082865, 'depth': 5, 'l2_leaf_reg': 0.06895283952269775, 'bagging_temperature': 0.38306204417856426}. Best is trial 42 with value: 610.902725504503.\n"
          ]
        },
        {
          "output_type": "stream",
          "name": "stdout",
          "text": [
            "Best Hyperparameters: {'iterations': 691, 'learning_rate': 0.2980633069002567, 'depth': 4, 'l2_leaf_reg': 0.00549166422679316, 'bagging_temperature': 0.3401046805784017}\n",
            "Best Mean Squared Error: 610.902725504503\n"
          ]
        },
        {
          "output_type": "execute_result",
          "data": {
            "text/plain": [
              "<catboost.core.CatBoostRegressor at 0x7b73b5ecda50>"
            ]
          },
          "metadata": {},
          "execution_count": 166
        }
      ]
    },
    {
      "cell_type": "code",
      "source": [
        "p = {'iterations': 918, 'learning_rate': 0.2840499013123191, 'depth': 5, 'l2_leaf_reg': 8.187774334259156e-06, 'bagging_temperature': 0.8263909377164824}"
      ],
      "metadata": {
        "id": "IGg28E2onwhI"
      },
      "execution_count": null,
      "outputs": []
    },
    {
      "cell_type": "code",
      "source": [
        "cbm = cb.CatBoostRegressor(**p,verbose=0)\n",
        "cbm.fit(X_train,y_train)\n",
        "cbm.score(X_test,y_test)"
      ],
      "metadata": {
        "colab": {
          "base_uri": "https://localhost:8080/"
        },
        "id": "pV6SDtKQnzhN",
        "outputId": "f11146ca-ff40-45d2-c947-054994ec6821"
      },
      "execution_count": null,
      "outputs": [
        {
          "output_type": "execute_result",
          "data": {
            "text/plain": [
              "0.08014734682160018"
            ]
          },
          "metadata": {},
          "execution_count": 168
        }
      ]
    },
    {
      "cell_type": "code",
      "source": [
        "y_pred = cbm.predict(X_test)\n",
        "mse = mean_squared_error(y_test, y_pred)\n",
        "print(mse)"
      ],
      "metadata": {
        "colab": {
          "base_uri": "https://localhost:8080/"
        },
        "id": "mA_oKA5Vn4Ld",
        "outputId": "c8dfbd9d-1ec2-4981-a3e4-d94e1c10d366"
      },
      "execution_count": null,
      "outputs": [
        {
          "output_type": "stream",
          "name": "stdout",
          "text": [
            "723.810766487327\n"
          ]
        }
      ]
    },
    {
      "cell_type": "code",
      "source": [
        "from sklearn.tree import DecisionTreeClassifier"
      ],
      "metadata": {
        "id": "ohjZ11y3oQ8E"
      },
      "execution_count": null,
      "outputs": []
    },
    {
      "cell_type": "code",
      "source": [
        "# instantiate the DecisionTreeClassifier model with criterion gini index\n",
        "\n",
        "clf_gini = DecisionTreeClassifier(criterion='gini', max_depth=3, random_state=0)\n",
        "\n",
        "\n",
        "# fit the model\n",
        "clf_gini.fit(X_train, y_train)"
      ],
      "metadata": {
        "colab": {
          "base_uri": "https://localhost:8080/",
          "height": 75
        },
        "id": "eH-UFiLOoS6T",
        "outputId": "d72d5808-a3fb-4fe4-98ff-e9b1ddecd449"
      },
      "execution_count": null,
      "outputs": [
        {
          "output_type": "execute_result",
          "data": {
            "text/plain": [
              "DecisionTreeClassifier(max_depth=3, random_state=0)"
            ],
            "text/html": [
              "<style>#sk-container-id-12 {color: black;background-color: white;}#sk-container-id-12 pre{padding: 0;}#sk-container-id-12 div.sk-toggleable {background-color: white;}#sk-container-id-12 label.sk-toggleable__label {cursor: pointer;display: block;width: 100%;margin-bottom: 0;padding: 0.3em;box-sizing: border-box;text-align: center;}#sk-container-id-12 label.sk-toggleable__label-arrow:before {content: \"▸\";float: left;margin-right: 0.25em;color: #696969;}#sk-container-id-12 label.sk-toggleable__label-arrow:hover:before {color: black;}#sk-container-id-12 div.sk-estimator:hover label.sk-toggleable__label-arrow:before {color: black;}#sk-container-id-12 div.sk-toggleable__content {max-height: 0;max-width: 0;overflow: hidden;text-align: left;background-color: #f0f8ff;}#sk-container-id-12 div.sk-toggleable__content pre {margin: 0.2em;color: black;border-radius: 0.25em;background-color: #f0f8ff;}#sk-container-id-12 input.sk-toggleable__control:checked~div.sk-toggleable__content {max-height: 200px;max-width: 100%;overflow: auto;}#sk-container-id-12 input.sk-toggleable__control:checked~label.sk-toggleable__label-arrow:before {content: \"▾\";}#sk-container-id-12 div.sk-estimator input.sk-toggleable__control:checked~label.sk-toggleable__label {background-color: #d4ebff;}#sk-container-id-12 div.sk-label input.sk-toggleable__control:checked~label.sk-toggleable__label {background-color: #d4ebff;}#sk-container-id-12 input.sk-hidden--visually {border: 0;clip: rect(1px 1px 1px 1px);clip: rect(1px, 1px, 1px, 1px);height: 1px;margin: -1px;overflow: hidden;padding: 0;position: absolute;width: 1px;}#sk-container-id-12 div.sk-estimator {font-family: monospace;background-color: #f0f8ff;border: 1px dotted black;border-radius: 0.25em;box-sizing: border-box;margin-bottom: 0.5em;}#sk-container-id-12 div.sk-estimator:hover {background-color: #d4ebff;}#sk-container-id-12 div.sk-parallel-item::after {content: \"\";width: 100%;border-bottom: 1px solid gray;flex-grow: 1;}#sk-container-id-12 div.sk-label:hover label.sk-toggleable__label {background-color: #d4ebff;}#sk-container-id-12 div.sk-serial::before {content: \"\";position: absolute;border-left: 1px solid gray;box-sizing: border-box;top: 0;bottom: 0;left: 50%;z-index: 0;}#sk-container-id-12 div.sk-serial {display: flex;flex-direction: column;align-items: center;background-color: white;padding-right: 0.2em;padding-left: 0.2em;position: relative;}#sk-container-id-12 div.sk-item {position: relative;z-index: 1;}#sk-container-id-12 div.sk-parallel {display: flex;align-items: stretch;justify-content: center;background-color: white;position: relative;}#sk-container-id-12 div.sk-item::before, #sk-container-id-12 div.sk-parallel-item::before {content: \"\";position: absolute;border-left: 1px solid gray;box-sizing: border-box;top: 0;bottom: 0;left: 50%;z-index: -1;}#sk-container-id-12 div.sk-parallel-item {display: flex;flex-direction: column;z-index: 1;position: relative;background-color: white;}#sk-container-id-12 div.sk-parallel-item:first-child::after {align-self: flex-end;width: 50%;}#sk-container-id-12 div.sk-parallel-item:last-child::after {align-self: flex-start;width: 50%;}#sk-container-id-12 div.sk-parallel-item:only-child::after {width: 0;}#sk-container-id-12 div.sk-dashed-wrapped {border: 1px dashed gray;margin: 0 0.4em 0.5em 0.4em;box-sizing: border-box;padding-bottom: 0.4em;background-color: white;}#sk-container-id-12 div.sk-label label {font-family: monospace;font-weight: bold;display: inline-block;line-height: 1.2em;}#sk-container-id-12 div.sk-label-container {text-align: center;}#sk-container-id-12 div.sk-container {/* jupyter's `normalize.less` sets `[hidden] { display: none; }` but bootstrap.min.css set `[hidden] { display: none !important; }` so we also need the `!important` here to be able to override the default hidden behavior on the sphinx rendered scikit-learn.org. See: https://github.com/scikit-learn/scikit-learn/issues/21755 */display: inline-block !important;position: relative;}#sk-container-id-12 div.sk-text-repr-fallback {display: none;}</style><div id=\"sk-container-id-12\" class=\"sk-top-container\"><div class=\"sk-text-repr-fallback\"><pre>DecisionTreeClassifier(max_depth=3, random_state=0)</pre><b>In a Jupyter environment, please rerun this cell to show the HTML representation or trust the notebook. <br />On GitHub, the HTML representation is unable to render, please try loading this page with nbviewer.org.</b></div><div class=\"sk-container\" hidden><div class=\"sk-item\"><div class=\"sk-estimator sk-toggleable\"><input class=\"sk-toggleable__control sk-hidden--visually\" id=\"sk-estimator-id-14\" type=\"checkbox\" checked><label for=\"sk-estimator-id-14\" class=\"sk-toggleable__label sk-toggleable__label-arrow\">DecisionTreeClassifier</label><div class=\"sk-toggleable__content\"><pre>DecisionTreeClassifier(max_depth=3, random_state=0)</pre></div></div></div></div></div>"
            ]
          },
          "metadata": {},
          "execution_count": 171
        }
      ]
    },
    {
      "cell_type": "code",
      "source": [
        "y_pred_gini = clf_gini.predict(X_test)"
      ],
      "metadata": {
        "id": "ZUtX2-hQoViz"
      },
      "execution_count": null,
      "outputs": []
    },
    {
      "cell_type": "code",
      "source": [
        "from sklearn.metrics import accuracy_score\n",
        "\n",
        "print('Model accuracy score with criterion gini index: {0:0.4f}'. format(accuracy_score(y_test, y_pred_gini)))"
      ],
      "metadata": {
        "colab": {
          "base_uri": "https://localhost:8080/"
        },
        "id": "RR4C0z-LoYa8",
        "outputId": "5d54ab2b-53d0-42ad-b3c4-e988dd502392"
      },
      "execution_count": null,
      "outputs": [
        {
          "output_type": "stream",
          "name": "stdout",
          "text": [
            "Model accuracy score with criterion gini index: 0.0976\n"
          ]
        }
      ]
    },
    {
      "cell_type": "code",
      "source": [
        "y_pred_train_gini = clf_gini.predict(X_train)\n",
        "\n",
        "y_pred_train_gini"
      ],
      "metadata": {
        "colab": {
          "base_uri": "https://localhost:8080/"
        },
        "id": "bdB1Tf0Eoa0M",
        "outputId": "f1cc3d59-520b-48f7-ef49-afedc3115c7a"
      },
      "execution_count": null,
      "outputs": [
        {
          "output_type": "execute_result",
          "data": {
            "text/plain": [
              "array([ 7, 19,  7,  7,  7,  7,  7,  7, 19,  7, 19,  7, 19, 26,  7, 19, 19,\n",
              "       19,  7,  7,  7,  7,  7,  7,  7, 19,  7, 19,  7,  7, 19, 19,  7, 19,\n",
              "        7, 19,  7,  7, 19, 19, 19, 19, 19,  7,  7,  7, 27,  7, 19, 92, 19,\n",
              "       26, 19, 19, 19, 19,  7, 26, 19,  7,  7, 19,  7,  7,  7,  7, 19,  7,\n",
              "        7, 19, 26,  7, 26, 19,  7, 84,  7,  7,  7,  7,  7, 19,  7, 19, 92,\n",
              "       19, 92, 26, 19, 19,  7, 19,  7,  7, 19, 19,  7,  7, 26, 19,  7,  7,\n",
              "        7,  7, 19,  7, 19,  7, 92,  7,  7,  7, 19, 19,  7, 19,  7, 19, 19,\n",
              "        7, 19,  7, 19,  7,  7,  7,  7, 27,  7, 19,  7, 19, 19, 19,  7, 19,\n",
              "        7,  7,  7, 27, 26,  7, 19, 19, 27,  7,  7,  7, 19,  7, 26,  7,  7,\n",
              "        7, 19, 26, 19, 19,  7,  7,  7, 19, 19,  7])"
            ]
          },
          "metadata": {},
          "execution_count": 174
        }
      ]
    },
    {
      "cell_type": "code",
      "source": [
        "print('Training-set accuracy score: {0:0.4f}'. format(accuracy_score(y_train, y_pred_train_gini)))"
      ],
      "metadata": {
        "colab": {
          "base_uri": "https://localhost:8080/"
        },
        "id": "qTL0jTB2ob8S",
        "outputId": "a6f556ad-6777-4d46-c637-cbfc01e4c71d"
      },
      "execution_count": null,
      "outputs": [
        {
          "output_type": "stream",
          "name": "stdout",
          "text": [
            "Training-set accuracy score: 0.2134\n"
          ]
        }
      ]
    },
    {
      "cell_type": "code",
      "source": [
        "# print the scores on training and test set\n",
        "\n",
        "print('Training set score: {:.4f}'.format(clf_gini.score(X_train, y_train)))\n",
        "\n",
        "print('Test set score: {:.4f}'.format(clf_gini.score(X_test, y_test)))"
      ],
      "metadata": {
        "colab": {
          "base_uri": "https://localhost:8080/"
        },
        "id": "21GkEcD8ofoy",
        "outputId": "e249f943-6757-4481-8361-8619001aa86f"
      },
      "execution_count": null,
      "outputs": [
        {
          "output_type": "stream",
          "name": "stdout",
          "text": [
            "Training set score: 0.2134\n",
            "Test set score: 0.0976\n"
          ]
        }
      ]
    },
    {
      "cell_type": "code",
      "source": [
        "import matplotlib.pyplot as plt"
      ],
      "metadata": {
        "id": "g5a-e4Jco3PL"
      },
      "execution_count": null,
      "outputs": []
    },
    {
      "cell_type": "code",
      "source": [
        "plt.figure(figsize=(12,8))\n",
        "\n",
        "from sklearn import tree\n",
        "\n",
        "tree.plot_tree(clf_gini.fit(X_train, y_train))"
      ],
      "metadata": {
        "colab": {
          "base_uri": "https://localhost:8080/",
          "height": 1000
        },
        "id": "AOVtruIyoiIh",
        "outputId": "115e12af-5b93-4862-dd38-c67674c607f3"
      },
      "execution_count": null,
      "outputs": [
        {
          "output_type": "execute_result",
          "data": {
            "text/plain": [
              "[Text(0.5909090909090909, 0.875, 'x[12] <= 69.5\\ngini = 0.971\\nsamples = 164\\nvalue = [1, 1, 5, 3, 1, 1, 17, 1, 1, 2, 2, 2, 1, 1\\n1, 2, 9, 1, 2, 2, 1, 1, 7, 9, 1, 1, 1, 2\\n1, 1, 1, 1, 3, 1, 3, 2, 1, 1, 2, 1, 1, 1\\n1, 1, 5, 3, 1, 3, 1, 1, 2, 2, 1, 2, 1, 1\\n1, 1, 1, 1, 1, 1, 1, 2, 2, 1, 2, 2, 1, 2\\n7, 1, 1, 1, 1, 1, 1, 1, 1, 1, 1, 4]'),\n",
              " Text(0.36363636363636365, 0.625, 'x[14] <= 1.5\\ngini = 0.97\\nsamples = 159\\nvalue = [1, 1, 5, 3, 1, 1, 17, 1, 1, 2, 2, 2, 1, 1\\n1, 2, 9, 1, 2, 2, 1, 1, 7, 9, 1, 1, 1, 2\\n1, 1, 1, 1, 3, 1, 3, 2, 1, 1, 2, 1, 1, 1\\n1, 1, 5, 3, 1, 3, 1, 1, 2, 2, 1, 2, 1, 1\\n1, 1, 1, 1, 1, 1, 1, 2, 2, 1, 2, 2, 1, 2\\n7, 1, 1, 0, 1, 1, 1, 1, 1, 1, 1, 0]'),\n",
              " Text(0.18181818181818182, 0.375, 'x[5] <= 78.5\\ngini = 0.958\\nsamples = 64\\nvalue = [0, 0, 1, 0, 0, 0, 2, 1, 0, 1, 1, 0, 1, 1\\n0, 2, 8, 1, 1, 0, 1, 1, 1, 6, 1, 1, 1, 0\\n1, 1, 1, 1, 0, 0, 0, 1, 1, 0, 2, 1, 1, 0\\n0, 1, 3, 2, 1, 2, 0, 0, 2, 0, 0, 0, 0, 0\\n0, 1, 1, 0, 1, 1, 1, 0, 1, 0, 0, 0, 0, 2\\n2, 0, 1, 0, 0, 0, 0, 0, 0, 0, 0, 0]'),\n",
              " Text(0.09090909090909091, 0.125, 'gini = 0.961\\nsamples = 60\\nvalue = [0, 0, 1, 0, 0, 0, 2, 1, 0, 1, 1, 0, 1, 1\\n0, 2, 8, 1, 1, 0, 1, 1, 1, 3, 1, 1, 1, 0\\n1, 1, 1, 1, 0, 0, 0, 1, 1, 0, 2, 1, 1, 0\\n0, 1, 3, 2, 1, 1, 0, 0, 2, 0, 0, 0, 0, 0\\n0, 1, 1, 0, 1, 1, 1, 0, 1, 0, 0, 0, 0, 2\\n2, 0, 1, 0, 0, 0, 0, 0, 0, 0, 0, 0]'),\n",
              " Text(0.2727272727272727, 0.125, 'gini = 0.375\\nsamples = 4\\nvalue = [0, 0, 0, 0, 0, 0, 0, 0, 0, 0, 0, 0, 0, 0\\n0, 0, 0, 0, 0, 0, 0, 0, 0, 3, 0, 0, 0, 0\\n0, 0, 0, 0, 0, 0, 0, 0, 0, 0, 0, 0, 0, 0\\n0, 0, 0, 0, 0, 1, 0, 0, 0, 0, 0, 0, 0, 0\\n0, 0, 0, 0, 0, 0, 0, 0, 0, 0, 0, 0, 0, 0\\n0, 0, 0, 0, 0, 0, 0, 0, 0, 0, 0, 0]'),\n",
              " Text(0.5454545454545454, 0.375, 'x[0] <= 174.0\\ngini = 0.955\\nsamples = 95\\nvalue = [1, 1, 4, 3, 1, 1, 15, 0, 1, 1, 1, 2, 0, 0\\n1, 0, 1, 0, 1, 2, 0, 0, 6, 3, 0, 0, 0, 2\\n0, 0, 0, 0, 3, 1, 3, 1, 0, 1, 0, 0, 0, 1\\n1, 0, 2, 1, 0, 1, 1, 1, 0, 2, 1, 2, 1, 1\\n1, 0, 0, 1, 0, 0, 0, 2, 1, 1, 2, 2, 1, 0\\n5, 1, 0, 0, 1, 1, 1, 1, 1, 1, 1, 0]'),\n",
              " Text(0.45454545454545453, 0.125, 'gini = 0.95\\nsamples = 85\\nvalue = [1, 1, 4, 3, 1, 1, 15, 0, 1, 1, 0, 2, 0, 0\\n1, 0, 1, 0, 1, 2, 0, 0, 2, 3, 0, 0, 0, 1\\n0, 0, 0, 0, 3, 1, 3, 1, 0, 1, 0, 0, 0, 1\\n1, 0, 0, 1, 0, 1, 1, 1, 0, 2, 1, 2, 1, 1\\n1, 0, 0, 0, 0, 0, 0, 2, 1, 1, 2, 2, 1, 0\\n4, 1, 0, 0, 1, 1, 1, 1, 1, 1, 1, 0]'),\n",
              " Text(0.6363636363636364, 0.125, 'gini = 0.76\\nsamples = 10\\nvalue = [0, 0, 0, 0, 0, 0, 0, 0, 0, 0, 1, 0, 0, 0\\n0, 0, 0, 0, 0, 0, 0, 0, 4, 0, 0, 0, 0, 1\\n0, 0, 0, 0, 0, 0, 0, 0, 0, 0, 0, 0, 0, 0\\n0, 0, 2, 0, 0, 0, 0, 0, 0, 0, 0, 0, 0, 0\\n0, 0, 0, 1, 0, 0, 0, 0, 0, 0, 0, 0, 0, 0\\n1, 0, 0, 0, 0, 0, 0, 0, 0, 0, 0, 0]'),\n",
              " Text(0.8181818181818182, 0.625, 'x[8] <= 1.0\\ngini = 0.32\\nsamples = 5\\nvalue = [0, 0, 0, 0, 0, 0, 0, 0, 0, 0, 0, 0, 0, 0\\n0, 0, 0, 0, 0, 0, 0, 0, 0, 0, 0, 0, 0, 0\\n0, 0, 0, 0, 0, 0, 0, 0, 0, 0, 0, 0, 0, 0\\n0, 0, 0, 0, 0, 0, 0, 0, 0, 0, 0, 0, 0, 0\\n0, 0, 0, 0, 0, 0, 0, 0, 0, 0, 0, 0, 0, 0\\n0, 0, 0, 1, 0, 0, 0, 0, 0, 0, 0, 4]'),\n",
              " Text(0.7272727272727273, 0.375, 'gini = 0.0\\nsamples = 1\\nvalue = [0, 0, 0, 0, 0, 0, 0, 0, 0, 0, 0, 0, 0, 0\\n0, 0, 0, 0, 0, 0, 0, 0, 0, 0, 0, 0, 0, 0\\n0, 0, 0, 0, 0, 0, 0, 0, 0, 0, 0, 0, 0, 0\\n0, 0, 0, 0, 0, 0, 0, 0, 0, 0, 0, 0, 0, 0\\n0, 0, 0, 0, 0, 0, 0, 0, 0, 0, 0, 0, 0, 0\\n0, 0, 0, 1, 0, 0, 0, 0, 0, 0, 0, 0]'),\n",
              " Text(0.9090909090909091, 0.375, 'gini = 0.0\\nsamples = 4\\nvalue = [0, 0, 0, 0, 0, 0, 0, 0, 0, 0, 0, 0, 0, 0\\n0, 0, 0, 0, 0, 0, 0, 0, 0, 0, 0, 0, 0, 0\\n0, 0, 0, 0, 0, 0, 0, 0, 0, 0, 0, 0, 0, 0\\n0, 0, 0, 0, 0, 0, 0, 0, 0, 0, 0, 0, 0, 0\\n0, 0, 0, 0, 0, 0, 0, 0, 0, 0, 0, 0, 0, 0\\n0, 0, 0, 0, 0, 0, 0, 0, 0, 0, 0, 4]')]"
            ]
          },
          "metadata": {},
          "execution_count": 178
        },
        {
          "output_type": "display_data",
          "data": {
            "text/plain": [
              "<Figure size 1200x800 with 1 Axes>"
            ],
            "image/png": "[encoded data removed]"
          },
          "metadata": {}
        }
      ]
    },
    {
      "cell_type": "code",
      "source": [
        "# instantiate the DecisionTreeClassifier model with criterion entropy\n",
        "\n",
        "clf_en = DecisionTreeClassifier(criterion='entropy', max_depth=3, random_state=0)\n",
        "\n",
        "\n",
        "# fit the model\n",
        "clf_en.fit(X_train, y_train)"
      ],
      "metadata": {
        "colab": {
          "base_uri": "https://localhost:8080/",
          "height": 75
        },
        "id": "6zkqsfC3o6TX",
        "outputId": "61b46448-5190-49f5-f231-74caa992a2d6"
      },
      "execution_count": null,
      "outputs": [
        {
          "output_type": "execute_result",
          "data": {
            "text/plain": [
              "DecisionTreeClassifier(criterion='entropy', max_depth=3, random_state=0)"
            ],
            "text/html": [
              "<style>#sk-container-id-13 {color: black;background-color: white;}#sk-container-id-13 pre{padding: 0;}#sk-container-id-13 div.sk-toggleable {background-color: white;}#sk-container-id-13 label.sk-toggleable__label {cursor: pointer;display: block;width: 100%;margin-bottom: 0;padding: 0.3em;box-sizing: border-box;text-align: center;}#sk-container-id-13 label.sk-toggleable__label-arrow:before {content: \"▸\";float: left;margin-right: 0.25em;color: #696969;}#sk-container-id-13 label.sk-toggleable__label-arrow:hover:before {color: black;}#sk-container-id-13 div.sk-estimator:hover label.sk-toggleable__label-arrow:before {color: black;}#sk-container-id-13 div.sk-toggleable__content {max-height: 0;max-width: 0;overflow: hidden;text-align: left;background-color: #f0f8ff;}#sk-container-id-13 div.sk-toggleable__content pre {margin: 0.2em;color: black;border-radius: 0.25em;background-color: #f0f8ff;}#sk-container-id-13 input.sk-toggleable__control:checked~div.sk-toggleable__content {max-height: 200px;max-width: 100%;overflow: auto;}#sk-container-id-13 input.sk-toggleable__control:checked~label.sk-toggleable__label-arrow:before {content: \"▾\";}#sk-container-id-13 div.sk-estimator input.sk-toggleable__control:checked~label.sk-toggleable__label {background-color: #d4ebff;}#sk-container-id-13 div.sk-label input.sk-toggleable__control:checked~label.sk-toggleable__label {background-color: #d4ebff;}#sk-container-id-13 input.sk-hidden--visually {border: 0;clip: rect(1px 1px 1px 1px);clip: rect(1px, 1px, 1px, 1px);height: 1px;margin: -1px;overflow: hidden;padding: 0;position: absolute;width: 1px;}#sk-container-id-13 div.sk-estimator {font-family: monospace;background-color: #f0f8ff;border: 1px dotted black;border-radius: 0.25em;box-sizing: border-box;margin-bottom: 0.5em;}#sk-container-id-13 div.sk-estimator:hover {background-color: #d4ebff;}#sk-container-id-13 div.sk-parallel-item::after {content: \"\";width: 100%;border-bottom: 1px solid gray;flex-grow: 1;}#sk-container-id-13 div.sk-label:hover label.sk-toggleable__label {background-color: #d4ebff;}#sk-container-id-13 div.sk-serial::before {content: \"\";position: absolute;border-left: 1px solid gray;box-sizing: border-box;top: 0;bottom: 0;left: 50%;z-index: 0;}#sk-container-id-13 div.sk-serial {display: flex;flex-direction: column;align-items: center;background-color: white;padding-right: 0.2em;padding-left: 0.2em;position: relative;}#sk-container-id-13 div.sk-item {position: relative;z-index: 1;}#sk-container-id-13 div.sk-parallel {display: flex;align-items: stretch;justify-content: center;background-color: white;position: relative;}#sk-container-id-13 div.sk-item::before, #sk-container-id-13 div.sk-parallel-item::before {content: \"\";position: absolute;border-left: 1px solid gray;box-sizing: border-box;top: 0;bottom: 0;left: 50%;z-index: -1;}#sk-container-id-13 div.sk-parallel-item {display: flex;flex-direction: column;z-index: 1;position: relative;background-color: white;}#sk-container-id-13 div.sk-parallel-item:first-child::after {align-self: flex-end;width: 50%;}#sk-container-id-13 div.sk-parallel-item:last-child::after {align-self: flex-start;width: 50%;}#sk-container-id-13 div.sk-parallel-item:only-child::after {width: 0;}#sk-container-id-13 div.sk-dashed-wrapped {border: 1px dashed gray;margin: 0 0.4em 0.5em 0.4em;box-sizing: border-box;padding-bottom: 0.4em;background-color: white;}#sk-container-id-13 div.sk-label label {font-family: monospace;font-weight: bold;display: inline-block;line-height: 1.2em;}#sk-container-id-13 div.sk-label-container {text-align: center;}#sk-container-id-13 div.sk-container {/* jupyter's `normalize.less` sets `[hidden] { display: none; }` but bootstrap.min.css set `[hidden] { display: none !important; }` so we also need the `!important` here to be able to override the default hidden behavior on the sphinx rendered scikit-learn.org. See: https://github.com/scikit-learn/scikit-learn/issues/21755 */display: inline-block !important;position: relative;}#sk-container-id-13 div.sk-text-repr-fallback {display: none;}</style><div id=\"sk-container-id-13\" class=\"sk-top-container\"><div class=\"sk-text-repr-fallback\"><pre>DecisionTreeClassifier(criterion=&#x27;entropy&#x27;, max_depth=3, random_state=0)</pre><b>In a Jupyter environment, please rerun this cell to show the HTML representation or trust the notebook. <br />On GitHub, the HTML representation is unable to render, please try loading this page with nbviewer.org.</b></div><div class=\"sk-container\" hidden><div class=\"sk-item\"><div class=\"sk-estimator sk-toggleable\"><input class=\"sk-toggleable__control sk-hidden--visually\" id=\"sk-estimator-id-15\" type=\"checkbox\" checked><label for=\"sk-estimator-id-15\" class=\"sk-toggleable__label sk-toggleable__label-arrow\">DecisionTreeClassifier</label><div class=\"sk-toggleable__content\"><pre>DecisionTreeClassifier(criterion=&#x27;entropy&#x27;, max_depth=3, random_state=0)</pre></div></div></div></div></div>"
            ]
          },
          "metadata": {},
          "execution_count": 179
        }
      ]
    },
    {
      "cell_type": "code",
      "source": [
        "y_pred_en = clf_en.predict(X_test)"
      ],
      "metadata": {
        "id": "mI7BxACVpES4"
      },
      "execution_count": null,
      "outputs": []
    },
    {
      "cell_type": "code",
      "source": [
        "from sklearn.metrics import accuracy_score\n",
        "\n",
        "print('Model accuracy score with criterion entropy: {0:0.4f}'. format(accuracy_score(y_test, y_pred_en)))"
      ],
      "metadata": {
        "colab": {
          "base_uri": "https://localhost:8080/"
        },
        "id": "Hzmj5qWvpGFI",
        "outputId": "885260e1-fe10-4683-99ef-031ac5e79f7a"
      },
      "execution_count": null,
      "outputs": [
        {
          "output_type": "stream",
          "name": "stdout",
          "text": [
            "Model accuracy score with criterion entropy: 0.0976\n"
          ]
        }
      ]
    },
    {
      "cell_type": "code",
      "source": [
        "y_pred_train_en = clf_en.predict(X_train)\n",
        "\n",
        "y_pred_train_en"
      ],
      "metadata": {
        "colab": {
          "base_uri": "https://localhost:8080/"
        },
        "id": "a267BUwQpIUI",
        "outputId": "56b2a4c1-dbbb-44e5-c03e-381d166a0c6b"
      },
      "execution_count": null,
      "outputs": [
        {
          "output_type": "execute_result",
          "data": {
            "text/plain": [
              "array([ 7, 19, 92, 19,  5,  7,  7,  7, 56, 92,  7,  3,  7,  7,  3, 19, 19,\n",
              "        7,  7, 92,  7, 92,  7,  3,  7, 19, 92, 19,  7, 92, 56,  7, 19,  7,\n",
              "        7,  7,  7, 56, 56,  3,  7,  7,  7, 92,  3,  7,  7,  7,  3, 92,  7,\n",
              "        7,  7, 19, 19,  7,  3,  7, 19,  7,  7,  7,  7,  5,  5,  7,  5, 92,\n",
              "        7, 56,  7, 92,  7, 19,  7,  5,  7,  7,  7,  7, 92, 19, 92, 19, 92,\n",
              "        7,  5, 19, 19, 19,  7, 19,  7,  5,  5,  3,  3,  7, 92,  7,  7,  7,\n",
              "        3,  7,  7, 92, 56,  3, 92,  7,  3,  3,  7, 56,  7,  7,  7,  3, 19,\n",
              "        7, 56,  7, 19,  3,  7, 92, 19, 19, 92, 56,  7,  3,  7, 19,  3, 19,\n",
              "        7,  3,  5, 19,  7,  5,  7, 56, 19, 19,  7,  3, 56,  3,  7,  7,  3,\n",
              "        5, 56,  7, 56, 19,  7, 19,  5, 19, 19, 92])"
            ]
          },
          "metadata": {},
          "execution_count": 182
        }
      ]
    },
    {
      "cell_type": "code",
      "source": [
        "print('Training-set accuracy score: {0:0.4f}'. format(accuracy_score(y_train, y_pred_train_en)))"
      ],
      "metadata": {
        "colab": {
          "base_uri": "https://localhost:8080/"
        },
        "id": "GvKifyDTpKSf",
        "outputId": "ff9a8522-3f83-4ae3-ea64-fba077382364"
      },
      "execution_count": null,
      "outputs": [
        {
          "output_type": "stream",
          "name": "stdout",
          "text": [
            "Training-set accuracy score: 0.1890\n"
          ]
        }
      ]
    },
    {
      "cell_type": "code",
      "source": [
        "# print the scores on training and test set\n",
        "\n",
        "print('Training set score: {:.4f}'.format(clf_en.score(X_train, y_train)))\n",
        "\n",
        "print('Test set score: {:.4f}'.format(clf_en.score(X_test, y_test)))"
      ],
      "metadata": {
        "colab": {
          "base_uri": "https://localhost:8080/"
        },
        "id": "hlLvO5cFpMYd",
        "outputId": "64abbff7-86df-4821-a722-99285f898ec5"
      },
      "execution_count": null,
      "outputs": [
        {
          "output_type": "stream",
          "name": "stdout",
          "text": [
            "Training set score: 0.1890\n",
            "Test set score: 0.0976\n"
          ]
        }
      ]
    },
    {
      "cell_type": "code",
      "source": [
        "plt.figure(figsize=(12,8))\n",
        "\n",
        "from sklearn import tree\n",
        "\n",
        "tree.plot_tree(clf_en.fit(X_train, y_train))"
      ],
      "metadata": {
        "colab": {
          "base_uri": "https://localhost:8080/",
          "height": 1000
        },
        "id": "0qaPtbg_pO52",
        "outputId": "e0a1660f-24e8-49b0-9c46-748f83a04e78"
      },
      "execution_count": null,
      "outputs": [
        {
          "output_type": "execute_result",
          "data": {
            "text/plain": [
              "[Text(0.5, 0.875, 'x[10] <= 48.5\\nentropy = 5.804\\nsamples = 164\\nvalue = [1, 1, 5, 3, 1, 1, 17, 1, 1, 2, 2, 2, 1, 1\\n1, 2, 9, 1, 2, 2, 1, 1, 7, 9, 1, 1, 1, 2\\n1, 1, 1, 1, 3, 1, 3, 2, 1, 1, 2, 1, 1, 1\\n1, 1, 5, 3, 1, 3, 1, 1, 2, 2, 1, 2, 1, 1\\n1, 1, 1, 1, 1, 1, 1, 2, 2, 1, 2, 2, 1, 2\\n7, 1, 1, 1, 1, 1, 1, 1, 1, 1, 1, 4]'),\n",
              " Text(0.25, 0.625, 'x[11] <= 118.5\\nentropy = 4.969\\nsamples = 84\\nvalue = [0, 1, 5, 3, 1, 1, 14, 1, 0, 1, 0, 2, 0, 0\\n0, 0, 3, 0, 0, 2, 0, 1, 6, 5, 0, 1, 1, 0\\n1, 1, 1, 0, 2, 0, 1, 0, 0, 1, 0, 0, 1, 1\\n0, 1, 0, 1, 1, 1, 1, 1, 0, 0, 0, 2, 1, 0\\n0, 1, 1, 0, 0, 1, 1, 2, 1, 1, 0, 0, 0, 1\\n4, 0, 1, 1, 0, 0, 1, 0, 0, 0, 1, 1]'),\n",
              " Text(0.125, 0.375, 'x[11] <= 41.5\\nentropy = 4.184\\nsamples = 51\\nvalue = [0, 1, 0, 1, 0, 1, 11, 1, 0, 1, 0, 0, 0, 0\\n0, 0, 2, 0, 0, 2, 0, 1, 6, 5, 0, 1, 1, 0\\n0, 1, 0, 0, 0, 0, 1, 0, 0, 1, 0, 0, 0, 1\\n0, 0, 0, 0, 1, 0, 0, 1, 0, 0, 0, 2, 0, 0\\n0, 0, 0, 0, 0, 1, 1, 1, 1, 0, 0, 0, 0, 1\\n3, 0, 1, 0, 0, 0, 0, 0, 0, 0, 0, 0]'),\n",
              " Text(0.0625, 0.125, 'entropy = 3.387\\nsamples = 19\\nvalue = [0, 0, 0, 1, 0, 1, 5, 1, 0, 0, 0, 0, 0, 0\\n0, 0, 1, 0, 0, 0, 0, 0, 0, 0, 0, 0, 1, 0\\n0, 1, 0, 0, 0, 0, 0, 0, 0, 0, 0, 0, 0, 1\\n0, 0, 0, 0, 0, 0, 0, 0, 0, 0, 0, 0, 0, 0\\n0, 0, 0, 0, 0, 1, 1, 1, 1, 0, 0, 0, 0, 0\\n3, 0, 0, 0, 0, 0, 0, 0, 0, 0, 0, 0]'),\n",
              " Text(0.1875, 0.125, 'entropy = 3.543\\nsamples = 32\\nvalue = [0, 1, 0, 0, 0, 0, 6, 0, 0, 1, 0, 0, 0, 0\\n0, 0, 1, 0, 0, 2, 0, 1, 6, 5, 0, 1, 0, 0\\n0, 0, 0, 0, 0, 0, 1, 0, 0, 1, 0, 0, 0, 0\\n0, 0, 0, 0, 1, 0, 0, 1, 0, 0, 0, 2, 0, 0\\n0, 0, 0, 0, 0, 0, 0, 0, 0, 0, 0, 0, 0, 1\\n0, 0, 1, 0, 0, 0, 0, 0, 0, 0, 0, 0]'),\n",
              " Text(0.375, 0.375, 'x[1] <= 101.5\\nentropy = 4.367\\nsamples = 33\\nvalue = [0, 0, 5, 2, 1, 0, 3, 0, 0, 0, 0, 2, 0, 0\\n0, 0, 1, 0, 0, 0, 0, 0, 0, 0, 0, 0, 0, 0\\n1, 0, 1, 0, 2, 0, 0, 0, 0, 0, 0, 0, 1, 0\\n0, 1, 0, 1, 0, 1, 1, 0, 0, 0, 0, 0, 1, 0\\n0, 1, 1, 0, 0, 0, 0, 1, 0, 1, 0, 0, 0, 0\\n1, 0, 0, 1, 0, 0, 1, 0, 0, 0, 1, 1]'),\n",
              " Text(0.3125, 0.125, 'entropy = 3.423\\nsamples = 21\\nvalue = [0, 0, 5, 2, 0, 0, 3, 0, 0, 0, 0, 2, 0, 0\\n0, 0, 1, 0, 0, 0, 0, 0, 0, 0, 0, 0, 0, 0\\n0, 0, 1, 0, 1, 0, 0, 0, 0, 0, 0, 0, 1, 0\\n0, 0, 0, 0, 0, 1, 0, 0, 0, 0, 0, 0, 1, 0\\n0, 1, 1, 0, 0, 0, 0, 1, 0, 0, 0, 0, 0, 0\\n0, 0, 0, 0, 0, 0, 0, 0, 0, 0, 0, 0]'),\n",
              " Text(0.4375, 0.125, 'entropy = 3.585\\nsamples = 12\\nvalue = [0, 0, 0, 0, 1, 0, 0, 0, 0, 0, 0, 0, 0, 0\\n0, 0, 0, 0, 0, 0, 0, 0, 0, 0, 0, 0, 0, 0\\n1, 0, 0, 0, 1, 0, 0, 0, 0, 0, 0, 0, 0, 0\\n0, 1, 0, 1, 0, 0, 1, 0, 0, 0, 0, 0, 0, 0\\n0, 0, 0, 0, 0, 0, 0, 0, 0, 1, 0, 0, 0, 0\\n1, 0, 0, 1, 0, 0, 1, 0, 0, 0, 1, 1]'),\n",
              " Text(0.75, 0.625, 'x[14] <= 8.5\\nentropy = 5.38\\nsamples = 80\\nvalue = [1, 0, 0, 0, 0, 0, 3, 0, 1, 1, 2, 0, 1, 1\\n1, 2, 6, 1, 2, 0, 1, 0, 1, 4, 1, 0, 0, 2\\n0, 0, 0, 1, 1, 1, 2, 2, 1, 0, 2, 1, 0, 0\\n1, 0, 5, 2, 0, 2, 0, 0, 2, 2, 1, 0, 0, 1\\n1, 0, 0, 1, 1, 0, 0, 0, 1, 0, 2, 2, 1, 1\\n3, 1, 0, 0, 1, 1, 0, 1, 1, 1, 0, 3]'),\n",
              " Text(0.625, 0.375, 'x[2] <= 116.5\\nentropy = 4.49\\nsamples = 43\\nvalue = [0, 0, 0, 0, 0, 0, 0, 0, 1, 0, 1, 0, 1, 1\\n1, 2, 6, 1, 2, 0, 1, 0, 0, 3, 1, 0, 0, 1\\n0, 0, 0, 1, 1, 0, 0, 1, 1, 0, 2, 1, 0, 0\\n0, 0, 4, 2, 0, 2, 0, 0, 2, 0, 0, 0, 0, 0\\n0, 0, 0, 0, 1, 0, 0, 0, 1, 0, 0, 0, 0, 1\\n1, 0, 0, 0, 0, 0, 0, 0, 0, 0, 0, 0]'),\n",
              " Text(0.5625, 0.125, 'entropy = 3.698\\nsamples = 30\\nvalue = [0, 0, 0, 0, 0, 0, 0, 0, 1, 0, 1, 0, 1, 0\\n1, 1, 6, 0, 2, 0, 0, 0, 0, 3, 0, 0, 0, 0\\n0, 0, 0, 0, 1, 0, 0, 1, 0, 0, 2, 0, 0, 0\\n0, 0, 4, 2, 0, 2, 0, 0, 0, 0, 0, 0, 0, 0\\n0, 0, 0, 0, 0, 0, 0, 0, 0, 0, 0, 0, 0, 1\\n1, 0, 0, 0, 0, 0, 0, 0, 0, 0, 0, 0]'),\n",
              " Text(0.6875, 0.125, 'entropy = 3.547\\nsamples = 13\\nvalue = [0, 0, 0, 0, 0, 0, 0, 0, 0, 0, 0, 0, 0, 1\\n0, 1, 0, 1, 0, 0, 1, 0, 0, 0, 1, 0, 0, 1\\n0, 0, 0, 1, 0, 0, 0, 0, 1, 0, 0, 1, 0, 0\\n0, 0, 0, 0, 0, 0, 0, 0, 2, 0, 0, 0, 0, 0\\n0, 0, 0, 0, 1, 0, 0, 0, 1, 0, 0, 0, 0, 0\\n0, 0, 0, 0, 0, 0, 0, 0, 0, 0, 0, 0]'),\n",
              " Text(0.875, 0.375, 'x[12] <= 67.0\\nentropy = 4.682\\nsamples = 37\\nvalue = [1, 0, 0, 0, 0, 0, 3, 0, 0, 1, 1, 0, 0, 0\\n0, 0, 0, 0, 0, 0, 0, 0, 1, 1, 0, 0, 0, 1\\n0, 0, 0, 0, 0, 1, 2, 1, 0, 0, 0, 0, 0, 0\\n1, 0, 1, 0, 0, 0, 0, 0, 0, 2, 1, 0, 0, 1\\n1, 0, 0, 1, 0, 0, 0, 0, 0, 0, 2, 2, 1, 0\\n2, 1, 0, 0, 1, 1, 0, 1, 1, 1, 0, 3]'),\n",
              " Text(0.8125, 0.125, 'entropy = 3.795\\nsamples = 18\\nvalue = [0, 0, 0, 0, 0, 0, 3, 0, 0, 1, 1, 0, 0, 0\\n0, 0, 0, 0, 0, 0, 0, 0, 1, 1, 0, 0, 0, 1\\n0, 0, 0, 0, 0, 0, 0, 1, 0, 0, 0, 0, 0, 0\\n1, 0, 1, 0, 0, 0, 0, 0, 0, 2, 0, 0, 0, 0\\n1, 0, 0, 1, 0, 0, 0, 0, 0, 0, 0, 0, 0, 0\\n1, 0, 0, 0, 0, 0, 0, 1, 1, 0, 0, 0]'),\n",
              " Text(0.9375, 0.125, 'entropy = 3.682\\nsamples = 19\\nvalue = [1, 0, 0, 0, 0, 0, 0, 0, 0, 0, 0, 0, 0, 0\\n0, 0, 0, 0, 0, 0, 0, 0, 0, 0, 0, 0, 0, 0\\n0, 0, 0, 0, 0, 1, 2, 0, 0, 0, 0, 0, 0, 0\\n0, 0, 0, 0, 0, 0, 0, 0, 0, 0, 1, 0, 0, 1\\n0, 0, 0, 0, 0, 0, 0, 0, 0, 0, 2, 2, 1, 0\\n1, 1, 0, 0, 1, 1, 0, 0, 0, 1, 0, 3]')]"
            ]
          },
          "metadata": {},
          "execution_count": 185
        },
        {
          "output_type": "display_data",
          "data": {
            "text/plain": [
              "<Figure size 1200x800 with 1 Axes>"
            ],
            "image/png": "[encoded data removed]"
          },
          "metadata": {}
        }
      ]
    },
    {
      "cell_type": "code",
      "source": [
        "# Print the Confusion Matrix and slice it into four pieces\n",
        "\n",
        "from sklearn.metrics import confusion_matrix\n",
        "\n",
        "cm = confusion_matrix(y_test, y_pred_en)\n",
        "\n",
        "print('Confusion matrix\\n\\n', cm)"
      ],
      "metadata": {
        "colab": {
          "base_uri": "https://localhost:8080/"
        },
        "id": "hPMRCubRpSZ3",
        "outputId": "0a93a8d1-6f53-4307-9f5a-a5a5df63e4b6"
      },
      "execution_count": null,
      "outputs": [
        {
          "output_type": "stream",
          "name": "stdout",
          "text": [
            "Confusion matrix\n",
            "\n",
            " [[0 0 0 1 0 0 0 0 0 0 0 0 0 0 0 0 0 0 0 0 0 0 0 0 0 0 0 0 0 0]\n",
            " [0 0 0 1 0 0 0 0 0 0 0 0 0 0 0 0 0 0 0 0 0 0 0 0 0 0 0 0 0 0]\n",
            " [0 1 0 0 0 0 0 0 0 0 0 0 0 0 0 0 0 0 0 0 0 0 0 0 0 0 0 0 0 0]\n",
            " [0 0 0 3 0 0 0 0 1 0 0 0 0 0 0 0 0 0 0 0 0 0 0 0 0 0 0 0 0 0]\n",
            " [0 0 0 1 0 0 0 0 0 0 0 0 0 0 0 0 0 0 0 0 0 0 0 0 0 0 0 0 0 0]\n",
            " [0 0 0 0 0 0 0 0 1 0 0 0 0 0 0 0 0 0 0 0 0 0 0 0 0 0 0 0 0 0]\n",
            " [0 0 0 1 0 0 0 0 0 0 0 0 0 0 0 0 0 0 0 0 0 0 0 0 0 0 0 0 0 0]\n",
            " [0 0 0 0 0 0 0 0 1 0 0 0 0 0 0 0 0 0 0 0 0 0 0 0 0 0 0 0 0 0]\n",
            " [0 0 0 2 0 0 0 0 0 0 0 0 0 0 0 0 0 0 0 0 0 0 0 0 0 0 0 0 0 0]\n",
            " [0 0 0 0 0 0 0 0 0 0 0 0 0 0 0 0 0 0 0 0 0 0 0 0 0 0 0 0 0 1]\n",
            " [0 0 0 3 0 0 0 0 0 0 0 0 0 0 0 0 0 0 0 0 0 0 0 0 0 0 0 0 0 0]\n",
            " [0 0 1 1 0 0 0 0 0 0 0 0 0 0 0 0 0 0 0 0 0 0 0 0 0 0 0 0 0 0]\n",
            " [0 0 0 1 0 0 0 0 3 0 0 0 0 0 0 0 0 0 0 0 0 0 0 0 0 0 0 0 0 0]\n",
            " [0 0 0 1 0 0 0 0 0 0 0 0 0 0 0 0 0 0 0 0 0 0 0 0 0 0 0 0 0 0]\n",
            " [0 1 0 0 0 0 0 0 0 0 0 0 0 0 0 0 0 0 0 0 0 0 0 0 0 0 0 0 0 0]\n",
            " [0 0 0 0 0 0 0 0 1 0 0 0 0 0 0 0 0 0 0 0 0 0 0 0 0 0 0 0 0 0]\n",
            " [0 0 0 0 0 0 0 0 1 0 0 0 0 0 0 0 0 0 0 0 0 0 0 0 0 0 0 0 0 0]\n",
            " [0 0 0 0 0 0 0 0 1 0 0 0 0 0 0 0 0 0 0 0 0 0 0 0 0 0 0 0 0 0]\n",
            " [0 0 0 0 0 0 0 0 1 0 0 0 0 0 0 0 0 0 0 0 0 0 0 0 0 0 0 0 0 0]\n",
            " [0 1 0 0 0 0 0 0 0 0 0 0 0 0 0 0 0 0 0 0 0 0 0 0 0 0 0 0 0 0]\n",
            " [0 0 0 1 0 0 0 0 0 0 0 0 0 0 0 0 0 0 0 0 0 0 0 0 0 0 0 0 0 0]\n",
            " [0 0 0 1 0 0 0 0 0 0 0 0 0 0 0 0 0 0 0 0 0 0 0 0 0 0 0 0 0 0]\n",
            " [0 0 0 1 0 0 0 0 0 0 0 0 0 0 0 0 0 0 0 0 0 0 0 0 0 0 0 0 0 0]\n",
            " [0 1 0 0 0 0 0 0 0 0 0 0 0 0 0 0 0 0 0 0 0 0 0 0 0 0 0 0 0 0]\n",
            " [0 1 0 0 0 0 0 0 0 0 0 0 0 0 0 0 0 0 0 0 0 0 0 0 0 0 0 0 0 0]\n",
            " [0 0 0 0 0 0 0 0 1 0 0 0 0 0 0 0 0 0 0 0 0 0 0 0 0 0 0 0 0 0]\n",
            " [0 0 0 0 0 0 0 0 1 0 0 0 0 0 0 0 0 0 0 0 0 0 0 0 0 0 0 0 0 0]\n",
            " [0 0 0 1 0 0 0 0 0 0 0 0 0 0 0 0 0 0 0 0 0 0 0 0 0 0 0 0 0 0]\n",
            " [0 0 0 0 0 0 0 0 0 0 0 0 0 0 0 0 0 0 0 0 0 0 0 0 0 0 0 0 0 1]\n",
            " [0 0 1 0 0 0 0 0 0 0 0 0 0 0 0 0 0 0 0 0 0 0 0 0 0 0 0 0 0 1]]\n"
          ]
        }
      ]
    },
    {
      "cell_type": "code",
      "source": [
        "from sklearn.metrics import classification_report\n",
        "\n",
        "print(classification_report(y_test, y_pred_en))"
      ],
      "metadata": {
        "colab": {
          "base_uri": "https://localhost:8080/"
        },
        "id": "PfLLkU41pYoV",
        "outputId": "1777abbb-2a32-4260-d435-43bc229450ac"
      },
      "execution_count": null,
      "outputs": [
        {
          "output_type": "stream",
          "name": "stdout",
          "text": [
            "              precision    recall  f1-score   support\n",
            "\n",
            "           0       0.00      0.00      0.00         1\n",
            "           3       0.00      0.00      0.00         1\n",
            "           5       0.00      0.00      0.00         1\n",
            "           7       0.16      0.75      0.26         4\n",
            "           9       0.00      0.00      0.00         1\n",
            "          10       0.00      0.00      0.00         1\n",
            "          12       0.00      0.00      0.00         1\n",
            "          17       0.00      0.00      0.00         1\n",
            "          19       0.00      0.00      0.00         2\n",
            "          25       0.00      0.00      0.00         1\n",
            "          26       0.00      0.00      0.00         3\n",
            "          27       0.00      0.00      0.00         2\n",
            "          31       0.00      0.00      0.00         4\n",
            "          36       0.00      0.00      0.00         1\n",
            "          38       0.00      0.00      0.00         1\n",
            "          40       0.00      0.00      0.00         1\n",
            "          41       0.00      0.00      0.00         1\n",
            "          42       0.00      0.00      0.00         1\n",
            "          44       0.00      0.00      0.00         1\n",
            "          60       0.00      0.00      0.00         1\n",
            "          65       0.00      0.00      0.00         1\n",
            "          67       0.00      0.00      0.00         1\n",
            "          71       0.00      0.00      0.00         1\n",
            "          73       0.00      0.00      0.00         1\n",
            "          74       0.00      0.00      0.00         1\n",
            "          80       0.00      0.00      0.00         1\n",
            "          83       0.00      0.00      0.00         1\n",
            "          85       0.00      0.00      0.00         1\n",
            "          89       0.00      0.00      0.00         1\n",
            "          92       0.33      0.50      0.40         2\n",
            "\n",
            "    accuracy                           0.10        41\n",
            "   macro avg       0.02      0.04      0.02        41\n",
            "weighted avg       0.03      0.10      0.04        41\n",
            "\n"
          ]
        },
        {
          "output_type": "stream",
          "name": "stderr",
          "text": [
            "/usr/local/lib/python3.10/dist-packages/sklearn/metrics/_classification.py:1344: UndefinedMetricWarning: Precision and F-score are ill-defined and being set to 0.0 in labels with no predicted samples. Use `zero_division` parameter to control this behavior.\n",
            "  _warn_prf(average, modifier, msg_start, len(result))\n",
            "/usr/local/lib/python3.10/dist-packages/sklearn/metrics/_classification.py:1344: UndefinedMetricWarning: Precision and F-score are ill-defined and being set to 0.0 in labels with no predicted samples. Use `zero_division` parameter to control this behavior.\n",
            "  _warn_prf(average, modifier, msg_start, len(result))\n",
            "/usr/local/lib/python3.10/dist-packages/sklearn/metrics/_classification.py:1344: UndefinedMetricWarning: Precision and F-score are ill-defined and being set to 0.0 in labels with no predicted samples. Use `zero_division` parameter to control this behavior.\n",
            "  _warn_prf(average, modifier, msg_start, len(result))\n"
          ]
        }
      ]
    },
    {
      "cell_type": "code",
      "source": [
        "#logistic regresion\n"
      ],
      "metadata": {
        "id": "URdHi0sLpqm0"
      },
      "execution_count": null,
      "outputs": []
    },
    {
      "cell_type": "code",
      "source": [
        "# fitting data to model\n",
        "\n",
        "from sklearn.linear_model import LogisticRegression\n",
        "from sklearn.metrics import accuracy_score, confusion_matrix, classification_report\n",
        "\n",
        "lr = LogisticRegression()\n",
        "\n",
        "lr.fit(X_train, y_train)\n",
        "\n",
        "y_pred = lr.predict(X_test)\n",
        "\n",
        "lr_train_acc = accuracy_score(y_train, lr.predict(X_train))\n",
        "lr_test_acc = accuracy_score(y_test, y_pred)\n",
        "\n",
        "print(f\"Training Accuracy of Logistic Regression Model is {lr_train_acc}\")\n",
        "print(f\"Test Accuracy of Logistic Regression Model is {lr_test_acc}\")"
      ],
      "metadata": {
        "colab": {
          "base_uri": "https://localhost:8080/"
        },
        "id": "4JcVT0cJpshR",
        "outputId": "94e64076-662a-4b14-d6c7-61b27b40da4e"
      },
      "execution_count": null,
      "outputs": [
        {
          "output_type": "stream",
          "name": "stdout",
          "text": [
            "Training Accuracy of Logistic Regression Model is 0.8658536585365854\n",
            "Test Accuracy of Logistic Regression Model is 0.07317073170731707\n"
          ]
        },
        {
          "output_type": "stream",
          "name": "stderr",
          "text": [
            "/usr/local/lib/python3.10/dist-packages/sklearn/linear_model/_logistic.py:458: ConvergenceWarning: lbfgs failed to converge (status=1):\n",
            "STOP: TOTAL NO. of ITERATIONS REACHED LIMIT.\n",
            "\n",
            "Increase the number of iterations (max_iter) or scale the data as shown in:\n",
            "    https://scikit-learn.org/stable/modules/preprocessing.html\n",
            "Please also refer to the documentation for alternative solver options:\n",
            "    https://scikit-learn.org/stable/modules/linear_model.html#logistic-regression\n",
            "  n_iter_i = _check_optimize_result(\n"
          ]
        }
      ]
    },
    {
      "cell_type": "code",
      "source": [
        "# confusion matrix\n",
        "\n",
        "confusion_matrix(y_test, y_pred)"
      ],
      "metadata": {
        "colab": {
          "base_uri": "https://localhost:8080/"
        },
        "id": "uVvTuLFGps88",
        "outputId": "b95cb09d-634a-45f4-93a1-8b08a7fbaeaf"
      },
      "execution_count": null,
      "outputs": [
        {
          "output_type": "execute_result",
          "data": {
            "text/plain": [
              "array([[0, 0, 0, ..., 0, 0, 0],\n",
              "       [0, 0, 0, ..., 0, 0, 0],\n",
              "       [0, 0, 0, ..., 0, 0, 0],\n",
              "       ...,\n",
              "       [0, 0, 0, ..., 0, 0, 0],\n",
              "       [0, 0, 0, ..., 0, 0, 1],\n",
              "       [0, 0, 0, ..., 0, 0, 1]])"
            ]
          },
          "metadata": {},
          "execution_count": 190
        }
      ]
    },
    {
      "cell_type": "code",
      "source": [
        "# classification report\n",
        "\n",
        "print(classification_report(y_test, y_pred))"
      ],
      "metadata": {
        "colab": {
          "base_uri": "https://localhost:8080/"
        },
        "id": "DQ45AaIypx9b",
        "outputId": "f2a73a9e-11ec-4458-ece9-2021824f0fde"
      },
      "execution_count": null,
      "outputs": [
        {
          "output_type": "stream",
          "name": "stdout",
          "text": [
            "              precision    recall  f1-score   support\n",
            "\n",
            "           0       0.00      0.00      0.00         1\n",
            "           3       0.00      0.00      0.00         1\n",
            "           5       0.00      0.00      0.00         1\n",
            "           7       0.00      0.00      0.00         4\n",
            "           9       0.00      0.00      0.00         1\n",
            "          10       0.00      0.00      0.00         1\n",
            "          12       0.00      0.00      0.00         1\n",
            "          17       0.00      0.00      0.00         1\n",
            "          19       0.00      0.00      0.00         2\n",
            "          22       0.00      0.00      0.00         0\n",
            "          25       0.00      0.00      0.00         1\n",
            "          26       0.33      0.33      0.33         3\n",
            "          27       0.00      0.00      0.00         2\n",
            "          31       0.00      0.00      0.00         4\n",
            "          35       0.00      0.00      0.00         0\n",
            "          36       0.00      0.00      0.00         1\n",
            "          38       0.00      0.00      0.00         1\n",
            "          39       0.00      0.00      0.00         0\n",
            "          40       0.50      1.00      0.67         1\n",
            "          41       0.00      0.00      0.00         1\n",
            "          42       0.00      0.00      0.00         1\n",
            "          43       0.00      0.00      0.00         0\n",
            "          44       0.00      0.00      0.00         1\n",
            "          51       0.00      0.00      0.00         0\n",
            "          53       0.00      0.00      0.00         0\n",
            "          56       0.00      0.00      0.00         0\n",
            "          57       0.00      0.00      0.00         0\n",
            "          59       0.00      0.00      0.00         0\n",
            "          60       0.00      0.00      0.00         1\n",
            "          62       0.00      0.00      0.00         0\n",
            "          64       0.00      0.00      0.00         0\n",
            "          65       0.00      0.00      0.00         1\n",
            "          67       0.00      0.00      0.00         1\n",
            "          71       0.00      0.00      0.00         1\n",
            "          73       0.00      0.00      0.00         1\n",
            "          74       0.00      0.00      0.00         1\n",
            "          75       0.00      0.00      0.00         0\n",
            "          76       0.00      0.00      0.00         0\n",
            "          79       0.00      0.00      0.00         0\n",
            "          80       0.00      0.00      0.00         1\n",
            "          83       0.00      0.00      0.00         1\n",
            "          84       0.00      0.00      0.00         0\n",
            "          85       0.00      0.00      0.00         1\n",
            "          89       0.00      0.00      0.00         1\n",
            "          92       0.33      0.50      0.40         2\n",
            "\n",
            "    accuracy                           0.07        41\n",
            "   macro avg       0.03      0.04      0.03        41\n",
            "weighted avg       0.05      0.07      0.06        41\n",
            "\n"
          ]
        },
        {
          "output_type": "stream",
          "name": "stderr",
          "text": [
            "/usr/local/lib/python3.10/dist-packages/sklearn/metrics/_classification.py:1344: UndefinedMetricWarning: Precision and F-score are ill-defined and being set to 0.0 in labels with no predicted samples. Use `zero_division` parameter to control this behavior.\n",
            "  _warn_prf(average, modifier, msg_start, len(result))\n",
            "/usr/local/lib/python3.10/dist-packages/sklearn/metrics/_classification.py:1344: UndefinedMetricWarning: Recall and F-score are ill-defined and being set to 0.0 in labels with no true samples. Use `zero_division` parameter to control this behavior.\n",
            "  _warn_prf(average, modifier, msg_start, len(result))\n",
            "/usr/local/lib/python3.10/dist-packages/sklearn/metrics/_classification.py:1344: UndefinedMetricWarning: Precision and F-score are ill-defined and being set to 0.0 in labels with no predicted samples. Use `zero_division` parameter to control this behavior.\n",
            "  _warn_prf(average, modifier, msg_start, len(result))\n",
            "/usr/local/lib/python3.10/dist-packages/sklearn/metrics/_classification.py:1344: UndefinedMetricWarning: Recall and F-score are ill-defined and being set to 0.0 in labels with no true samples. Use `zero_division` parameter to control this behavior.\n",
            "  _warn_prf(average, modifier, msg_start, len(result))\n",
            "/usr/local/lib/python3.10/dist-packages/sklearn/metrics/_classification.py:1344: UndefinedMetricWarning: Precision and F-score are ill-defined and being set to 0.0 in labels with no predicted samples. Use `zero_division` parameter to control this behavior.\n",
            "  _warn_prf(average, modifier, msg_start, len(result))\n",
            "/usr/local/lib/python3.10/dist-packages/sklearn/metrics/_classification.py:1344: UndefinedMetricWarning: Recall and F-score are ill-defined and being set to 0.0 in labels with no true samples. Use `zero_division` parameter to control this behavior.\n",
            "  _warn_prf(average, modifier, msg_start, len(result))\n"
          ]
        }
      ]
    },
    {
      "cell_type": "code",
      "source": [
        "#K Neighbors Classifier (KNN)"
      ],
      "metadata": {
        "id": "ORRqwP66p03J"
      },
      "execution_count": null,
      "outputs": []
    },
    {
      "cell_type": "code",
      "source": [
        "from sklearn.neighbors import KNeighborsClassifier\n",
        "\n",
        "knn = KNeighborsClassifier()\n",
        "knn.fit(X_train, y_train)\n",
        "\n",
        "y_pred = knn.predict(X_test)\n",
        "\n",
        "knn_train_acc = accuracy_score(y_train, knn.predict(X_train))\n",
        "knn_test_acc = accuracy_score(y_test, y_pred)\n",
        "\n",
        "print(f\"Training Accuracy of KNN Model is {knn_train_acc}\")\n",
        "print(f\"Test Accuracy of KNN Model is {knn_test_acc}\")"
      ],
      "metadata": {
        "colab": {
          "base_uri": "https://localhost:8080/"
        },
        "id": "V4ORRyk8p11_",
        "outputId": "5e96a3ff-d236-4ba3-f786-0c267d00f3e0"
      },
      "execution_count": null,
      "outputs": [
        {
          "output_type": "stream",
          "name": "stdout",
          "text": [
            "Training Accuracy of KNN Model is 0.3353658536585366\n",
            "Test Accuracy of KNN Model is 0.07317073170731707\n"
          ]
        }
      ]
    },
    {
      "cell_type": "code",
      "source": [
        "# confusion matrix\n",
        "\n",
        "confusion_matrix(y_test, y_pred)"
      ],
      "metadata": {
        "colab": {
          "base_uri": "https://localhost:8080/"
        },
        "id": "zqD17FWyp5iy",
        "outputId": "592cba3e-37ea-4d1f-cd54-f059c1669951"
      },
      "execution_count": null,
      "outputs": [
        {
          "output_type": "execute_result",
          "data": {
            "text/plain": [
              "array([[0, 0, 0, ..., 0, 0, 0],\n",
              "       [0, 0, 0, ..., 0, 0, 0],\n",
              "       [0, 0, 1, ..., 0, 0, 0],\n",
              "       ...,\n",
              "       [0, 0, 0, ..., 0, 0, 0],\n",
              "       [0, 0, 1, ..., 0, 0, 0],\n",
              "       [0, 0, 1, ..., 0, 0, 0]])"
            ]
          },
          "metadata": {},
          "execution_count": 194
        }
      ]
    },
    {
      "cell_type": "code",
      "source": [
        "# classification report\n",
        "\n",
        "print(classification_report(y_test, y_pred))"
      ],
      "metadata": {
        "colab": {
          "base_uri": "https://localhost:8080/"
        },
        "id": "oWphjbKPp7gK",
        "outputId": "d544be69-26e5-4ebf-cff5-9dd4f528da7f"
      },
      "execution_count": null,
      "outputs": [
        {
          "output_type": "stream",
          "name": "stdout",
          "text": [
            "              precision    recall  f1-score   support\n",
            "\n",
            "           0       0.00      0.00      0.00         1\n",
            "           2       0.00      0.00      0.00         0\n",
            "           3       0.14      1.00      0.25         1\n",
            "           4       0.00      0.00      0.00         0\n",
            "           5       0.00      0.00      0.00         1\n",
            "           6       0.00      0.00      0.00         0\n",
            "           7       0.09      0.25      0.13         4\n",
            "           8       0.00      0.00      0.00         0\n",
            "           9       0.00      0.00      0.00         1\n",
            "          10       0.00      0.00      0.00         1\n",
            "          11       0.00      0.00      0.00         0\n",
            "          12       0.00      0.00      0.00         1\n",
            "          17       0.00      0.00      0.00         1\n",
            "          18       0.00      0.00      0.00         0\n",
            "          19       0.00      0.00      0.00         2\n",
            "          21       0.00      0.00      0.00         0\n",
            "          25       0.00      0.00      0.00         1\n",
            "          26       0.00      0.00      0.00         3\n",
            "          27       0.50      0.50      0.50         2\n",
            "          31       0.00      0.00      0.00         4\n",
            "          36       0.00      0.00      0.00         1\n",
            "          38       0.00      0.00      0.00         1\n",
            "          40       0.00      0.00      0.00         1\n",
            "          41       0.00      0.00      0.00         1\n",
            "          42       0.00      0.00      0.00         1\n",
            "          43       0.00      0.00      0.00         0\n",
            "          44       0.00      0.00      0.00         1\n",
            "          56       0.00      0.00      0.00         0\n",
            "          60       0.00      0.00      0.00         1\n",
            "          65       0.00      0.00      0.00         1\n",
            "          67       0.00      0.00      0.00         1\n",
            "          71       0.00      0.00      0.00         1\n",
            "          73       0.00      0.00      0.00         1\n",
            "          74       0.00      0.00      0.00         1\n",
            "          80       0.00      0.00      0.00         1\n",
            "          83       0.00      0.00      0.00         1\n",
            "          85       0.00      0.00      0.00         1\n",
            "          89       0.00      0.00      0.00         1\n",
            "          92       0.00      0.00      0.00         2\n",
            "\n",
            "    accuracy                           0.07        41\n",
            "   macro avg       0.02      0.04      0.02        41\n",
            "weighted avg       0.04      0.07      0.04        41\n",
            "\n"
          ]
        },
        {
          "output_type": "stream",
          "name": "stderr",
          "text": [
            "/usr/local/lib/python3.10/dist-packages/sklearn/metrics/_classification.py:1344: UndefinedMetricWarning: Precision and F-score are ill-defined and being set to 0.0 in labels with no predicted samples. Use `zero_division` parameter to control this behavior.\n",
            "  _warn_prf(average, modifier, msg_start, len(result))\n",
            "/usr/local/lib/python3.10/dist-packages/sklearn/metrics/_classification.py:1344: UndefinedMetricWarning: Recall and F-score are ill-defined and being set to 0.0 in labels with no true samples. Use `zero_division` parameter to control this behavior.\n",
            "  _warn_prf(average, modifier, msg_start, len(result))\n",
            "/usr/local/lib/python3.10/dist-packages/sklearn/metrics/_classification.py:1344: UndefinedMetricWarning: Precision and F-score are ill-defined and being set to 0.0 in labels with no predicted samples. Use `zero_division` parameter to control this behavior.\n",
            "  _warn_prf(average, modifier, msg_start, len(result))\n",
            "/usr/local/lib/python3.10/dist-packages/sklearn/metrics/_classification.py:1344: UndefinedMetricWarning: Recall and F-score are ill-defined and being set to 0.0 in labels with no true samples. Use `zero_division` parameter to control this behavior.\n",
            "  _warn_prf(average, modifier, msg_start, len(result))\n",
            "/usr/local/lib/python3.10/dist-packages/sklearn/metrics/_classification.py:1344: UndefinedMetricWarning: Precision and F-score are ill-defined and being set to 0.0 in labels with no predicted samples. Use `zero_division` parameter to control this behavior.\n",
            "  _warn_prf(average, modifier, msg_start, len(result))\n",
            "/usr/local/lib/python3.10/dist-packages/sklearn/metrics/_classification.py:1344: UndefinedMetricWarning: Recall and F-score are ill-defined and being set to 0.0 in labels with no true samples. Use `zero_division` parameter to control this behavior.\n",
            "  _warn_prf(average, modifier, msg_start, len(result))\n"
          ]
        }
      ]
    },
    {
      "cell_type": "code",
      "source": [
        "#Decision Tree Classifier"
      ],
      "metadata": {
        "id": "C-bAq--XqJXw"
      },
      "execution_count": null,
      "outputs": []
    },
    {
      "cell_type": "code",
      "source": [
        "from sklearn.tree import DecisionTreeClassifier\n",
        "\n",
        "dtc = DecisionTreeClassifier()\n",
        "dtc.fit(X_train, y_train)\n",
        "\n",
        "y_pred = dtc.predict(X_test)\n",
        "\n",
        "dtc_train_acc = accuracy_score(y_train, dtc.predict(X_train))\n",
        "dtc_test_acc = accuracy_score(y_test, y_pred)\n",
        "\n",
        "print(f\"Training Accuracy of Decision Tree Model is {dtc_train_acc}\")\n",
        "print(f\"Test Accuracy of Decision Tree Model is {dtc_test_acc}\")"
      ],
      "metadata": {
        "colab": {
          "base_uri": "https://localhost:8080/"
        },
        "id": "w6QLt5C0qKL-",
        "outputId": "f3b65c94-527a-4f8c-e58d-f2edb2b41d05"
      },
      "execution_count": null,
      "outputs": [
        {
          "output_type": "stream",
          "name": "stdout",
          "text": [
            "Training Accuracy of Decision Tree Model is 1.0\n",
            "Test Accuracy of Decision Tree Model is 0.07317073170731707\n"
          ]
        }
      ]
    },
    {
      "cell_type": "code",
      "source": [
        "# confusion matrix\n",
        "\n",
        "confusion_matrix(y_test, y_pred)"
      ],
      "metadata": {
        "colab": {
          "base_uri": "https://localhost:8080/"
        },
        "id": "BnQfX8e8qNKm",
        "outputId": "bf1aa6b4-fc92-4713-c67a-a755e444473a"
      },
      "execution_count": null,
      "outputs": [
        {
          "output_type": "execute_result",
          "data": {
            "text/plain": [
              "array([[0, 0, 0, ..., 0, 0, 0],\n",
              "       [0, 0, 0, ..., 0, 0, 0],\n",
              "       [0, 0, 0, ..., 0, 0, 0],\n",
              "       ...,\n",
              "       [0, 0, 0, ..., 0, 0, 0],\n",
              "       [0, 0, 0, ..., 0, 0, 0],\n",
              "       [0, 0, 0, ..., 0, 0, 1]])"
            ]
          },
          "metadata": {},
          "execution_count": 198
        }
      ]
    },
    {
      "cell_type": "code",
      "source": [
        "# classification report\n",
        "\n",
        "print(classification_report(y_test, y_pred))"
      ],
      "metadata": {
        "colab": {
          "base_uri": "https://localhost:8080/"
        },
        "id": "TwIK-pLsqQ-i",
        "outputId": "ecaa0627-0124-4e10-99fd-263da82a9851"
      },
      "execution_count": null,
      "outputs": [
        {
          "output_type": "stream",
          "name": "stdout",
          "text": [
            "              precision    recall  f1-score   support\n",
            "\n",
            "           0       0.00      0.00      0.00         1\n",
            "           3       0.00      0.00      0.00         1\n",
            "           5       0.00      0.00      0.00         1\n",
            "           6       0.00      0.00      0.00         0\n",
            "           7       0.25      0.25      0.25         4\n",
            "           9       0.00      0.00      0.00         1\n",
            "          10       0.00      0.00      0.00         1\n",
            "          12       0.00      0.00      0.00         1\n",
            "          14       0.00      0.00      0.00         0\n",
            "          17       0.00      0.00      0.00         1\n",
            "          19       0.00      0.00      0.00         2\n",
            "          22       0.00      0.00      0.00         0\n",
            "          25       0.00      0.00      0.00         1\n",
            "          26       0.00      0.00      0.00         3\n",
            "          27       0.00      0.00      0.00         2\n",
            "          31       0.00      0.00      0.00         4\n",
            "          33       0.00      0.00      0.00         0\n",
            "          36       0.00      0.00      0.00         1\n",
            "          38       0.00      0.00      0.00         1\n",
            "          39       0.00      0.00      0.00         0\n",
            "          40       1.00      1.00      1.00         1\n",
            "          41       0.00      0.00      0.00         1\n",
            "          42       0.00      0.00      0.00         1\n",
            "          44       0.00      0.00      0.00         1\n",
            "          50       0.00      0.00      0.00         0\n",
            "          51       0.00      0.00      0.00         0\n",
            "          55       0.00      0.00      0.00         0\n",
            "          58       0.00      0.00      0.00         0\n",
            "          60       0.00      0.00      0.00         1\n",
            "          64       0.00      0.00      0.00         0\n",
            "          65       0.00      0.00      0.00         1\n",
            "          67       0.00      0.00      0.00         1\n",
            "          71       0.00      0.00      0.00         1\n",
            "          73       0.00      0.00      0.00         1\n",
            "          74       0.00      0.00      0.00         1\n",
            "          75       0.00      0.00      0.00         0\n",
            "          76       0.00      0.00      0.00         0\n",
            "          79       0.00      0.00      0.00         0\n",
            "          80       0.00      0.00      0.00         1\n",
            "          82       0.00      0.00      0.00         0\n",
            "          83       0.00      0.00      0.00         1\n",
            "          84       0.00      0.00      0.00         0\n",
            "          85       0.00      0.00      0.00         1\n",
            "          88       0.00      0.00      0.00         0\n",
            "          89       0.00      0.00      0.00         1\n",
            "          90       0.00      0.00      0.00         0\n",
            "          92       1.00      0.50      0.67         2\n",
            "\n",
            "    accuracy                           0.07        41\n",
            "   macro avg       0.05      0.04      0.04        41\n",
            "weighted avg       0.10      0.07      0.08        41\n",
            "\n"
          ]
        },
        {
          "output_type": "stream",
          "name": "stderr",
          "text": [
            "/usr/local/lib/python3.10/dist-packages/sklearn/metrics/_classification.py:1344: UndefinedMetricWarning: Precision and F-score are ill-defined and being set to 0.0 in labels with no predicted samples. Use `zero_division` parameter to control this behavior.\n",
            "  _warn_prf(average, modifier, msg_start, len(result))\n",
            "/usr/local/lib/python3.10/dist-packages/sklearn/metrics/_classification.py:1344: UndefinedMetricWarning: Recall and F-score are ill-defined and being set to 0.0 in labels with no true samples. Use `zero_division` parameter to control this behavior.\n",
            "  _warn_prf(average, modifier, msg_start, len(result))\n",
            "/usr/local/lib/python3.10/dist-packages/sklearn/metrics/_classification.py:1344: UndefinedMetricWarning: Precision and F-score are ill-defined and being set to 0.0 in labels with no predicted samples. Use `zero_division` parameter to control this behavior.\n",
            "  _warn_prf(average, modifier, msg_start, len(result))\n",
            "/usr/local/lib/python3.10/dist-packages/sklearn/metrics/_classification.py:1344: UndefinedMetricWarning: Recall and F-score are ill-defined and being set to 0.0 in labels with no true samples. Use `zero_division` parameter to control this behavior.\n",
            "  _warn_prf(average, modifier, msg_start, len(result))\n",
            "/usr/local/lib/python3.10/dist-packages/sklearn/metrics/_classification.py:1344: UndefinedMetricWarning: Precision and F-score are ill-defined and being set to 0.0 in labels with no predicted samples. Use `zero_division` parameter to control this behavior.\n",
            "  _warn_prf(average, modifier, msg_start, len(result))\n",
            "/usr/local/lib/python3.10/dist-packages/sklearn/metrics/_classification.py:1344: UndefinedMetricWarning: Recall and F-score are ill-defined and being set to 0.0 in labels with no true samples. Use `zero_division` parameter to control this behavior.\n",
            "  _warn_prf(average, modifier, msg_start, len(result))\n"
          ]
        }
      ]
    },
    {
      "cell_type": "code",
      "source": [
        "#Random Forest Classifier"
      ],
      "metadata": {
        "id": "lHtSO-IEqiHj"
      },
      "execution_count": null,
      "outputs": []
    },
    {
      "cell_type": "code",
      "source": [
        "from sklearn.ensemble import RandomForestClassifier\n",
        "\n",
        "rand_clf = RandomForestClassifier(criterion = 'gini', max_depth = 3, max_features = 'sqrt', min_samples_leaf = 2, min_samples_split = 4, n_estimators = 180)\n",
        "rand_clf.fit(X_train, y_train)\n",
        "\n",
        "y_pred = rand_clf.predict(X_test)\n",
        "\n",
        "rand_clf_train_acc = accuracy_score(y_train, rand_clf.predict(X_train))\n",
        "rand_clf_test_acc = accuracy_score(y_test, y_pred)\n",
        "\n",
        "print(f\"Training Accuracy of Random Forest Model is {rand_clf_train_acc}\")\n",
        "print(f\"Test Accuracy of Random Forest Model is {rand_clf_test_acc}\")"
      ],
      "metadata": {
        "colab": {
          "base_uri": "https://localhost:8080/"
        },
        "id": "zT7R2gZjqlhz",
        "outputId": "3cdf45b5-d1de-43d1-83c3-17c7928d2e00"
      },
      "execution_count": null,
      "outputs": [
        {
          "output_type": "stream",
          "name": "stdout",
          "text": [
            "Training Accuracy of Random Forest Model is 0.27439024390243905\n",
            "Test Accuracy of Random Forest Model is 0.14634146341463414\n"
          ]
        }
      ]
    },
    {
      "cell_type": "code",
      "source": [
        "# confusion matrix\n",
        "\n",
        "confusion_matrix(y_test, y_pred)"
      ],
      "metadata": {
        "colab": {
          "base_uri": "https://localhost:8080/"
        },
        "id": "3efKlBInqpan",
        "outputId": "6a4c57da-10d9-45f8-dbe2-a51f5aa6e150"
      },
      "execution_count": null,
      "outputs": [
        {
          "output_type": "execute_result",
          "data": {
            "text/plain": [
              "array([[0, 0, 0, 1, 0, 0, 0, 0, 0, 0, 0, 0, 0, 0, 0, 0, 0, 0, 0, 0, 0, 0,\n",
              "        0, 0, 0, 0, 0, 0, 0, 0, 0],\n",
              "       [0, 0, 0, 1, 0, 0, 0, 0, 0, 0, 0, 0, 0, 0, 0, 0, 0, 0, 0, 0, 0, 0,\n",
              "        0, 0, 0, 0, 0, 0, 0, 0, 0],\n",
              "       [0, 0, 0, 1, 0, 0, 0, 0, 0, 0, 0, 0, 0, 0, 0, 0, 0, 0, 0, 0, 0, 0,\n",
              "        0, 0, 0, 0, 0, 0, 0, 0, 0],\n",
              "       [0, 0, 0, 4, 0, 0, 0, 0, 0, 0, 0, 0, 0, 0, 0, 0, 0, 0, 0, 0, 0, 0,\n",
              "        0, 0, 0, 0, 0, 0, 0, 0, 0],\n",
              "       [0, 0, 0, 1, 0, 0, 0, 0, 0, 0, 0, 0, 0, 0, 0, 0, 0, 0, 0, 0, 0, 0,\n",
              "        0, 0, 0, 0, 0, 0, 0, 0, 0],\n",
              "       [0, 0, 0, 0, 0, 0, 0, 0, 1, 0, 0, 0, 0, 0, 0, 0, 0, 0, 0, 0, 0, 0,\n",
              "        0, 0, 0, 0, 0, 0, 0, 0, 0],\n",
              "       [0, 0, 0, 1, 0, 0, 0, 0, 0, 0, 0, 0, 0, 0, 0, 0, 0, 0, 0, 0, 0, 0,\n",
              "        0, 0, 0, 0, 0, 0, 0, 0, 0],\n",
              "       [0, 0, 0, 0, 0, 0, 0, 0, 1, 0, 0, 0, 0, 0, 0, 0, 0, 0, 0, 0, 0, 0,\n",
              "        0, 0, 0, 0, 0, 0, 0, 0, 0],\n",
              "       [0, 0, 0, 2, 0, 0, 0, 0, 0, 0, 0, 0, 0, 0, 0, 0, 0, 0, 0, 0, 0, 0,\n",
              "        0, 0, 0, 0, 0, 0, 0, 0, 0],\n",
              "       [0, 0, 0, 1, 0, 0, 0, 0, 0, 0, 0, 0, 0, 0, 0, 0, 0, 0, 0, 0, 0, 0,\n",
              "        0, 0, 0, 0, 0, 0, 0, 0, 0],\n",
              "       [0, 0, 0, 3, 0, 0, 0, 0, 0, 0, 0, 0, 0, 0, 0, 0, 0, 0, 0, 0, 0, 0,\n",
              "        0, 0, 0, 0, 0, 0, 0, 0, 0],\n",
              "       [0, 0, 0, 2, 0, 0, 0, 0, 0, 0, 0, 0, 0, 0, 0, 0, 0, 0, 0, 0, 0, 0,\n",
              "        0, 0, 0, 0, 0, 0, 0, 0, 0],\n",
              "       [0, 0, 0, 1, 0, 0, 0, 0, 2, 0, 0, 1, 0, 0, 0, 0, 0, 0, 0, 0, 0, 0,\n",
              "        0, 0, 0, 0, 0, 0, 0, 0, 0],\n",
              "       [0, 0, 0, 1, 0, 0, 0, 0, 0, 0, 0, 0, 0, 0, 0, 0, 0, 0, 0, 0, 0, 0,\n",
              "        0, 0, 0, 0, 0, 0, 0, 0, 0],\n",
              "       [0, 0, 0, 1, 0, 0, 0, 0, 0, 0, 0, 0, 0, 0, 0, 0, 0, 0, 0, 0, 0, 0,\n",
              "        0, 0, 0, 0, 0, 0, 0, 0, 0],\n",
              "       [0, 0, 0, 0, 0, 0, 0, 0, 0, 0, 0, 0, 0, 0, 0, 0, 0, 0, 0, 1, 0, 0,\n",
              "        0, 0, 0, 0, 0, 0, 0, 0, 0],\n",
              "       [0, 0, 0, 1, 0, 0, 0, 0, 0, 0, 0, 0, 0, 0, 0, 0, 0, 0, 0, 0, 0, 0,\n",
              "        0, 0, 0, 0, 0, 0, 0, 0, 0],\n",
              "       [0, 0, 0, 1, 0, 0, 0, 0, 0, 0, 0, 0, 0, 0, 0, 0, 0, 0, 0, 0, 0, 0,\n",
              "        0, 0, 0, 0, 0, 0, 0, 0, 0],\n",
              "       [0, 0, 0, 1, 0, 0, 0, 0, 0, 0, 0, 0, 0, 0, 0, 0, 0, 0, 0, 0, 0, 0,\n",
              "        0, 0, 0, 0, 0, 0, 0, 0, 0],\n",
              "       [0, 0, 0, 0, 0, 0, 0, 0, 0, 0, 0, 0, 0, 0, 0, 0, 0, 0, 0, 0, 0, 0,\n",
              "        0, 0, 0, 0, 0, 0, 0, 0, 0],\n",
              "       [0, 0, 0, 1, 0, 0, 0, 0, 0, 0, 0, 0, 0, 0, 0, 0, 0, 0, 0, 0, 0, 0,\n",
              "        0, 0, 0, 0, 0, 0, 0, 0, 0],\n",
              "       [0, 0, 0, 1, 0, 0, 0, 0, 0, 0, 0, 0, 0, 0, 0, 0, 0, 0, 0, 0, 0, 0,\n",
              "        0, 0, 0, 0, 0, 0, 0, 0, 0],\n",
              "       [0, 0, 0, 1, 0, 0, 0, 0, 0, 0, 0, 0, 0, 0, 0, 0, 0, 0, 0, 0, 0, 0,\n",
              "        0, 0, 0, 0, 0, 0, 0, 0, 0],\n",
              "       [0, 0, 0, 1, 0, 0, 0, 0, 0, 0, 0, 0, 0, 0, 0, 0, 0, 0, 0, 0, 0, 0,\n",
              "        0, 0, 0, 0, 0, 0, 0, 0, 0],\n",
              "       [0, 0, 0, 1, 0, 0, 0, 0, 0, 0, 0, 0, 0, 0, 0, 0, 0, 0, 0, 0, 0, 0,\n",
              "        0, 0, 0, 0, 0, 0, 0, 0, 0],\n",
              "       [0, 0, 0, 1, 0, 0, 0, 0, 0, 0, 0, 0, 0, 0, 0, 0, 0, 0, 0, 0, 0, 0,\n",
              "        0, 0, 0, 0, 0, 0, 0, 0, 0],\n",
              "       [0, 0, 0, 0, 0, 0, 0, 0, 0, 0, 1, 0, 0, 0, 0, 0, 0, 0, 0, 0, 0, 0,\n",
              "        0, 0, 0, 0, 0, 0, 0, 0, 0],\n",
              "       [0, 0, 0, 1, 0, 0, 0, 0, 0, 0, 0, 0, 0, 0, 0, 0, 0, 0, 0, 0, 0, 0,\n",
              "        0, 0, 0, 0, 0, 0, 0, 0, 0],\n",
              "       [0, 0, 0, 1, 0, 0, 0, 0, 0, 0, 0, 0, 0, 0, 0, 0, 0, 0, 0, 0, 0, 0,\n",
              "        0, 0, 0, 0, 0, 0, 0, 0, 0],\n",
              "       [0, 0, 0, 1, 0, 0, 0, 0, 0, 0, 0, 0, 0, 0, 0, 0, 0, 0, 0, 0, 0, 0,\n",
              "        0, 0, 0, 0, 0, 0, 0, 0, 0],\n",
              "       [0, 0, 0, 0, 0, 0, 0, 0, 0, 0, 0, 0, 0, 0, 0, 0, 0, 0, 0, 0, 0, 0,\n",
              "        0, 0, 0, 0, 0, 0, 0, 0, 2]])"
            ]
          },
          "metadata": {},
          "execution_count": 202
        }
      ]
    },
    {
      "cell_type": "code",
      "source": [
        "# classification report\n",
        "\n",
        "print(classification_report(y_test, y_pred))"
      ],
      "metadata": {
        "colab": {
          "base_uri": "https://localhost:8080/"
        },
        "id": "j1M_uzMUqrVw",
        "outputId": "0bdbecd6-c94c-4678-978f-ccf9b2e787df"
      },
      "execution_count": null,
      "outputs": [
        {
          "output_type": "stream",
          "name": "stdout",
          "text": [
            "              precision    recall  f1-score   support\n",
            "\n",
            "           0       0.00      0.00      0.00         1\n",
            "           3       0.00      0.00      0.00         1\n",
            "           5       0.00      0.00      0.00         1\n",
            "           7       0.12      1.00      0.22         4\n",
            "           9       0.00      0.00      0.00         1\n",
            "          10       0.00      0.00      0.00         1\n",
            "          12       0.00      0.00      0.00         1\n",
            "          17       0.00      0.00      0.00         1\n",
            "          19       0.00      0.00      0.00         2\n",
            "          25       0.00      0.00      0.00         1\n",
            "          26       0.00      0.00      0.00         3\n",
            "          27       0.00      0.00      0.00         2\n",
            "          31       0.00      0.00      0.00         4\n",
            "          36       0.00      0.00      0.00         1\n",
            "          38       0.00      0.00      0.00         1\n",
            "          40       0.00      0.00      0.00         1\n",
            "          41       0.00      0.00      0.00         1\n",
            "          42       0.00      0.00      0.00         1\n",
            "          44       0.00      0.00      0.00         1\n",
            "          50       0.00      0.00      0.00         0\n",
            "          60       0.00      0.00      0.00         1\n",
            "          65       0.00      0.00      0.00         1\n",
            "          67       0.00      0.00      0.00         1\n",
            "          71       0.00      0.00      0.00         1\n",
            "          73       0.00      0.00      0.00         1\n",
            "          74       0.00      0.00      0.00         1\n",
            "          80       0.00      0.00      0.00         1\n",
            "          83       0.00      0.00      0.00         1\n",
            "          85       0.00      0.00      0.00         1\n",
            "          89       0.00      0.00      0.00         1\n",
            "          92       1.00      1.00      1.00         2\n",
            "\n",
            "    accuracy                           0.15        41\n",
            "   macro avg       0.04      0.06      0.04        41\n",
            "weighted avg       0.06      0.15      0.07        41\n",
            "\n"
          ]
        },
        {
          "output_type": "stream",
          "name": "stderr",
          "text": [
            "/usr/local/lib/python3.10/dist-packages/sklearn/metrics/_classification.py:1344: UndefinedMetricWarning: Precision and F-score are ill-defined and being set to 0.0 in labels with no predicted samples. Use `zero_division` parameter to control this behavior.\n",
            "  _warn_prf(average, modifier, msg_start, len(result))\n",
            "/usr/local/lib/python3.10/dist-packages/sklearn/metrics/_classification.py:1344: UndefinedMetricWarning: Recall and F-score are ill-defined and being set to 0.0 in labels with no true samples. Use `zero_division` parameter to control this behavior.\n",
            "  _warn_prf(average, modifier, msg_start, len(result))\n",
            "/usr/local/lib/python3.10/dist-packages/sklearn/metrics/_classification.py:1344: UndefinedMetricWarning: Precision and F-score are ill-defined and being set to 0.0 in labels with no predicted samples. Use `zero_division` parameter to control this behavior.\n",
            "  _warn_prf(average, modifier, msg_start, len(result))\n",
            "/usr/local/lib/python3.10/dist-packages/sklearn/metrics/_classification.py:1344: UndefinedMetricWarning: Recall and F-score are ill-defined and being set to 0.0 in labels with no true samples. Use `zero_division` parameter to control this behavior.\n",
            "  _warn_prf(average, modifier, msg_start, len(result))\n",
            "/usr/local/lib/python3.10/dist-packages/sklearn/metrics/_classification.py:1344: UndefinedMetricWarning: Precision and F-score are ill-defined and being set to 0.0 in labels with no predicted samples. Use `zero_division` parameter to control this behavior.\n",
            "  _warn_prf(average, modifier, msg_start, len(result))\n",
            "/usr/local/lib/python3.10/dist-packages/sklearn/metrics/_classification.py:1344: UndefinedMetricWarning: Recall and F-score are ill-defined and being set to 0.0 in labels with no true samples. Use `zero_division` parameter to control this behavior.\n",
            "  _warn_prf(average, modifier, msg_start, len(result))\n"
          ]
        }
      ]
    },
    {
      "cell_type": "code",
      "source": [
        "from sklearn.model_selection import train_test_split\n",
        "\n",
        "train, val_train, test, val_test = train_test_split(X, y, test_size = 0.5, random_state = 355)"
      ],
      "metadata": {
        "id": "DpJpjpKSqyiV"
      },
      "execution_count": null,
      "outputs": []
    },
    {
      "cell_type": "code",
      "source": [
        "# let's split the training set again into training and test dataset\n",
        "\n",
        "X_train, X_test, y_train, y_test = train_test_split(train, test, test_size = 0.2, random_state = 355)"
      ],
      "metadata": {
        "id": "exz_cHoqq-aF"
      },
      "execution_count": null,
      "outputs": []
    },
    {
      "cell_type": "code",
      "source": [
        "models = ['Logistic Regression', 'KNN', 'Decision Tree', 'Random Forest']\n",
        "scores = [lr_test_acc, knn_test_acc,  dtc_test_acc, rand_clf_test_acc]\n",
        "models = pd.DataFrame({'Model' : models, 'Score' : scores})\n",
        "\n",
        "\n",
        "models.sort_values(by = 'Score', ascending = False)"
      ],
      "metadata": {
        "colab": {
          "base_uri": "https://localhost:8080/",
          "height": 175
        },
        "id": "jJUTkBC_rTrj",
        "outputId": "9a48defa-2372-4b9d-8d30-d0ef8e6688cc"
      },
      "execution_count": null,
      "outputs": [
        {
          "output_type": "execute_result",
          "data": {
            "text/plain": [
              "                 Model     Score\n",
              "3        Random Forest  0.146341\n",
              "0  Logistic Regression  0.073171\n",
              "1                  KNN  0.073171\n",
              "2        Decision Tree  0.073171"
            ],
            "text/html": [
              "\n",
              "  <div id=\"df-030c8843-57d1-4b0a-b87d-cd36f6b7c6e1\" class=\"colab-df-container\">\n",
              "    <div>\n",
              "<style scoped>\n",
              "    .dataframe tbody tr th:only-of-type {\n",
              "        vertical-align: middle;\n",
              "    }\n",
              "\n",
              "    .dataframe tbody tr th {\n",
              "        vertical-align: top;\n",
              "    }\n",
              "\n",
              "    .dataframe thead th {\n",
              "        text-align: right;\n",
              "    }\n",
              "</style>\n",
              "<table border=\"1\" class=\"dataframe\">\n",
              "  <thead>\n",
              "    <tr style=\"text-align: right;\">\n",
              "      <th></th>\n",
              "      <th>Model</th>\n",
              "      <th>Score</th>\n",
              "    </tr>\n",
              "  </thead>\n",
              "  <tbody>\n",
              "    <tr>\n",
              "      <th>3</th>\n",
              "      <td>Random Forest</td>\n",
              "      <td>0.146341</td>\n",
              "    </tr>\n",
              "    <tr>\n",
              "      <th>0</th>\n",
              "      <td>Logistic Regression</td>\n",
              "      <td>0.073171</td>\n",
              "    </tr>\n",
              "    <tr>\n",
              "      <th>1</th>\n",
              "      <td>KNN</td>\n",
              "      <td>0.073171</td>\n",
              "    </tr>\n",
              "    <tr>\n",
              "      <th>2</th>\n",
              "      <td>Decision Tree</td>\n",
              "      <td>0.073171</td>\n",
              "    </tr>\n",
              "  </tbody>\n",
              "</table>\n",
              "</div>\n",
              "    <div class=\"colab-df-buttons\">\n",
              "\n",
              "  <div class=\"colab-df-container\">\n",
              "    <button class=\"colab-df-convert\" onclick=\"convertToInteractive('df-030c8843-57d1-4b0a-b87d-cd36f6b7c6e1')\"\n",
              "            title=\"Convert this dataframe to an interactive table.\"\n",
              "            style=\"display:none;\">\n",
              "\n",
              "  <svg xmlns=\"http://www.w3.org/2000/svg\" height=\"24px\" viewBox=\"0 -960 960 960\">\n",
              "    <path d=\"M120-120v-720h720v720H120Zm60-500h600v-160H180v160Zm220 220h160v-160H400v160Zm0 220h160v-160H400v160ZM180-400h160v-160H180v160Zm440 0h160v-160H620v160ZM180-180h160v-160H180v160Zm440 0h160v-160H620v160Z\"/>\n",
              "  </svg>\n",
              "    </button>\n",
              "\n",
              "  <style>\n",
              "    .colab-df-container {\n",
              "      display:flex;\n",
              "      gap: 12px;\n",
              "    }\n",
              "\n",
              "    .colab-df-convert {\n",
              "      background-color: #E8F0FE;\n",
              "      border: none;\n",
              "      border-radius: 50%;\n",
              "      cursor: pointer;\n",
              "      display: none;\n",
              "      fill: #1967D2;\n",
              "      height: 32px;\n",
              "      padding: 0 0 0 0;\n",
              "      width: 32px;\n",
              "    }\n",
              "\n",
              "    .colab-df-convert:hover {\n",
              "      background-color: #E2EBFA;\n",
              "      box-shadow: 0px 1px 2px rgba(60, 64, 67, 0.3), 0px 1px 3px 1px rgba(60, 64, 67, 0.15);\n",
              "      fill: #174EA6;\n",
              "    }\n",
              "\n",
              "    .colab-df-buttons div {\n",
              "      margin-bottom: 4px;\n",
              "    }\n",
              "\n",
              "    [theme=dark] .colab-df-convert {\n",
              "      background-color: #3B4455;\n",
              "      fill: #D2E3FC;\n",
              "    }\n",
              "\n",
              "    [theme=dark] .colab-df-convert:hover {\n",
              "      background-color: #434B5C;\n",
              "      box-shadow: 0px 1px 3px 1px rgba(0, 0, 0, 0.15);\n",
              "      filter: drop-shadow(0px 1px 2px rgba(0, 0, 0, 0.3));\n",
              "      fill: #FFFFFF;\n",
              "    }\n",
              "  </style>\n",
              "\n",
              "    <script>\n",
              "      const buttonEl =\n",
              "        document.querySelector('#df-030c8843-57d1-4b0a-b87d-cd36f6b7c6e1 button.colab-df-convert');\n",
              "      buttonEl.style.display =\n",
              "        google.colab.kernel.accessAllowed ? 'block' : 'none';\n",
              "\n",
              "      async function convertToInteractive(key) {\n",
              "        const element = document.querySelector('#df-030c8843-57d1-4b0a-b87d-cd36f6b7c6e1');\n",
              "        const dataTable =\n",
              "          await google.colab.kernel.invokeFunction('convertToInteractive',\n",
              "                                                    [key], {});\n",
              "        if (!dataTable) return;\n",
              "\n",
              "        const docLinkHtml = 'Like what you see? Visit the ' +\n",
              "          '<a target=\"_blank\" href=https://colab.research.google.com/notebooks/data_table.ipynb>data table notebook</a>'\n",
              "          + ' to learn more about interactive tables.';\n",
              "        element.innerHTML = '';\n",
              "        dataTable['output_type'] = 'display_data';\n",
              "        await google.colab.output.renderOutput(dataTable, element);\n",
              "        const docLink = document.createElement('div');\n",
              "        docLink.innerHTML = docLinkHtml;\n",
              "        element.appendChild(docLink);\n",
              "      }\n",
              "    </script>\n",
              "  </div>\n",
              "\n",
              "\n",
              "<div id=\"df-b9bff074-34b9-4f1e-89c0-f8d88ba7375a\">\n",
              "  <button class=\"colab-df-quickchart\" onclick=\"quickchart('df-b9bff074-34b9-4f1e-89c0-f8d88ba7375a')\"\n",
              "            title=\"Suggest charts.\"\n",
              "            style=\"display:none;\">\n",
              "\n",
              "<svg xmlns=\"http://www.w3.org/2000/svg\" height=\"24px\"viewBox=\"0 0 24 24\"\n",
              "     width=\"24px\">\n",
              "    <g>\n",
              "        <path d=\"M19 3H5c-1.1 0-2 .9-2 2v14c0 1.1.9 2 2 2h14c1.1 0 2-.9 2-2V5c0-1.1-.9-2-2-2zM9 17H7v-7h2v7zm4 0h-2V7h2v10zm4 0h-2v-4h2v4z\"/>\n",
              "    </g>\n",
              "</svg>\n",
              "  </button>\n",
              "\n",
              "<style>\n",
              "  .colab-df-quickchart {\n",
              "      --bg-color: #E8F0FE;\n",
              "      --fill-color: #1967D2;\n",
              "      --hover-bg-color: #E2EBFA;\n",
              "      --hover-fill-color: #174EA6;\n",
              "      --disabled-fill-color: #AAA;\n",
              "      --disabled-bg-color: #DDD;\n",
              "  }\n",
              "\n",
              "  [theme=dark] .colab-df-quickchart {\n",
              "      --bg-color: #3B4455;\n",
              "      --fill-color: #D2E3FC;\n",
              "      --hover-bg-color: #434B5C;\n",
              "      --hover-fill-color: #FFFFFF;\n",
              "      --disabled-bg-color: #3B4455;\n",
              "      --disabled-fill-color: #666;\n",
              "  }\n",
              "\n",
              "  .colab-df-quickchart {\n",
              "    background-color: var(--bg-color);\n",
              "    border: none;\n",
              "    border-radius: 50%;\n",
              "    cursor: pointer;\n",
              "    display: none;\n",
              "    fill: var(--fill-color);\n",
              "    height: 32px;\n",
              "    padding: 0;\n",
              "    width: 32px;\n",
              "  }\n",
              "\n",
              "  .colab-df-quickchart:hover {\n",
              "    background-color: var(--hover-bg-color);\n",
              "    box-shadow: 0 1px 2px rgba(60, 64, 67, 0.3), 0 1px 3px 1px rgba(60, 64, 67, 0.15);\n",
              "    fill: var(--button-hover-fill-color);\n",
              "  }\n",
              "\n",
              "  .colab-df-quickchart-complete:disabled,\n",
              "  .colab-df-quickchart-complete:disabled:hover {\n",
              "    background-color: var(--disabled-bg-color);\n",
              "    fill: var(--disabled-fill-color);\n",
              "    box-shadow: none;\n",
              "  }\n",
              "\n",
              "  .colab-df-spinner {\n",
              "    border: 2px solid var(--fill-color);\n",
              "    border-color: transparent;\n",
              "    border-bottom-color: var(--fill-color);\n",
              "    animation:\n",
              "      spin 1s steps(1) infinite;\n",
              "  }\n",
              "\n",
              "  @keyframes spin {\n",
              "    0% {\n",
              "      border-color: transparent;\n",
              "      border-bottom-color: var(--fill-color);\n",
              "      border-left-color: var(--fill-color);\n",
              "    }\n",
              "    20% {\n",
              "      border-color: transparent;\n",
              "      border-left-color: var(--fill-color);\n",
              "      border-top-color: var(--fill-color);\n",
              "    }\n",
              "    30% {\n",
              "      border-color: transparent;\n",
              "      border-left-color: var(--fill-color);\n",
              "      border-top-color: var(--fill-color);\n",
              "      border-right-color: var(--fill-color);\n",
              "    }\n",
              "    40% {\n",
              "      border-color: transparent;\n",
              "      border-right-color: var(--fill-color);\n",
              "      border-top-color: var(--fill-color);\n",
              "    }\n",
              "    60% {\n",
              "      border-color: transparent;\n",
              "      border-right-color: var(--fill-color);\n",
              "    }\n",
              "    80% {\n",
              "      border-color: transparent;\n",
              "      border-right-color: var(--fill-color);\n",
              "      border-bottom-color: var(--fill-color);\n",
              "    }\n",
              "    90% {\n",
              "      border-color: transparent;\n",
              "      border-bottom-color: var(--fill-color);\n",
              "    }\n",
              "  }\n",
              "</style>\n",
              "\n",
              "  <script>\n",
              "    async function quickchart(key) {\n",
              "      const quickchartButtonEl =\n",
              "        document.querySelector('#' + key + ' button');\n",
              "      quickchartButtonEl.disabled = true;  // To prevent multiple clicks.\n",
              "      quickchartButtonEl.classList.add('colab-df-spinner');\n",
              "      try {\n",
              "        const charts = await google.colab.kernel.invokeFunction(\n",
              "            'suggestCharts', [key], {});\n",
              "      } catch (error) {\n",
              "        console.error('Error during call to suggestCharts:', error);\n",
              "      }\n",
              "      quickchartButtonEl.classList.remove('colab-df-spinner');\n",
              "      quickchartButtonEl.classList.add('colab-df-quickchart-complete');\n",
              "    }\n",
              "    (() => {\n",
              "      let quickchartButtonEl =\n",
              "        document.querySelector('#df-b9bff074-34b9-4f1e-89c0-f8d88ba7375a button');\n",
              "      quickchartButtonEl.style.display =\n",
              "        google.colab.kernel.accessAllowed ? 'block' : 'none';\n",
              "    })();\n",
              "  </script>\n",
              "</div>\n",
              "    </div>\n",
              "  </div>\n"
            ]
          },
          "metadata": {},
          "execution_count": 206
        }
      ]
    },
    {
      "cell_type": "code",
      "source": [
        "import seaborn as sns"
      ],
      "metadata": {
        "id": "KJGrcXu6rwlC"
      },
      "execution_count": null,
      "outputs": []
    },
    {
      "cell_type": "code",
      "source": [
        "plt.figure(figsize = (18, 8))\n",
        "\n",
        "sns.barplot(x = 'Model', y = 'Score', data = models)\n",
        "plt.show()"
      ],
      "metadata": {
        "colab": {
          "base_uri": "https://localhost:8080/",
          "height": 647
        },
        "id": "ZKja6fGyrrmK",
        "outputId": "1c714426-f458-4f45-97e2-4ee09f3fc9a9"
      },
      "execution_count": null,
      "outputs": [
        {
          "output_type": "display_data",
          "data": {
            "text/plain": [
              "<Figure size 1800x800 with 1 Axes>"
            ],
            "image/png": "[encoded data removed]"
          },
          "metadata": {}
        }
      ]
    }
  ]
}