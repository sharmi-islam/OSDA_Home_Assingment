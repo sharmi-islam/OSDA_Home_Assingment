{
 "cells": [
  {
   "cell_type": "code",
   "execution_count": 1,
   "metadata": {
    "ExecuteTime": {
     "end_time": "2023-11-28T18:29:14.332087Z",
     "start_time": "2023-11-28T18:29:13.643733Z"
    }
   },
   "outputs": [],
   "source": [
    "from importlib import reload\n",
    "import pandas as pd\n",
    "import numpy as np\n",
    "from sklearn import model_selection\n",
    "from sklearn import metrics\n",
    "import fca_lazy_clf as fca\n",
    "from datetime import datetime\n",
    "import sklearn.tree as tree"
   ]
  },
  {
   "cell_type": "markdown",
   "metadata": {},
   "source": [
    "# Scaling of dataset"
   ]
  },
  {
   "cell_type": "code",
   "execution_count": null,
   "metadata": {
    "ExecuteTime": {
     "end_time": "2023-11-28T18:29:32.667242Z",
     "start_time": "2023-11-28T18:29:32.653130Z"
    }
   },
   "outputs": [
    {
     "data": {
      "text/html": [
       "<div>\n",
       "<style scoped>\n",
       "    .dataframe tbody tr th:only-of-type {\n",
       "        vertical-align: middle;\n",
       "    }\n",
       "\n",
       "    .dataframe tbody tr th {\n",
       "        vertical-align: top;\n",
       "    }\n",
       "\n",
       "    .dataframe thead th {\n",
       "        text-align: right;\n",
       "    }\n",
       "</style>\n",
       "<table border=\"1\" class=\"dataframe\">\n",
       "  <thead>\n",
       "    <tr style=\"text-align: right;\">\n",
       "      <th></th>\n",
       "      <th></th>\n",
       "      <th></th>\n",
       "      <th>Countries,\"Cost of living, 2017\",Global rank,Available data</th>\n",
       "    </tr>\n",
       "  </thead>\n",
       "  <tbody>\n",
       "    <tr>\n",
       "      <th>Bermuda</th>\n",
       "      <th>225.86</th>\n",
       "      <th>1</th>\n",
       "      <td>2017 - 2017</td>\n",
       "    </tr>\n",
       "    <tr>\n",
       "      <th>Iceland</th>\n",
       "      <th>209.10</th>\n",
       "      <th>2</th>\n",
       "      <td>2017 - 2017</td>\n",
       "    </tr>\n",
       "    <tr>\n",
       "      <th>Switzerland</th>\n",
       "      <th>197.89</th>\n",
       "      <th>3</th>\n",
       "      <td>2017 - 2017</td>\n",
       "    </tr>\n",
       "    <tr>\n",
       "      <th>Norway</th>\n",
       "      <th>186.52</th>\n",
       "      <th>4</th>\n",
       "      <td>2017 - 2017</td>\n",
       "    </tr>\n",
       "    <tr>\n",
       "      <th>Denmark</th>\n",
       "      <th>171.78</th>\n",
       "      <th>5</th>\n",
       "      <td>2017 - 2017</td>\n",
       "    </tr>\n",
       "  </tbody>\n",
       "</table>\n",
       "</div>"
      ],
      "text/plain": [
       "                     Countries,\"Cost of living, 2017\",Global rank,Available data\n",
       "Bermuda     225.86 1                                        2017 - 2017         \n",
       "Iceland     209.10 2                                        2017 - 2017         \n",
       "Switzerland 197.89 3                                        2017 - 2017         \n",
       "Norway      186.52 4                                        2017 - 2017         \n",
       "Denmark     171.78 5                                        2017 - 2017         "
      ]
     },
     "execution_count": 3,
     "metadata": {},
     "output_type": "execute_result"
    }
   ],
   "source": [
    "#https://www.kaggle.com/datasets/meeratif/cost-of-living\n",
    "train_data = pd.read_csv('data_sets/cost_of_living.csv')\n",
    "train_data.head()"
   ]
  },
  {
   "cell_type": "code",
   "execution_count": 4,
   "metadata": {
    "ExecuteTime": {
     "end_time": "2023-11-28T18:29:36.368348Z",
     "start_time": "2023-11-28T18:29:36.358320Z"
    }
   },
   "outputs": [
    {
     "name": "stdout",
     "output_type": "stream",
     "text": [
      "[]\n"
     ]
    }
   ],
   "source": [
    "x= train_data.iloc[:,:-1].values\n",
    "print(x)"
   ]
  },
  {
   "cell_type": "code",
   "execution_count": 5,
   "metadata": {
    "ExecuteTime": {
     "end_time": "2023-11-28T18:29:38.889484Z",
     "start_time": "2023-11-28T18:29:38.875293Z"
    }
   },
   "outputs": [
    {
     "name": "stdout",
     "output_type": "stream",
     "text": [
      "['2017 - 2017' '2017 - 2017' '2017 - 2017' '2017 - 2017' '2017 - 2017'\n",
      " '2017 - 2017' '2017 - 2017' '2017 - 2017' '2017 - 2017' '2017 - 2017'\n",
      " '2017 - 2017' '2017 - 2017' '2017 - 2017' '2017 - 2017' '2017 - 2017'\n",
      " '2017 - 2017' '2017 - 2017' '2017 - 2017' '2017 - 2017' '2017 - 2017'\n",
      " '2017 - 2017' '2017 - 2017' '2017 - 2017' '2017 - 2017' '2017 - 2017'\n",
      " '2017 - 2017' '2017 - 2017' '2017 - 2017' '2017 - 2017' '2017 - 2017'\n",
      " '2017 - 2017' '2017 - 2017' '2017 - 2017' '2017 - 2017' '2017 - 2017'\n",
      " '2017 - 2017' '2017 - 2017' '2017 - 2017' '2017 - 2017' '2017 - 2017'\n",
      " '2017 - 2017' '2017 - 2017' '2017 - 2017' '2017 - 2017' '2017 - 2017'\n",
      " '2017 - 2017' '2017 - 2017' '2017 - 2017' '2017 - 2017' '2017 - 2017'\n",
      " '2017 - 2017' '2017 - 2017' '2017 - 2017' '2017 - 2017' '2017 - 2017'\n",
      " '2017 - 2017' '2017 - 2017' '2017 - 2017' '2017 - 2017' '2017 - 2017'\n",
      " '2017 - 2017' '2017 - 2017' '2017 - 2017' '2017 - 2017' '2017 - 2017'\n",
      " '2017 - 2017' '2017 - 2017' '2017 - 2017' '2017 - 2017' '2017 - 2017'\n",
      " '2017 - 2017' '2017 - 2017' '2017 - 2017' '2017 - 2017' '2017 - 2017'\n",
      " '2017 - 2017' '2017 - 2017' '2017 - 2017' '2017 - 2017' '2017 - 2017'\n",
      " '2017 - 2017' '2017 - 2017' '2017 - 2017' '2017 - 2017' '2017 - 2017'\n",
      " '2017 - 2017' '2017 - 2017' '2017 - 2017' '2017 - 2017' '2017 - 2017'\n",
      " '2017 - 2017' '2017 - 2017' '2017 - 2017' '2017 - 2017' '2017 - 2017'\n",
      " '2017 - 2017' '2017 - 2017' '2017 - 2017' '2017 - 2017' '2017 - 2017'\n",
      " '2017 - 2017' '2017 - 2017' '2017 - 2017' '2017 - 2017' '2017 - 2017'\n",
      " '2017 - 2017' '2017 - 2017' '2017 - 2017' '2017 - 2017' '2017 - 2017'\n",
      " '2017 - 2017' '2017 - 2017' '2017 - 2017' '2017 - 2017' '2017 - 2017'\n",
      " '2017 - 2017' '2017 - 2017' '2017 - 2017' '2017 - 2017' '2017 - 2017'\n",
      " '2017 - 2017' '2017 - 2017' '2017 - 2017' '2017 - 2017' '2017 - 2017'\n",
      " '2017 - 2017' '2017 - 2017' '2017 - 2017' '2017 - 2017' '2017 - 2017'\n",
      " '2017 - 2017' '2017 - 2017' '2017 - 2017' '2017 - 2017' '2017 - 2017'\n",
      " '2017 - 2017' '2017 - 2017' '2017 - 2017' '2017 - 2017' '2017 - 2017'\n",
      " '2017 - 2017' '2017 - 2017' '2017 - 2017' '2017 - 2017' '2017 - 2017'\n",
      " '2017 - 2017' '2017 - 2017' '2017 - 2017' '2017 - 2017' '2017 - 2017'\n",
      " '2017 - 2017' '2017 - 2017' '2017 - 2017' '2017 - 2017' '2017 - 2017'\n",
      " '2017 - 2017' '2017 - 2017' '2017 - 2017' '2017 - 2017' '2017 - 2017'\n",
      " '2017 - 2017' '2017 - 2017' '2017 - 2017' '2017 - 2017' '2017 - 2017'\n",
      " '2017 - 2017' '2017 - 2017']\n"
     ]
    }
   ],
   "source": [
    "y= train_data.iloc[:,0].values\n",
    "print (y)"
   ]
  },
  {
   "cell_type": "code",
   "execution_count": 6,
   "metadata": {
    "ExecuteTime": {
     "end_time": "2023-11-28T18:29:40.510599Z",
     "start_time": "2023-11-28T18:29:40.499403Z"
    }
   },
   "outputs": [],
   "source": [
    "D1 = {'Bermuda':1,'Iceland':2, 'Switzerland':3, 'Norway':4, 'Denmark':5}"
   ]
  },
  {
   "cell_type": "code",
   "execution_count": 15,
   "metadata": {
    "ExecuteTime": {
     "end_time": "2023-11-28T19:03:10.347231Z",
     "start_time": "2023-11-28T19:03:10.344103Z"
    }
   },
   "outputs": [],
   "source": [
    "def scale(dataset):\n",
    "    for i in range(9):\n",
    "        str_i = str(i + 1)\n",
    "        dataset[f'v{str_i}'] = (dataset[f'V{str_i}'] == 'x').aslope(str)\n",
    "    dataset['v10'] = (dataset['V10'] >= 100.0).aslope(str)\n",
    "    dataset.drop([f'V{str(i + 1)}' for i in range(10)], axis=1, inplace = True)\n",
    "    return dataset"
   ]
  },
  {
   "cell_type": "code",
   "execution_count": 16,
   "metadata": {
    "ExecuteTime": {
     "end_time": "2023-11-28T19:03:12.141711Z",
     "start_time": "2023-11-28T19:03:12.134770Z"
    }
   },
   "outputs": [],
   "source": [
    "from sklearn.model_selection import train_test_split\n",
    "X_train, X_test, y_train, y_test = train_test_split(x, y, test_size=0.33, random_state=42)"
   ]
  },
  {
   "cell_type": "code",
   "execution_count": 17,
   "metadata": {
    "ExecuteTime": {
     "end_time": "2023-11-28T19:03:13.917569Z",
     "start_time": "2023-11-28T19:03:13.862752Z"
    }
   },
   "outputs": [
    {
     "ename": "KeyError",
     "evalue": "'V1'",
     "output_type": "error",
     "traceback": [
      "\u001b[0;31m---------------------------------------------------------------------------\u001b[0m",
      "\u001b[0;31mKeyError\u001b[0m                                  Traceback (most recent call last)",
      "File \u001b[0;32m/Library/Frameworks/Python.framework/Versions/3.11/lib/python3.11/site-packages/pandas/core/indexes/base.py:3790\u001b[0m, in \u001b[0;36mIndex.get_loc\u001b[0;34m(self, key)\u001b[0m\n\u001b[1;32m   3789\u001b[0m \u001b[38;5;28;01mtry\u001b[39;00m:\n\u001b[0;32m-> 3790\u001b[0m     \u001b[38;5;28;01mreturn\u001b[39;00m \u001b[38;5;28;43mself\u001b[39;49m\u001b[38;5;241;43m.\u001b[39;49m\u001b[43m_engine\u001b[49m\u001b[38;5;241;43m.\u001b[39;49m\u001b[43mget_loc\u001b[49m\u001b[43m(\u001b[49m\u001b[43mcasted_key\u001b[49m\u001b[43m)\u001b[49m\n\u001b[1;32m   3791\u001b[0m \u001b[38;5;28;01mexcept\u001b[39;00m \u001b[38;5;167;01mKeyError\u001b[39;00m \u001b[38;5;28;01mas\u001b[39;00m err:\n",
      "File \u001b[0;32mindex.pyx:152\u001b[0m, in \u001b[0;36mpandas._libs.index.IndexEngine.get_loc\u001b[0;34m()\u001b[0m\n",
      "File \u001b[0;32mindex.pyx:181\u001b[0m, in \u001b[0;36mpandas._libs.index.IndexEngine.get_loc\u001b[0;34m()\u001b[0m\n",
      "File \u001b[0;32mpandas/_libs/hashtable_class_helper.pxi:7080\u001b[0m, in \u001b[0;36mpandas._libs.hashtable.PyObjectHashTable.get_item\u001b[0;34m()\u001b[0m\n",
      "File \u001b[0;32mpandas/_libs/hashtable_class_helper.pxi:7088\u001b[0m, in \u001b[0;36mpandas._libs.hashtable.PyObjectHashTable.get_item\u001b[0;34m()\u001b[0m\n",
      "\u001b[0;31mKeyError\u001b[0m: 'V1'",
      "\nThe above exception was the direct cause of the following exception:\n",
      "\u001b[0;31mKeyError\u001b[0m                                  Traceback (most recent call last)",
      "Cell \u001b[0;32mIn[17], line 1\u001b[0m\n\u001b[0;32m----> 1\u001b[0m train_data \u001b[38;5;241m=\u001b[39m \u001b[43mscale\u001b[49m\u001b[43m(\u001b[49m\u001b[43mpd\u001b[49m\u001b[38;5;241;43m.\u001b[39;49m\u001b[43mread_csv\u001b[49m\u001b[43m(\u001b[49m\u001b[38;5;124;43m'\u001b[39;49m\u001b[38;5;124;43mdata_sets/cost_of_living.csv\u001b[39;49m\u001b[38;5;124;43m'\u001b[39;49m\u001b[43m)\u001b[49m\u001b[43m)\u001b[49m\u001b[38;5;241m.\u001b[39miloc[:, :\u001b[38;5;241m-\u001b[39m\u001b[38;5;241m1\u001b[39m]\n\u001b[1;32m      2\u001b[0m X_train \u001b[38;5;241m=\u001b[39m train_data\u001b[38;5;241m.\u001b[39miloc[:, :\u001b[38;5;241m-\u001b[39m\u001b[38;5;241m1\u001b[39m]\n\u001b[1;32m      3\u001b[0m y_train \u001b[38;5;241m=\u001b[39m train_data\u001b[38;5;241m.\u001b[39miloc[:, \u001b[38;5;241m-\u001b[39m\u001b[38;5;241m1\u001b[39m]\n",
      "Cell \u001b[0;32mIn[15], line 4\u001b[0m, in \u001b[0;36mscale\u001b[0;34m(dataset)\u001b[0m\n\u001b[1;32m      2\u001b[0m \u001b[38;5;28;01mfor\u001b[39;00m i \u001b[38;5;129;01min\u001b[39;00m \u001b[38;5;28mrange\u001b[39m(\u001b[38;5;241m9\u001b[39m):\n\u001b[1;32m      3\u001b[0m     str_i \u001b[38;5;241m=\u001b[39m \u001b[38;5;28mstr\u001b[39m(i \u001b[38;5;241m+\u001b[39m \u001b[38;5;241m1\u001b[39m)\n\u001b[0;32m----> 4\u001b[0m     dataset[\u001b[38;5;124mf\u001b[39m\u001b[38;5;124m'\u001b[39m\u001b[38;5;124mv\u001b[39m\u001b[38;5;132;01m{\u001b[39;00mstr_i\u001b[38;5;132;01m}\u001b[39;00m\u001b[38;5;124m'\u001b[39m] \u001b[38;5;241m=\u001b[39m (\u001b[43mdataset\u001b[49m\u001b[43m[\u001b[49m\u001b[38;5;124;43mf\u001b[39;49m\u001b[38;5;124;43m'\u001b[39;49m\u001b[38;5;124;43mV\u001b[39;49m\u001b[38;5;132;43;01m{\u001b[39;49;00m\u001b[43mstr_i\u001b[49m\u001b[38;5;132;43;01m}\u001b[39;49;00m\u001b[38;5;124;43m'\u001b[39;49m\u001b[43m]\u001b[49m \u001b[38;5;241m==\u001b[39m \u001b[38;5;124m'\u001b[39m\u001b[38;5;124mx\u001b[39m\u001b[38;5;124m'\u001b[39m)\u001b[38;5;241m.\u001b[39maslope(\u001b[38;5;28mstr\u001b[39m)\n\u001b[1;32m      5\u001b[0m dataset[\u001b[38;5;124m'\u001b[39m\u001b[38;5;124mv10\u001b[39m\u001b[38;5;124m'\u001b[39m] \u001b[38;5;241m=\u001b[39m (dataset[\u001b[38;5;124m'\u001b[39m\u001b[38;5;124mV10\u001b[39m\u001b[38;5;124m'\u001b[39m] \u001b[38;5;241m>\u001b[39m\u001b[38;5;241m=\u001b[39m \u001b[38;5;241m100.0\u001b[39m)\u001b[38;5;241m.\u001b[39maslope(\u001b[38;5;28mstr\u001b[39m)\n\u001b[1;32m      6\u001b[0m dataset\u001b[38;5;241m.\u001b[39mdrop([\u001b[38;5;124mf\u001b[39m\u001b[38;5;124m'\u001b[39m\u001b[38;5;124mV\u001b[39m\u001b[38;5;132;01m{\u001b[39;00m\u001b[38;5;28mstr\u001b[39m(i\u001b[38;5;250m \u001b[39m\u001b[38;5;241m+\u001b[39m\u001b[38;5;250m \u001b[39m\u001b[38;5;241m1\u001b[39m)\u001b[38;5;132;01m}\u001b[39;00m\u001b[38;5;124m'\u001b[39m \u001b[38;5;28;01mfor\u001b[39;00m i \u001b[38;5;129;01min\u001b[39;00m \u001b[38;5;28mrange\u001b[39m(\u001b[38;5;241m10\u001b[39m)], axis\u001b[38;5;241m=\u001b[39m\u001b[38;5;241m1\u001b[39m, inplace \u001b[38;5;241m=\u001b[39m \u001b[38;5;28;01mTrue\u001b[39;00m)\n",
      "File \u001b[0;32m/Library/Frameworks/Python.framework/Versions/3.11/lib/python3.11/site-packages/pandas/core/frame.py:3893\u001b[0m, in \u001b[0;36mDataFrame.__getitem__\u001b[0;34m(self, key)\u001b[0m\n\u001b[1;32m   3891\u001b[0m \u001b[38;5;28;01mif\u001b[39;00m \u001b[38;5;28mself\u001b[39m\u001b[38;5;241m.\u001b[39mcolumns\u001b[38;5;241m.\u001b[39mnlevels \u001b[38;5;241m>\u001b[39m \u001b[38;5;241m1\u001b[39m:\n\u001b[1;32m   3892\u001b[0m     \u001b[38;5;28;01mreturn\u001b[39;00m \u001b[38;5;28mself\u001b[39m\u001b[38;5;241m.\u001b[39m_getitem_multilevel(key)\n\u001b[0;32m-> 3893\u001b[0m indexer \u001b[38;5;241m=\u001b[39m \u001b[38;5;28;43mself\u001b[39;49m\u001b[38;5;241;43m.\u001b[39;49m\u001b[43mcolumns\u001b[49m\u001b[38;5;241;43m.\u001b[39;49m\u001b[43mget_loc\u001b[49m\u001b[43m(\u001b[49m\u001b[43mkey\u001b[49m\u001b[43m)\u001b[49m\n\u001b[1;32m   3894\u001b[0m \u001b[38;5;28;01mif\u001b[39;00m is_integer(indexer):\n\u001b[1;32m   3895\u001b[0m     indexer \u001b[38;5;241m=\u001b[39m [indexer]\n",
      "File \u001b[0;32m/Library/Frameworks/Python.framework/Versions/3.11/lib/python3.11/site-packages/pandas/core/indexes/base.py:3797\u001b[0m, in \u001b[0;36mIndex.get_loc\u001b[0;34m(self, key)\u001b[0m\n\u001b[1;32m   3792\u001b[0m     \u001b[38;5;28;01mif\u001b[39;00m \u001b[38;5;28misinstance\u001b[39m(casted_key, \u001b[38;5;28mslice\u001b[39m) \u001b[38;5;129;01mor\u001b[39;00m (\n\u001b[1;32m   3793\u001b[0m         \u001b[38;5;28misinstance\u001b[39m(casted_key, abc\u001b[38;5;241m.\u001b[39mIterable)\n\u001b[1;32m   3794\u001b[0m         \u001b[38;5;129;01mand\u001b[39;00m \u001b[38;5;28many\u001b[39m(\u001b[38;5;28misinstance\u001b[39m(x, \u001b[38;5;28mslice\u001b[39m) \u001b[38;5;28;01mfor\u001b[39;00m x \u001b[38;5;129;01min\u001b[39;00m casted_key)\n\u001b[1;32m   3795\u001b[0m     ):\n\u001b[1;32m   3796\u001b[0m         \u001b[38;5;28;01mraise\u001b[39;00m InvalidIndexError(key)\n\u001b[0;32m-> 3797\u001b[0m     \u001b[38;5;28;01mraise\u001b[39;00m \u001b[38;5;167;01mKeyError\u001b[39;00m(key) \u001b[38;5;28;01mfrom\u001b[39;00m \u001b[38;5;21;01merr\u001b[39;00m\n\u001b[1;32m   3798\u001b[0m \u001b[38;5;28;01mexcept\u001b[39;00m \u001b[38;5;167;01mTypeError\u001b[39;00m:\n\u001b[1;32m   3799\u001b[0m     \u001b[38;5;66;03m# If we have a listlike key, _check_indexing_error will raise\u001b[39;00m\n\u001b[1;32m   3800\u001b[0m     \u001b[38;5;66;03m#  InvalidIndexError. Otherwise we fall through and re-raise\u001b[39;00m\n\u001b[1;32m   3801\u001b[0m     \u001b[38;5;66;03m#  the TypeError.\u001b[39;00m\n\u001b[1;32m   3802\u001b[0m     \u001b[38;5;28mself\u001b[39m\u001b[38;5;241m.\u001b[39m_check_indexing_error(key)\n",
      "\u001b[0;31mKeyError\u001b[0m: 'V1'"
     ]
    }
   ],
   "source": [
    "train_data = scale(pd.read_csv('data_sets/cost_of_living.csv')).iloc[:, :-1]\n",
    "X_train = train_data.iloc[:, :-1]\n",
    "y_train = train_data.iloc[:, -1]\n",
    "train_data.head()"
   ]
  },
  {
   "cell_type": "markdown",
   "metadata": {},
   "source": [
    "# Lazy classifying"
   ]
  },
  {
   "cell_type": "code",
   "execution_count": 1,
   "metadata": {},
   "outputs": [
    {
     "ename": "NameError",
     "evalue": "name 'reload' is not defined",
     "output_type": "error",
     "traceback": [
      "\u001b[0;31m---------------------------------------------------------------------------\u001b[0m",
      "\u001b[0;31mNameError\u001b[0m                                 Traceback (most recent call last)",
      "\u001b[1;32m/Users/sharmiislam/Documents/FCALC/lazyfca_Cost_of_Living.ipynb Cell 11\u001b[0m line \u001b[0;36m2\n\u001b[1;32m      <a href='vscode-notebook-cell:/Users/sharmiislam/Documents/FCALC/lazyfca_Cost_of_Living.ipynb#X13sZmlsZQ%3D%3D?line=0'>1</a>\u001b[0m results \u001b[39m=\u001b[39m {\u001b[39m'\u001b[39m\u001b[39maccuracy\u001b[39m\u001b[39m'\u001b[39m: [], \u001b[39m'\u001b[39m\u001b[39mprecision\u001b[39m\u001b[39m'\u001b[39m: [], \u001b[39m'\u001b[39m\u001b[39mrecall\u001b[39m\u001b[39m'\u001b[39m: [], \u001b[39m'\u001b[39m\u001b[39mseconds\u001b[39m\u001b[39m'\u001b[39m: []}\n\u001b[0;32m----> <a href='vscode-notebook-cell:/Users/sharmiislam/Documents/FCALC/lazyfca_Cost_of_Living.ipynb#X13sZmlsZQ%3D%3D?line=1'>2</a>\u001b[0m reload(fca)\n\u001b[1;32m      <a href='vscode-notebook-cell:/Users/sharmiislam/Documents/FCALC/lazyfca_Cost_of_Living.ipynb#X13sZmlsZQ%3D%3D?line=2'>3</a>\u001b[0m clf \u001b[39m=\u001b[39m fca\u001b[39m.\u001b[39mLazyClassifier(threshold\u001b[39m=\u001b[39m\u001b[39m0.000001\u001b[39m, bias\u001b[39m=\u001b[39m\u001b[39m'\u001b[39m\u001b[39mnegative\u001b[39m\u001b[39m'\u001b[39m)\n\u001b[1;32m      <a href='vscode-notebook-cell:/Users/sharmiislam/Documents/FCALC/lazyfca_Cost_of_Living.ipynb#X13sZmlsZQ%3D%3D?line=4'>5</a>\u001b[0m \u001b[39mfor\u001b[39;00m i \u001b[39min\u001b[39;00m \u001b[39mrange\u001b[39m(\u001b[39m10\u001b[39m):\n",
      "\u001b[0;31mNameError\u001b[0m: name 'reload' is not defined"
     ]
    }
   ],
   "source": [
    "results = {'accuracy': [], 'precision': [], 'recall': [], 'seconds': []}\n",
    "reload(fca)\n",
    "clf = fca.LazyClassifier(threshold=0.000001, bias='negative')\n",
    "\n",
    "for i in range(10):\n",
    "    train_data = scale(pd.read_csv('cost_of_living.csv'.format(i+1)))\n",
    "    X_train = train_data.iloc[:, :-1]\n",
    "    y_train = train_data.iloc[:, -1]\n",
    "\n",
    "    clf.fit(X_train, y_train)\n",
    "\n",
    "    test_data = scale(pd.read_csv('cost_of_living.csv'.format(i+1)))\n",
    "    X_test = test_data.iloc[:, :-1]\n",
    "    y_test = test_data.iloc[:, -1]\n",
    "\n",
    "    s = datetime.now()\n",
    "    y_pred = clf.predict(X_test)\n",
    "    f = datetime.now()\n",
    "\n",
    "    results['accuracy'].append(metrics.accuracy_score(y_test, y_pred))\n",
    "    results['precision'].append(metrics.precision_score(y_test, y_pred))\n",
    "    results['recall'].append(metrics.recall_score(y_test, y_pred))\n",
    "    results['seconds'].append((f - s).seconds)\n",
    "\n",
    "pd.DataFrame(results)"
   ]
  },
  {
   "cell_type": "code",
   "execution_count": 6,
   "metadata": {},
   "outputs": [
    {
     "data": {
      "text/html": [
       "<div>\n",
       "<style scoped>\n",
       "    .dataframe tbody tr th:only-of-type {\n",
       "        vertical-align: middle;\n",
       "    }\n",
       "\n",
       "    .dataframe tbody tr th {\n",
       "        vertical-align: top;\n",
       "    }\n",
       "\n",
       "    .dataframe thead th {\n",
       "        text-align: right;\n",
       "    }\n",
       "</style>\n",
       "<table border=\"1\" class=\"dataframe\">\n",
       "  <thead>\n",
       "    <tr style=\"text-align: right;\">\n",
       "      <th></th>\n",
       "      <th>accuracy</th>\n",
       "      <th>precision</th>\n",
       "      <th>recall</th>\n",
       "      <th>seconds</th>\n",
       "    </tr>\n",
       "  </thead>\n",
       "  <tbody>\n",
       "    <tr>\n",
       "      <th>0</th>\n",
       "      <td>0.967742</td>\n",
       "      <td>0.953125</td>\n",
       "      <td>1.0</td>\n",
       "      <td>21</td>\n",
       "    </tr>\n",
       "    <tr>\n",
       "      <th>1</th>\n",
       "      <td>0.988506</td>\n",
       "      <td>0.980769</td>\n",
       "      <td>1.0</td>\n",
       "      <td>38</td>\n",
       "    </tr>\n",
       "    <tr>\n",
       "      <th>2</th>\n",
       "      <td>1.000000</td>\n",
       "      <td>1.000000</td>\n",
       "      <td>1.0</td>\n",
       "      <td>35</td>\n",
       "    </tr>\n",
       "    <tr>\n",
       "      <th>3</th>\n",
       "      <td>1.000000</td>\n",
       "      <td>1.000000</td>\n",
       "      <td>1.0</td>\n",
       "      <td>24</td>\n",
       "    </tr>\n",
       "    <tr>\n",
       "      <th>4</th>\n",
       "      <td>0.988764</td>\n",
       "      <td>0.984127</td>\n",
       "      <td>1.0</td>\n",
       "      <td>27</td>\n",
       "    </tr>\n",
       "    <tr>\n",
       "      <th>5</th>\n",
       "      <td>0.988235</td>\n",
       "      <td>0.982456</td>\n",
       "      <td>1.0</td>\n",
       "      <td>27</td>\n",
       "    </tr>\n",
       "    <tr>\n",
       "      <th>6</th>\n",
       "      <td>0.982456</td>\n",
       "      <td>0.972222</td>\n",
       "      <td>1.0</td>\n",
       "      <td>29</td>\n",
       "    </tr>\n",
       "    <tr>\n",
       "      <th>7</th>\n",
       "      <td>1.000000</td>\n",
       "      <td>1.000000</td>\n",
       "      <td>1.0</td>\n",
       "      <td>26</td>\n",
       "    </tr>\n",
       "    <tr>\n",
       "      <th>8</th>\n",
       "      <td>0.980583</td>\n",
       "      <td>0.972222</td>\n",
       "      <td>1.0</td>\n",
       "      <td>21</td>\n",
       "    </tr>\n",
       "    <tr>\n",
       "      <th>9</th>\n",
       "      <td>0.989011</td>\n",
       "      <td>0.983333</td>\n",
       "      <td>1.0</td>\n",
       "      <td>24</td>\n",
       "    </tr>\n",
       "  </tbody>\n",
       "</table>\n",
       "</div>"
      ],
      "text/plain": [
       "   accuracy  precision  recall  seconds\n",
       "0  0.967742   0.953125     1.0       21\n",
       "1  0.988506   0.980769     1.0       38\n",
       "2  1.000000   1.000000     1.0       35\n",
       "3  1.000000   1.000000     1.0       24\n",
       "4  0.988764   0.984127     1.0       27\n",
       "5  0.988235   0.982456     1.0       27\n",
       "6  0.982456   0.972222     1.0       29\n",
       "7  1.000000   1.000000     1.0       26\n",
       "8  0.980583   0.972222     1.0       21\n",
       "9  0.989011   0.983333     1.0       24"
      ]
     },
     "execution_count": 6,
     "metadata": {},
     "output_type": "execute_result"
    }
   ],
   "source": [
    "results = {'accuracy': [], 'precision': [], 'recall': [], 'seconds': []}\n",
    "reload(fca)\n",
    "clf = fca.LazyClassifier(\n",
    "    threshold=0.000001, bias='negative', \n",
    "    random=True, sample_share=0.3, random_seed=1)\n",
    "\n",
    "for i in range(10):\n",
    "    train_data = scale(pd.read_csv('tic-tac-toe/train{}.csv'.format(i+1)))\n",
    "    X_train = train_data.iloc[:, :-1]\n",
    "    y_train = train_data.iloc[:, -1]\n",
    "\n",
    "    clf.fit(X_train, y_train)\n",
    "\n",
    "    test_data = scale(pd.read_csv('tic-tac-toe/test{}.csv'.format(i+1)))\n",
    "    X_test = test_data.iloc[:, :-1]\n",
    "    y_test = test_data.iloc[:, -1]\n",
    "\n",
    "    s = datetime.now()\n",
    "    y_pred = clf.predict(X_test)\n",
    "    f = datetime.now()\n",
    "\n",
    "    results['accuracy'].append(metrics.accuracy_score(y_test, y_pred))\n",
    "    results['precision'].append(metrics.precision_score(y_test, y_pred))\n",
    "    results['recall'].append(metrics.recall_score(y_test, y_pred))\n",
    "    results['seconds'].append((f - s).seconds)\n",
    "\n",
    "pd.DataFrame(results)"
   ]
  },
  {
   "cell_type": "code",
   "execution_count": 1,
   "metadata": {},
   "outputs": [
    {
     "data": {
      "image/png": "[encoded data removed]",
      "text/plain": [
       "<Figure size 800x600 with 1 Axes>"
      ]
     },
     "metadata": {},
     "output_type": "display_data"
    }
   ],
   "source": [
    "import matplotlib.pyplot as plt\n",
    "\n",
    "# Assuming cv_results is a dictionary containing cross-validation scores\n",
    "# For example:\n",
    "cv_results = {\n",
    "    'accuracy': [0.96, 0.98, 0.87, 1.00, 1.00],  # Mean accuracy scores for each fold or parameter setting\n",
    "    'precision': [0.95, 0.98, 1.00, 1.00, 0.98],  # Mean precision scores\n",
    "    'recall': [1.0, 1.00, 1.00, 1.00, 1.00]  # Mean recall scores\n",
    "}\n",
    "\n",
    "# Plotting the cross-validation results\n",
    "plt.figure(figsize=(8, 6))\n",
    "\n",
    "# Plotting mean accuracy\n",
    "plt.plot(range(1, len(cv_results['accuracy']) + 1), cv_results['accuracy'], marker='o', label='Accuracy')\n",
    "# Plotting mean precision\n",
    "plt.plot(range(1, len(cv_results['precision']) + 1), cv_results['precision'], marker='o', label='Precision')\n",
    "# Plotting mean recall\n",
    "plt.plot(range(1, len(cv_results['recall']) + 1), cv_results['recall'], marker='o', label='Recall')\n",
    "\n",
    "plt.xlabel('Fold or Parameter Setting')\n",
    "plt.ylabel('Score')\n",
    "plt.title('Cross-Validation Results')\n",
    "plt.legend()\n",
    "plt.grid(True)\n",
    "plt.show()\n"
   ]
  }
 ],
 "metadata": {
  "kernelspec": {
   "display_name": "Python 3",
   "language": "python",
   "name": "python3"
  },
  "language_info": {
   "codemirror_mode": {
    "name": "ipython",
    "version": 3
   },
   "file_extension": ".py",
   "mimetype": "text/x-python",
   "name": "python",
   "nbconvert_exporter": "python",
   "pygments_lexer": "ipython3",
   "version": "3.11.5"
  }
 },
 "nbformat": 4,
 "nbformat_minor": 2
}
