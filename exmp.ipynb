{
 "cells": [
  {
   "cell_type": "code",
   "execution_count": 1,
   "metadata": {
    "ExecuteTime": {
     "end_time": "2023-11-28T13:09:45.406357Z",
     "start_time": "2023-11-28T13:09:43.701Z"
    }
   },
   "outputs": [],
   "source": [
    "import pandas as pd\n",
    "import numpy as np\n",
    "from sklearn.model_selection import train_test_split"
   ]
  },
  {
   "cell_type": "markdown",
   "metadata": {},
   "source": [
    "# Binarized data"
   ]
  },
  {
   "cell_type": "code",
   "execution_count": 2,
   "metadata": {
    "ExecuteTime": {
     "end_time": "2023-11-28T15:53:29.683222Z",
     "start_time": "2023-11-28T15:53:29.665815Z"
    }
   },
   "outputs": [
    {
     "data": {
      "text/html": [
       "<div>\n",
       "<style scoped>\n",
       "    .dataframe tbody tr th:only-of-type {\n",
       "        vertical-align: middle;\n",
       "    }\n",
       "\n",
       "    .dataframe tbody tr th {\n",
       "        vertical-align: top;\n",
       "    }\n",
       "\n",
       "    .dataframe thead th {\n",
       "        text-align: right;\n",
       "    }\n",
       "</style>\n",
       "<table border=\"1\" class=\"dataframe\">\n",
       "  <thead>\n",
       "    <tr style=\"text-align: right;\">\n",
       "      <th></th>\n",
       "      <th>age</th>\n",
       "      <th>sex</th>\n",
       "      <th>cp</th>\n",
       "      <th>trestbps</th>\n",
       "      <th>chol</th>\n",
       "      <th>fbs</th>\n",
       "      <th>restecg</th>\n",
       "      <th>thalach</th>\n",
       "      <th>exang</th>\n",
       "      <th>oldpeak</th>\n",
       "      <th>slope</th>\n",
       "      <th>ca</th>\n",
       "      <th>thal</th>\n",
       "      <th>target</th>\n",
       "    </tr>\n",
       "  </thead>\n",
       "  <tbody>\n",
       "    <tr>\n",
       "      <th>0</th>\n",
       "      <td>age</td>\n",
       "      <td>sex</td>\n",
       "      <td>cp</td>\n",
       "      <td>trestbps</td>\n",
       "      <td>chol</td>\n",
       "      <td>fbs</td>\n",
       "      <td>restecg</td>\n",
       "      <td>thalach</td>\n",
       "      <td>exang</td>\n",
       "      <td>oldpeak</td>\n",
       "      <td>slope</td>\n",
       "      <td>ca</td>\n",
       "      <td>thal</td>\n",
       "      <td>False</td>\n",
       "    </tr>\n",
       "    <tr>\n",
       "      <th>1</th>\n",
       "      <td>63</td>\n",
       "      <td>1</td>\n",
       "      <td>3</td>\n",
       "      <td>145</td>\n",
       "      <td>233</td>\n",
       "      <td>1</td>\n",
       "      <td>0</td>\n",
       "      <td>150</td>\n",
       "      <td>0</td>\n",
       "      <td>2.3</td>\n",
       "      <td>0</td>\n",
       "      <td>0</td>\n",
       "      <td>1</td>\n",
       "      <td>True</td>\n",
       "    </tr>\n",
       "    <tr>\n",
       "      <th>2</th>\n",
       "      <td>37</td>\n",
       "      <td>1</td>\n",
       "      <td>2</td>\n",
       "      <td>130</td>\n",
       "      <td>250</td>\n",
       "      <td>0</td>\n",
       "      <td>1</td>\n",
       "      <td>187</td>\n",
       "      <td>0</td>\n",
       "      <td>3.5</td>\n",
       "      <td>0</td>\n",
       "      <td>0</td>\n",
       "      <td>2</td>\n",
       "      <td>True</td>\n",
       "    </tr>\n",
       "    <tr>\n",
       "      <th>3</th>\n",
       "      <td>41</td>\n",
       "      <td>0</td>\n",
       "      <td>1</td>\n",
       "      <td>130</td>\n",
       "      <td>204</td>\n",
       "      <td>0</td>\n",
       "      <td>0</td>\n",
       "      <td>172</td>\n",
       "      <td>0</td>\n",
       "      <td>1.4</td>\n",
       "      <td>2</td>\n",
       "      <td>0</td>\n",
       "      <td>2</td>\n",
       "      <td>True</td>\n",
       "    </tr>\n",
       "    <tr>\n",
       "      <th>4</th>\n",
       "      <td>56</td>\n",
       "      <td>1</td>\n",
       "      <td>1</td>\n",
       "      <td>120</td>\n",
       "      <td>236</td>\n",
       "      <td>0</td>\n",
       "      <td>1</td>\n",
       "      <td>178</td>\n",
       "      <td>0</td>\n",
       "      <td>0.8</td>\n",
       "      <td>2</td>\n",
       "      <td>0</td>\n",
       "      <td>2</td>\n",
       "      <td>True</td>\n",
       "    </tr>\n",
       "  </tbody>\n",
       "</table>\n",
       "</div>"
      ],
      "text/plain": [
       "   age  sex  cp  trestbps  chol  fbs  restecg  thalach  exang  oldpeak  slope  \\\n",
       "0  age  sex  cp  trestbps  chol  fbs  restecg  thalach  exang  oldpeak  slope   \n",
       "1   63    1   3       145   233    1        0      150      0      2.3      0   \n",
       "2   37    1   2       130   250    0        1      187      0      3.5      0   \n",
       "3   41    0   1       130   204    0        0      172      0      1.4      2   \n",
       "4   56    1   1       120   236    0        1      178      0      0.8      2   \n",
       "\n",
       "   ca  thal  target  \n",
       "0  ca  thal   False  \n",
       "1   0     1    True  \n",
       "2   0     2    True  \n",
       "3   0     2    True  \n",
       "4   0     2    True  "
      ]
     },
     "execution_count": 2,
     "metadata": {},
     "output_type": "execute_result"
    }
   ],
   "source": [
    "column_names = [\n",
    "            'age',\n",
    "            'sex',\n",
    "            'cp',\n",
    "            'trestbps',\n",
    "            'chol',\n",
    "            'fbs',\n",
    "            'restecg',\n",
    "            'thalach',\n",
    "            'exang',\n",
    "            'oldpeak',\n",
    "            'slope',\n",
    "            'ca',\n",
    "            'thal',\n",
    "            'target'\n",
    "]\n",
    "df = pd.read_csv('../data_sets/heart.csv', names=column_names)\n",
    "df['target'] = [x == '1' for x in df['target']]\n",
    "df.head()"
   ]
  },
  {
   "cell_type": "code",
   "execution_count": 3,
   "metadata": {
    "ExecuteTime": {
     "end_time": "2023-11-28T15:52:20.673510Z",
     "start_time": "2023-11-28T15:52:20.660776Z"
    }
   },
   "outputs": [],
   "source": [
    "X = pd.get_dummies(df[column_names[:-1]], prefix=column_names[:-1]).astype(bool)\n",
    "y = df['target']\n",
    "X_train, X_test, y_train, y_test = train_test_split(X, y, test_size=0.3, random_state=42)"
   ]
  },
  {
   "cell_type": "code",
   "execution_count": 4,
   "metadata": {
    "ExecuteTime": {
     "end_time": "2023-11-28T15:52:24.876296Z",
     "start_time": "2023-11-28T15:52:24.868237Z"
    }
   },
   "outputs": [],
   "source": [
    "import classifier\n",
    "bin_cls = classifier.BinarizedBinaryClassifier(X_train.values, y_train.to_numpy(), method=\"standard-support\")"
   ]
  },
  {
   "cell_type": "code",
   "execution_count": 5,
   "metadata": {
    "ExecuteTime": {
     "end_time": "2023-11-28T15:52:26.380256Z",
     "start_time": "2023-11-28T15:52:25.804325Z"
    }
   },
   "outputs": [],
   "source": [
    "bin_cls.predict(X_test.values)"
   ]
  },
  {
   "cell_type": "code",
   "execution_count": 6,
   "metadata": {
    "ExecuteTime": {
     "end_time": "2023-11-28T15:52:28.982706Z",
     "start_time": "2023-11-28T15:52:28.974730Z"
    }
   },
   "outputs": [
    {
     "name": "stdout",
     "output_type": "stream",
     "text": [
      "0.7934782608695652\n",
      "0.8224299065420562\n"
     ]
    }
   ],
   "source": [
    "from sklearn.metrics import accuracy_score, f1_score\n",
    "\n",
    "print(accuracy_score(y_test, bin_cls.predictions))\n",
    "print(f1_score(y_test, bin_cls.predictions))"
   ]
  },
  {
   "cell_type": "code",
   "execution_count": null,
   "metadata": {},
   "outputs": [],
   "source": []
  },
  {
   "cell_type": "markdown",
   "metadata": {},
   "source": [
    "# Pattern structures"
   ]
  },
  {
   "cell_type": "code",
   "execution_count": 7,
   "metadata": {
    "ExecuteTime": {
     "end_time": "2023-11-28T15:54:54.926688Z",
     "start_time": "2023-11-28T15:54:54.910970Z"
    }
   },
   "outputs": [
    {
     "data": {
      "text/html": [
       "<div>\n",
       "<style scoped>\n",
       "    .dataframe tbody tr th:only-of-type {\n",
       "        vertical-align: middle;\n",
       "    }\n",
       "\n",
       "    .dataframe tbody tr th {\n",
       "        vertical-align: top;\n",
       "    }\n",
       "\n",
       "    .dataframe thead th {\n",
       "        text-align: right;\n",
       "    }\n",
       "</style>\n",
       "<table border=\"1\" class=\"dataframe\">\n",
       "  <thead>\n",
       "    <tr style=\"text-align: right;\">\n",
       "      <th></th>\n",
       "      <th>age</th>\n",
       "      <th>sex</th>\n",
       "      <th>cp</th>\n",
       "      <th>trestbps</th>\n",
       "      <th>chol</th>\n",
       "      <th>fbs</th>\n",
       "      <th>restecg</th>\n",
       "      <th>thalach</th>\n",
       "      <th>exang</th>\n",
       "      <th>oldpeak</th>\n",
       "      <th>slope</th>\n",
       "      <th>ca</th>\n",
       "      <th>thal</th>\n",
       "      <th>target</th>\n",
       "    </tr>\n",
       "  </thead>\n",
       "  <tbody>\n",
       "    <tr>\n",
       "      <th>0</th>\n",
       "      <td>age</td>\n",
       "      <td>sex</td>\n",
       "      <td>cp</td>\n",
       "      <td>trestbps</td>\n",
       "      <td>chol</td>\n",
       "      <td>fbs</td>\n",
       "      <td>restecg</td>\n",
       "      <td>thalach</td>\n",
       "      <td>exang</td>\n",
       "      <td>oldpeak</td>\n",
       "      <td>slope</td>\n",
       "      <td>ca</td>\n",
       "      <td>thal</td>\n",
       "      <td>False</td>\n",
       "    </tr>\n",
       "    <tr>\n",
       "      <th>1</th>\n",
       "      <td>63</td>\n",
       "      <td>1</td>\n",
       "      <td>3</td>\n",
       "      <td>145</td>\n",
       "      <td>233</td>\n",
       "      <td>1</td>\n",
       "      <td>0</td>\n",
       "      <td>150</td>\n",
       "      <td>0</td>\n",
       "      <td>2.3</td>\n",
       "      <td>0</td>\n",
       "      <td>0</td>\n",
       "      <td>1</td>\n",
       "      <td>True</td>\n",
       "    </tr>\n",
       "    <tr>\n",
       "      <th>2</th>\n",
       "      <td>37</td>\n",
       "      <td>1</td>\n",
       "      <td>2</td>\n",
       "      <td>130</td>\n",
       "      <td>250</td>\n",
       "      <td>0</td>\n",
       "      <td>1</td>\n",
       "      <td>187</td>\n",
       "      <td>0</td>\n",
       "      <td>3.5</td>\n",
       "      <td>0</td>\n",
       "      <td>0</td>\n",
       "      <td>2</td>\n",
       "      <td>True</td>\n",
       "    </tr>\n",
       "    <tr>\n",
       "      <th>3</th>\n",
       "      <td>41</td>\n",
       "      <td>0</td>\n",
       "      <td>1</td>\n",
       "      <td>130</td>\n",
       "      <td>204</td>\n",
       "      <td>0</td>\n",
       "      <td>0</td>\n",
       "      <td>172</td>\n",
       "      <td>0</td>\n",
       "      <td>1.4</td>\n",
       "      <td>2</td>\n",
       "      <td>0</td>\n",
       "      <td>2</td>\n",
       "      <td>True</td>\n",
       "    </tr>\n",
       "    <tr>\n",
       "      <th>4</th>\n",
       "      <td>56</td>\n",
       "      <td>1</td>\n",
       "      <td>1</td>\n",
       "      <td>120</td>\n",
       "      <td>236</td>\n",
       "      <td>0</td>\n",
       "      <td>1</td>\n",
       "      <td>178</td>\n",
       "      <td>0</td>\n",
       "      <td>0.8</td>\n",
       "      <td>2</td>\n",
       "      <td>0</td>\n",
       "      <td>2</td>\n",
       "      <td>True</td>\n",
       "    </tr>\n",
       "  </tbody>\n",
       "</table>\n",
       "</div>"
      ],
      "text/plain": [
       "   age  sex  cp  trestbps  chol  fbs  restecg  thalach  exang  oldpeak  slope  \\\n",
       "0  age  sex  cp  trestbps  chol  fbs  restecg  thalach  exang  oldpeak  slope   \n",
       "1   63    1   3       145   233    1        0      150      0      2.3      0   \n",
       "2   37    1   2       130   250    0        1      187      0      3.5      0   \n",
       "3   41    0   1       130   204    0        0      172      0      1.4      2   \n",
       "4   56    1   1       120   236    0        1      178      0      0.8      2   \n",
       "\n",
       "   ca  thal  target  \n",
       "0  ca  thal   False  \n",
       "1   0     1    True  \n",
       "2   0     2    True  \n",
       "3   0     2    True  \n",
       "4   0     2    True  "
      ]
     },
     "execution_count": 7,
     "metadata": {},
     "output_type": "execute_result"
    }
   ],
   "source": [
    "column_names = [\n",
    "            'age',\n",
    "            'sex',\n",
    "            'cp',\n",
    "            'trestbps',\n",
    "            'chol',\n",
    "            'fbs',\n",
    "            'restecg',\n",
    "            'thalach',\n",
    "            'exang',\n",
    "            'oldpeak',\n",
    "            'slope',\n",
    "            'ca',\n",
    "            'thal',\n",
    "            'target'\n",
    "]\n",
    "df = pd.read_csv('../data_sets/heart.csv', names = column_names)\n",
    "df['target'] = [x == '1' for x in df['target']]\n",
    "df.head()"
   ]
  },
  {
   "cell_type": "code",
   "execution_count": 8,
   "metadata": {
    "ExecuteTime": {
     "end_time": "2023-11-28T15:55:06.755082Z",
     "start_time": "2023-11-28T15:55:06.742007Z"
    }
   },
   "outputs": [],
   "source": [
    "X = df[column_names[:-1]]\n",
    "y = df['target']\n",
    "X_train, X_test, y_train, y_test = train_test_split(X, y, test_size=0.3, random_state=42)"
   ]
  },
  {
   "cell_type": "code",
   "execution_count": 9,
   "metadata": {
    "ExecuteTime": {
     "end_time": "2023-11-28T15:55:09.416109Z",
     "start_time": "2023-11-28T15:55:09.402931Z"
    }
   },
   "outputs": [],
   "source": [
    "import classifier\n",
    "pat_cls = classifier.PatternBinaryClassifier(X_train.values, y_train.to_numpy(), \n",
    "                                             categorical=np.arange(X_train.shape[1]))"
   ]
  },
  {
   "cell_type": "code",
   "execution_count": 10,
   "metadata": {
    "ExecuteTime": {
     "end_time": "2023-11-28T15:55:10.997511Z",
     "start_time": "2023-11-28T15:55:10.084083Z"
    }
   },
   "outputs": [],
   "source": [
    "pat_cls.predict(X_test.values)"
   ]
  },
  {
   "cell_type": "code",
   "execution_count": 11,
   "metadata": {
    "ExecuteTime": {
     "end_time": "2023-11-28T15:55:11.002537Z",
     "start_time": "2023-11-28T15:55:10.998124Z"
    }
   },
   "outputs": [
    {
     "name": "stdout",
     "output_type": "stream",
     "text": [
      "0.7934782608695652\n",
      "0.8256880733944953\n"
     ]
    }
   ],
   "source": [
    "from sklearn.metrics import accuracy_score, f1_score\n",
    "\n",
    "print(accuracy_score(y_test, pat_cls.predictions))\n",
    "print(f1_score(y_test, pat_cls.predictions))"
   ]
  },
  {
   "cell_type": "code",
   "execution_count": 16,
   "metadata": {},
   "outputs": [
    {
     "data": {
      "image/png": "[encoded data removed]",
      "text/plain": [
       "<Figure size 800x600 with 1 Axes>"
      ]
     },
     "metadata": {},
     "output_type": "display_data"
    }
   ],
   "source": [
    "import matplotlib.pyplot as plt\n",
    "\n",
    "# Assuming cv_results is a dictionary containing cross-validation scores\n",
    "# For example:\n",
    "cv_results = {\n",
    "    'accuracy': [0.85, 0.82, 0.89, 0.88, 0.87],  # Mean accuracy scores for each fold or parameter setting\n",
    "    'precision': [0.86, 0.83, 0.91, 0.89, 0.88],  # Mean precision scores\n",
    "    'recall': [0.82, 0.79, 0.87, 0.86, 0.85]  # Mean recall scores\n",
    "}\n",
    "\n",
    "# Plotting the cross-validation results\n",
    "plt.figure(figsize=(8, 6))\n",
    "\n",
    "# Plotting mean accuracy\n",
    "plt.plot(range(1, len(cv_results['accuracy']) + 1), cv_results['accuracy'], marker='o', label='Accuracy')\n",
    "# Plotting mean precision\n",
    "plt.plot(range(1, len(cv_results['precision']) + 1), cv_results['precision'], marker='o', label='Precision')\n",
    "# Plotting mean recall\n",
    "plt.plot(range(1, len(cv_results['recall']) + 1), cv_results['recall'], marker='o', label='Recall')\n",
    "\n",
    "plt.xlabel('Fold or Parameter Setting')\n",
    "plt.ylabel('Score')\n",
    "plt.title('Cross-Validation Results')\n",
    "plt.legend()\n",
    "plt.grid(True)\n",
    "plt.show()\n"
   ]
  },
  {
   "cell_type": "code",
   "execution_count": null,
   "metadata": {
    "ExecuteTime": {
     "end_time": "2023-11-28T16:38:45.755417Z",
     "start_time": "2023-11-28T16:38:45.739936Z"
    }
   },
   "outputs": [
    {
     "data": {
      "text/html": [
       "<div>\n",
       "<style scoped>\n",
       "    .dataframe tbody tr th:only-of-type {\n",
       "        vertical-align: middle;\n",
       "    }\n",
       "\n",
       "    .dataframe tbody tr th {\n",
       "        vertical-align: top;\n",
       "    }\n",
       "\n",
       "    .dataframe thead th {\n",
       "        text-align: right;\n",
       "    }\n",
       "</style>\n",
       "<table border=\"1\" class=\"dataframe\">\n",
       "  <thead>\n",
       "    <tr style=\"text-align: right;\">\n",
       "      <th></th>\n",
       "      <th>Countries</th>\n",
       "      <th>Cost of living, 2017</th>\n",
       "      <th>Global rank</th>\n",
       "      <th>Available data</th>\n",
       "    </tr>\n",
       "  </thead>\n",
       "  <tbody>\n",
       "    <tr>\n",
       "      <th>89</th>\n",
       "      <td>Colombia</td>\n",
       "      <td>False</td>\n",
       "      <td>89.0</td>\n",
       "      <td>2017 - 2017</td>\n",
       "    </tr>\n",
       "    <tr>\n",
       "      <th>97</th>\n",
       "      <td>Bosnia &amp; Herz.</td>\n",
       "      <td>False</td>\n",
       "      <td>97.0</td>\n",
       "      <td>2017 - 2017</td>\n",
       "    </tr>\n",
       "    <tr>\n",
       "      <th>75</th>\n",
       "      <td>Namibia</td>\n",
       "      <td>False</td>\n",
       "      <td>75.0</td>\n",
       "      <td>2017 - 2017</td>\n",
       "    </tr>\n",
       "    <tr>\n",
       "      <th>69</th>\n",
       "      <td>Bahrain</td>\n",
       "      <td>False</td>\n",
       "      <td>69.0</td>\n",
       "      <td>2017 - 2017</td>\n",
       "    </tr>\n",
       "    <tr>\n",
       "      <th>130</th>\n",
       "      <td>Bolivia</td>\n",
       "      <td>False</td>\n",
       "      <td>130.0</td>\n",
       "      <td>2017 - 2017</td>\n",
       "    </tr>\n",
       "    <tr>\n",
       "      <th>114</th>\n",
       "      <td>Chad</td>\n",
       "      <td>False</td>\n",
       "      <td>114.0</td>\n",
       "      <td>2017 - 2017</td>\n",
       "    </tr>\n",
       "    <tr>\n",
       "      <th>110</th>\n",
       "      <td>Togo</td>\n",
       "      <td>False</td>\n",
       "      <td>110.0</td>\n",
       "      <td>2017 - 2017</td>\n",
       "    </tr>\n",
       "    <tr>\n",
       "      <th>45</th>\n",
       "      <td>Estonia</td>\n",
       "      <td>False</td>\n",
       "      <td>45.0</td>\n",
       "      <td>2017 - 2017</td>\n",
       "    </tr>\n",
       "    <tr>\n",
       "      <th>115</th>\n",
       "      <td>Cameroon</td>\n",
       "      <td>False</td>\n",
       "      <td>115.0</td>\n",
       "      <td>2017 - 2017</td>\n",
       "    </tr>\n",
       "    <tr>\n",
       "      <th>56</th>\n",
       "      <td>Kuwait</td>\n",
       "      <td>False</td>\n",
       "      <td>56.0</td>\n",
       "      <td>2017 - 2017</td>\n",
       "    </tr>\n",
       "  </tbody>\n",
       "</table>\n",
       "</div>"
      ],
      "text/plain": [
       "          Countries  Cost of living, 2017  Global rank Available data\n",
       "89         Colombia                 False         89.0    2017 - 2017\n",
       "97   Bosnia & Herz.                 False         97.0    2017 - 2017\n",
       "75          Namibia                 False         75.0    2017 - 2017\n",
       "69          Bahrain                 False         69.0    2017 - 2017\n",
       "130         Bolivia                 False        130.0    2017 - 2017\n",
       "114            Chad                 False        114.0    2017 - 2017\n",
       "110            Togo                 False        110.0    2017 - 2017\n",
       "45          Estonia                 False         45.0    2017 - 2017\n",
       "115        Cameroon                 False        115.0    2017 - 2017\n",
       "56           Kuwait                 False         56.0    2017 - 2017"
      ]
     },
     "execution_count": 17,
     "metadata": {},
     "output_type": "execute_result"
    }
   ],
   "source": [
    "df = pd.read_csv('../data_sets/cost_of_living.csv', names=[\"Countries\",\"Cost of living, 2017\",\"Global rank\",\"Available data\"])\n",
    "# print(df.columns)\n",
    "df['Cost of living, 2017'] = [float(x) >= 100.0 for x in df['Cost of living, 2017']]\n",
    "df.sample(10)"
   ]
  },
  {
   "cell_type": "code",
   "execution_count": 26,
   "metadata": {
    "ExecuteTime": {
     "end_time": "2023-11-28T16:40:29.659898Z",
     "start_time": "2023-11-28T16:40:29.645935Z"
    }
   },
   "outputs": [
    {
     "ename": "KeyError",
     "evalue": "'Cost of living, 2017'",
     "output_type": "error",
     "traceback": [
      "\u001b[0;31m---------------------------------------------------------------------------\u001b[0m",
      "\u001b[0;31mKeyError\u001b[0m                                  Traceback (most recent call last)",
      "File \u001b[0;32m~/anaconda3/lib/python3.11/site-packages/pandas/core/indexes/base.py:3653\u001b[0m, in \u001b[0;36mIndex.get_loc\u001b[0;34m(self, key)\u001b[0m\n\u001b[1;32m   3652\u001b[0m \u001b[39mtry\u001b[39;00m:\n\u001b[0;32m-> 3653\u001b[0m     \u001b[39mreturn\u001b[39;00m \u001b[39mself\u001b[39m\u001b[39m.\u001b[39m_engine\u001b[39m.\u001b[39mget_loc(casted_key)\n\u001b[1;32m   3654\u001b[0m \u001b[39mexcept\u001b[39;00m \u001b[39mKeyError\u001b[39;00m \u001b[39mas\u001b[39;00m err:\n",
      "File \u001b[0;32m~/anaconda3/lib/python3.11/site-packages/pandas/_libs/index.pyx:147\u001b[0m, in \u001b[0;36mpandas._libs.index.IndexEngine.get_loc\u001b[0;34m()\u001b[0m\n",
      "File \u001b[0;32m~/anaconda3/lib/python3.11/site-packages/pandas/_libs/index.pyx:176\u001b[0m, in \u001b[0;36mpandas._libs.index.IndexEngine.get_loc\u001b[0;34m()\u001b[0m\n",
      "File \u001b[0;32mpandas/_libs/hashtable_class_helper.pxi:7080\u001b[0m, in \u001b[0;36mpandas._libs.hashtable.PyObjectHashTable.get_item\u001b[0;34m()\u001b[0m\n",
      "File \u001b[0;32mpandas/_libs/hashtable_class_helper.pxi:7088\u001b[0m, in \u001b[0;36mpandas._libs.hashtable.PyObjectHashTable.get_item\u001b[0;34m()\u001b[0m\n",
      "\u001b[0;31mKeyError\u001b[0m: 'Cost of living, 2017'",
      "\nThe above exception was the direct cause of the following exception:\n",
      "\u001b[0;31mKeyError\u001b[0m                                  Traceback (most recent call last)",
      "\u001b[1;32m/Users/sharmiislam/Documents/FCALC/fcalc/exmp.ipynb Cell 17\u001b[0m line \u001b[0;36m2\n\u001b[1;32m      <a href='vscode-notebook-cell:/Users/sharmiislam/Documents/FCALC/fcalc/exmp.ipynb#X22sZmlsZQ%3D%3D?line=0'>1</a>\u001b[0m X \u001b[39m=\u001b[39m df\u001b[39m.\u001b[39miloc[:,:\u001b[39m-\u001b[39m\u001b[39m1\u001b[39m]\n\u001b[0;32m----> <a href='vscode-notebook-cell:/Users/sharmiislam/Documents/FCALC/fcalc/exmp.ipynb#X22sZmlsZQ%3D%3D?line=1'>2</a>\u001b[0m y \u001b[39m=\u001b[39m df[\u001b[39m'\u001b[39m\u001b[39mCost of living, 2017\u001b[39m\u001b[39m'\u001b[39m]\n\u001b[1;32m      <a href='vscode-notebook-cell:/Users/sharmiislam/Documents/FCALC/fcalc/exmp.ipynb#X22sZmlsZQ%3D%3D?line=2'>3</a>\u001b[0m X_train, X_test, y_train, y_test \u001b[39m=\u001b[39m train_test_split(X, y, test_size\u001b[39m=\u001b[39m\u001b[39m0.3\u001b[39m, random_state\u001b[39m=\u001b[39m\u001b[39m42\u001b[39m)\n",
      "File \u001b[0;32m~/anaconda3/lib/python3.11/site-packages/pandas/core/frame.py:3761\u001b[0m, in \u001b[0;36mDataFrame.__getitem__\u001b[0;34m(self, key)\u001b[0m\n\u001b[1;32m   3759\u001b[0m \u001b[39mif\u001b[39;00m \u001b[39mself\u001b[39m\u001b[39m.\u001b[39mcolumns\u001b[39m.\u001b[39mnlevels \u001b[39m>\u001b[39m \u001b[39m1\u001b[39m:\n\u001b[1;32m   3760\u001b[0m     \u001b[39mreturn\u001b[39;00m \u001b[39mself\u001b[39m\u001b[39m.\u001b[39m_getitem_multilevel(key)\n\u001b[0;32m-> 3761\u001b[0m indexer \u001b[39m=\u001b[39m \u001b[39mself\u001b[39m\u001b[39m.\u001b[39mcolumns\u001b[39m.\u001b[39mget_loc(key)\n\u001b[1;32m   3762\u001b[0m \u001b[39mif\u001b[39;00m is_integer(indexer):\n\u001b[1;32m   3763\u001b[0m     indexer \u001b[39m=\u001b[39m [indexer]\n",
      "File \u001b[0;32m~/anaconda3/lib/python3.11/site-packages/pandas/core/indexes/base.py:3655\u001b[0m, in \u001b[0;36mIndex.get_loc\u001b[0;34m(self, key)\u001b[0m\n\u001b[1;32m   3653\u001b[0m     \u001b[39mreturn\u001b[39;00m \u001b[39mself\u001b[39m\u001b[39m.\u001b[39m_engine\u001b[39m.\u001b[39mget_loc(casted_key)\n\u001b[1;32m   3654\u001b[0m \u001b[39mexcept\u001b[39;00m \u001b[39mKeyError\u001b[39;00m \u001b[39mas\u001b[39;00m err:\n\u001b[0;32m-> 3655\u001b[0m     \u001b[39mraise\u001b[39;00m \u001b[39mKeyError\u001b[39;00m(key) \u001b[39mfrom\u001b[39;00m \u001b[39merr\u001b[39;00m\n\u001b[1;32m   3656\u001b[0m \u001b[39mexcept\u001b[39;00m \u001b[39mTypeError\u001b[39;00m:\n\u001b[1;32m   3657\u001b[0m     \u001b[39m# If we have a listlike key, _check_indexing_error will raise\u001b[39;00m\n\u001b[1;32m   3658\u001b[0m     \u001b[39m#  InvalidIndexError. Otherwise we fall through and re-raise\u001b[39;00m\n\u001b[1;32m   3659\u001b[0m     \u001b[39m#  the TypeError.\u001b[39;00m\n\u001b[1;32m   3660\u001b[0m     \u001b[39mself\u001b[39m\u001b[39m.\u001b[39m_check_indexing_error(key)\n",
      "\u001b[0;31mKeyError\u001b[0m: 'Cost of living, 2017'"
     ]
    }
   ],
   "source": [
    "X = df.iloc[:,:-1]\n",
    "y = df['Cost of living, 2017']\n",
    "X_train, X_test, y_train, y_test = train_test_split(X, y, test_size=0.3, random_state=42)"
   ]
  },
  {
   "cell_type": "code",
   "execution_count": null,
   "metadata": {
    "ExecuteTime": {
     "end_time": "2023-11-28T16:40:30.989695Z",
     "start_time": "2023-11-28T16:40:30.976312Z"
    }
   },
   "outputs": [],
   "source": [
    "pat_cls = classifier.PatternBinaryClassifier(X_train.values, y_train.to_numpy())"
   ]
  },
  {
   "cell_type": "code",
   "execution_count": null,
   "metadata": {
    "ExecuteTime": {
     "end_time": "2023-11-28T16:40:31.695247Z",
     "start_time": "2023-11-28T16:40:31.519427Z"
    }
   },
   "outputs": [],
   "source": [
    "pat_cls.predict(X_test.values)"
   ]
  },
  {
   "cell_type": "code",
   "execution_count": null,
   "metadata": {
    "ExecuteTime": {
     "end_time": "2023-11-28T16:40:32.544647Z",
     "start_time": "2023-11-28T16:40:32.537101Z"
    }
   },
   "outputs": [
    {
     "name": "stdout",
     "output_type": "stream",
     "text": [
      "accuracy: 1.0\n",
      "f1 score: 1.0\n"
     ]
    }
   ],
   "source": [
    "from sklearn.metrics import accuracy_score, f1_score\n",
    "print(\"accuracy:\",round(accuracy_score(y_test, pat_cls.predictions),4))\n",
    "print(\"f1 score:\",round(f1_score(y_test, pat_cls.predictions),4))"
   ]
  },
  {
   "cell_type": "code",
   "execution_count": 22,
   "metadata": {},
   "outputs": [
    {
     "data": {
      "image/png": "[encoded data removed]",
      "text/plain": [
       "<Figure size 800x600 with 1 Axes>"
      ]
     },
     "metadata": {},
     "output_type": "display_data"
    }
   ],
   "source": [
    "import matplotlib.pyplot as plt\n",
    "\n",
    "# Assuming cv_results is a dictionary containing cross-validation scores\n",
    "# For example:\n",
    "cv_results = {\n",
    "    \n",
    "    'accuracy': [0.95, 0.92, 0.89, 0.88, 0.90],  # Mean accuracy scores for each fold or parameter setting\n",
    "    'precision': [0.96, 0.93, 0.91, 0.89, 0.88],  # Mean precision scores\n",
    "    'recall': [0.92, 0.99, 0.97, 0.96, 0.85]  # Mean recall scores\n",
    "}\n",
    "\n",
    "# Plotting the cross-validation results\n",
    "plt.figure(figsize=(8, 6))\n",
    "\n",
    "# Plotting mean accuracy\n",
    "plt.plot(range(1, len(cv_results['accuracy']) + 1), cv_results['accuracy'], marker='o', label='Accuracy')\n",
    "# Plotting mean precision\n",
    "plt.plot(range(1, len(cv_results['precision']) + 1), cv_results['precision'], marker='o', label='Precision')\n",
    "# Plotting mean recall\n",
    "plt.plot(range(1, len(cv_results['recall']) + 1), cv_results['recall'], marker='o', label='Recall')\n",
    "\n",
    "plt.xlabel('Fold or Parameter Setting')\n",
    "plt.ylabel('Score')\n",
    "plt.title('Cross-Validation Results')\n",
    "plt.legend()\n",
    "plt.grid(True)\n",
    "plt.show()\n"
   ]
  },
  {
   "cell_type": "code",
   "execution_count": null,
   "metadata": {
    "ExecuteTime": {
     "end_time": "2023-11-28T18:20:27.734608Z",
     "start_time": "2023-11-28T18:20:27.721578Z"
    }
   },
   "outputs": [
    {
     "data": {
      "text/html": [
       "<div>\n",
       "<style scoped>\n",
       "    .dataframe tbody tr th:only-of-type {\n",
       "        vertical-align: middle;\n",
       "    }\n",
       "\n",
       "    .dataframe tbody tr th {\n",
       "        vertical-align: top;\n",
       "    }\n",
       "\n",
       "    .dataframe thead th {\n",
       "        text-align: right;\n",
       "    }\n",
       "</style>\n",
       "<table border=\"1\" class=\"dataframe\">\n",
       "  <thead>\n",
       "    <tr style=\"text-align: right;\">\n",
       "      <th></th>\n",
       "      <th>Animal</th>\n",
       "      <th>Height (cm)</th>\n",
       "      <th>Weight (kg)</th>\n",
       "      <th>Color</th>\n",
       "      <th>Lifespan (years)</th>\n",
       "      <th>Diet</th>\n",
       "      <th>Habitat</th>\n",
       "      <th>Predators</th>\n",
       "      <th>Average Speed (km/h)</th>\n",
       "      <th>Countries Found</th>\n",
       "      <th>Conservation Status</th>\n",
       "      <th>Family</th>\n",
       "      <th>Gestation Period (days)</th>\n",
       "      <th>Top Speed (km/h)</th>\n",
       "      <th>Social Structure</th>\n",
       "      <th>Offspring per Birth</th>\n",
       "    </tr>\n",
       "  </thead>\n",
       "  <tbody>\n",
       "    <tr>\n",
       "      <th>192</th>\n",
       "      <td>White Tiger</td>\n",
       "      <td>240-260</td>\n",
       "      <td>100-300</td>\n",
       "      <td>White, Black Stripes</td>\n",
       "      <td>10-15</td>\n",
       "      <td>Carnivore</td>\n",
       "      <td>Rainforests</td>\n",
       "      <td>Humans, Leopards</td>\n",
       "      <td>22</td>\n",
       "      <td>India, Southeast Asia</td>\n",
       "      <td>Critically Endangered</td>\n",
       "      <td>Felidae</td>\n",
       "      <td>230-260</td>\n",
       "      <td>22</td>\n",
       "      <td>Solitary</td>\n",
       "      <td>True</td>\n",
       "    </tr>\n",
       "    <tr>\n",
       "      <th>60</th>\n",
       "      <td>European Hedgehog</td>\n",
       "      <td>14-30</td>\n",
       "      <td>0.6-1.2</td>\n",
       "      <td>Brown, Spiny</td>\n",
       "      <td>2-5</td>\n",
       "      <td>Omnivore</td>\n",
       "      <td>Gardens, Grasslands</td>\n",
       "      <td>Foxes, Badgers</td>\n",
       "      <td>4-6</td>\n",
       "      <td>Europe, Asia</td>\n",
       "      <td>Least Concern</td>\n",
       "      <td>Erinaceidae</td>\n",
       "      <td>35</td>\n",
       "      <td>4-6</td>\n",
       "      <td>Solitary</td>\n",
       "      <td>False</td>\n",
       "    </tr>\n",
       "    <tr>\n",
       "      <th>77</th>\n",
       "      <td>Goblin Shark</td>\n",
       "      <td>Up to 320</td>\n",
       "      <td>Up to 210</td>\n",
       "      <td>Pinkish-gray</td>\n",
       "      <td>30-35</td>\n",
       "      <td>Carnivore</td>\n",
       "      <td>Deep-sea</td>\n",
       "      <td>Larger Fish, Other Sharks</td>\n",
       "      <td>1.6-3</td>\n",
       "      <td>Worldwide</td>\n",
       "      <td>Data Deficient</td>\n",
       "      <td>Mitsukurinidae</td>\n",
       "      <td>Not Applicable</td>\n",
       "      <td>Not Applicable</td>\n",
       "      <td>Solitary</td>\n",
       "      <td>False</td>\n",
       "    </tr>\n",
       "    <tr>\n",
       "      <th>18</th>\n",
       "      <td>Aye-Aye</td>\n",
       "      <td>35-37</td>\n",
       "      <td>2.2-2.7</td>\n",
       "      <td>Black, Brown</td>\n",
       "      <td>20-23</td>\n",
       "      <td>Omnivore, Insectivore</td>\n",
       "      <td>Rainforests</td>\n",
       "      <td>Birds of Prey</td>\n",
       "      <td>32</td>\n",
       "      <td>Madagascar</td>\n",
       "      <td>Endangered</td>\n",
       "      <td>Daubentoniidae</td>\n",
       "      <td>160-170</td>\n",
       "      <td>32</td>\n",
       "      <td>Solitary</td>\n",
       "      <td>True</td>\n",
       "    </tr>\n",
       "    <tr>\n",
       "      <th>144</th>\n",
       "      <td>Rottweiler</td>\n",
       "      <td>56-69</td>\n",
       "      <td>36-60</td>\n",
       "      <td>Black, Tan</td>\n",
       "      <td>8-10</td>\n",
       "      <td>Carnivore</td>\n",
       "      <td>Worldwide</td>\n",
       "      <td>Wolves, Coyotes</td>\n",
       "      <td>35</td>\n",
       "      <td>Worldwide</td>\n",
       "      <td>Not Applicable</td>\n",
       "      <td>Canidae</td>\n",
       "      <td>61-65</td>\n",
       "      <td>32</td>\n",
       "      <td>Pack-based</td>\n",
       "      <td>False</td>\n",
       "    </tr>\n",
       "  </tbody>\n",
       "</table>\n",
       "</div>"
      ],
      "text/plain": [
       "                Animal Height (cm) Weight (kg)                 Color  \\\n",
       "192        White Tiger     240-260     100-300  White, Black Stripes   \n",
       "60   European Hedgehog       14-30     0.6-1.2          Brown, Spiny   \n",
       "77        Goblin Shark   Up to 320   Up to 210          Pinkish-gray   \n",
       "18             Aye-Aye       35-37     2.2-2.7          Black, Brown   \n",
       "144         Rottweiler       56-69       36-60            Black, Tan   \n",
       "\n",
       "    Lifespan (years)                   Diet              Habitat  \\\n",
       "192            10-15              Carnivore          Rainforests   \n",
       "60               2-5               Omnivore  Gardens, Grasslands   \n",
       "77             30-35              Carnivore             Deep-sea   \n",
       "18             20-23  Omnivore, Insectivore          Rainforests   \n",
       "144             8-10              Carnivore            Worldwide   \n",
       "\n",
       "                     Predators Average Speed (km/h)        Countries Found  \\\n",
       "192           Humans, Leopards                   22  India, Southeast Asia   \n",
       "60              Foxes, Badgers                  4-6           Europe, Asia   \n",
       "77   Larger Fish, Other Sharks                1.6-3              Worldwide   \n",
       "18               Birds of Prey                   32             Madagascar   \n",
       "144            Wolves, Coyotes                   35              Worldwide   \n",
       "\n",
       "       Conservation Status          Family Gestation Period (days)  \\\n",
       "192  Critically Endangered         Felidae                 230-260   \n",
       "60           Least Concern     Erinaceidae                      35   \n",
       "77          Data Deficient  Mitsukurinidae          Not Applicable   \n",
       "18              Endangered  Daubentoniidae                 160-170   \n",
       "144         Not Applicable         Canidae                   61-65   \n",
       "\n",
       "    Top Speed (km/h) Social Structure  Offspring per Birth  \n",
       "192               22         Solitary                 True  \n",
       "60               4-6         Solitary                False  \n",
       "77    Not Applicable         Solitary                False  \n",
       "18                32         Solitary                 True  \n",
       "144               32       Pack-based                False  "
      ]
     },
     "execution_count": 23,
     "metadata": {},
     "output_type": "execute_result"
    }
   ],
   "source": [
    "column_names = [\n",
    "            'Animal','Height (cm)','Weight (kg)','Color','Lifespan (years)','Diet','Habitat','Predators','Average Speed (km/h)','Countries Found','Conservation Status','Family','Gestation Period (days)','Top Speed (km/h)','Social Structure','Offspring per Birth'\n",
    "]\n",
    "df = pd.read_csv('../data_sets/animal_dataset_2.csv')\n",
    "df['Offspring per Birth'] = [x == '1' for x in df['Offspring per Birth']]\n",
    "df.sample(5)\n"
   ]
  },
  {
   "cell_type": "code",
   "execution_count": null,
   "metadata": {
    "ExecuteTime": {
     "end_time": "2023-11-28T18:22:53.778269Z",
     "start_time": "2023-11-28T18:22:53.774053Z"
    }
   },
   "outputs": [],
   "source": [
    "X = df.iloc[:,:-1]\n",
    "y = df['Offspring per Birth']\n",
    "X_train, X_test, y_train, y_test = train_test_split(X, y, test_size=0.3, random_state=42)"
   ]
  },
  {
   "cell_type": "code",
   "execution_count": null,
   "metadata": {
    "ExecuteTime": {
     "end_time": "2023-11-28T18:23:41.545470Z",
     "start_time": "2023-11-28T18:23:41.536871Z"
    }
   },
   "outputs": [],
   "source": [
    "pat_cls = classifier.PatternBinaryClassifier(X_train.values, y_train.to_numpy(), categorical=np.array([2]))"
   ]
  },
  {
   "cell_type": "code",
   "execution_count": null,
   "metadata": {},
   "outputs": [
    {
     "data": {
      "text/html": [
       "<div>\n",
       "<style scoped>\n",
       "    .dataframe tbody tr th:only-of-type {\n",
       "        vertical-align: middle;\n",
       "    }\n",
       "\n",
       "    .dataframe tbody tr th {\n",
       "        vertical-align: top;\n",
       "    }\n",
       "\n",
       "    .dataframe thead th {\n",
       "        text-align: right;\n",
       "    }\n",
       "</style>\n",
       "<table border=\"1\" class=\"dataframe\">\n",
       "  <thead>\n",
       "    <tr style=\"text-align: right;\">\n",
       "      <th></th>\n",
       "      <th>Animal</th>\n",
       "      <th>Height (cm)</th>\n",
       "      <th>Weight (kg)</th>\n",
       "      <th>Color</th>\n",
       "      <th>Lifespan (years)</th>\n",
       "      <th>Diet</th>\n",
       "      <th>Habitat</th>\n",
       "      <th>Predators</th>\n",
       "      <th>Average Speed (km/h)</th>\n",
       "      <th>Countries Found</th>\n",
       "      <th>Conservation Status</th>\n",
       "      <th>Family</th>\n",
       "      <th>Gestation Period (days)</th>\n",
       "      <th>Top Speed (km/h)</th>\n",
       "      <th>Social Structure</th>\n",
       "    </tr>\n",
       "  </thead>\n",
       "  <tbody>\n",
       "    <tr>\n",
       "      <th>0</th>\n",
       "      <td>Aardvark</td>\n",
       "      <td>105-130</td>\n",
       "      <td>40-65</td>\n",
       "      <td>Grey</td>\n",
       "      <td>20-30</td>\n",
       "      <td>Insectivore</td>\n",
       "      <td>Savannas, Grasslands</td>\n",
       "      <td>Lions, Hyenas</td>\n",
       "      <td>40</td>\n",
       "      <td>Africa</td>\n",
       "      <td>Least Concern</td>\n",
       "      <td>Orycteropodidae</td>\n",
       "      <td>210-240</td>\n",
       "      <td>40</td>\n",
       "      <td>Solitary</td>\n",
       "    </tr>\n",
       "    <tr>\n",
       "      <th>1</th>\n",
       "      <td>Aardwolf</td>\n",
       "      <td>40-50</td>\n",
       "      <td>8-14</td>\n",
       "      <td>Yellow-brown</td>\n",
       "      <td>10-12</td>\n",
       "      <td>Insectivore</td>\n",
       "      <td>Grasslands, Savannas</td>\n",
       "      <td>Lions, Leopards</td>\n",
       "      <td>24-30</td>\n",
       "      <td>Eastern and Southern Africa</td>\n",
       "      <td>Least Concern</td>\n",
       "      <td>Hyaenidae</td>\n",
       "      <td>90</td>\n",
       "      <td>40</td>\n",
       "      <td>Solitary</td>\n",
       "    </tr>\n",
       "    <tr>\n",
       "      <th>2</th>\n",
       "      <td>African Elephant</td>\n",
       "      <td>270-310</td>\n",
       "      <td>2700-6000</td>\n",
       "      <td>Grey</td>\n",
       "      <td>60-70</td>\n",
       "      <td>Herbivore</td>\n",
       "      <td>Savannah, Forest</td>\n",
       "      <td>Lions, Hyenas</td>\n",
       "      <td>25</td>\n",
       "      <td>Africa</td>\n",
       "      <td>Vulnerable</td>\n",
       "      <td>Elephantidae</td>\n",
       "      <td>640-660</td>\n",
       "      <td>40</td>\n",
       "      <td>Herd-based</td>\n",
       "    </tr>\n",
       "    <tr>\n",
       "      <th>3</th>\n",
       "      <td>African Lion</td>\n",
       "      <td>80-110</td>\n",
       "      <td>120-250</td>\n",
       "      <td>Tan</td>\n",
       "      <td>10-14</td>\n",
       "      <td>Carnivore</td>\n",
       "      <td>Grasslands, Savannas</td>\n",
       "      <td>Hyenas, Crocodiles</td>\n",
       "      <td>58</td>\n",
       "      <td>Africa</td>\n",
       "      <td>Vulnerable</td>\n",
       "      <td>Felidae</td>\n",
       "      <td>98-105</td>\n",
       "      <td>80</td>\n",
       "      <td>Group-based</td>\n",
       "    </tr>\n",
       "    <tr>\n",
       "      <th>4</th>\n",
       "      <td>African Wild Dog</td>\n",
       "      <td>75-80</td>\n",
       "      <td>18-36</td>\n",
       "      <td>Multicolored</td>\n",
       "      <td>10-12</td>\n",
       "      <td>Carnivore</td>\n",
       "      <td>Savannahs</td>\n",
       "      <td>Lions, Hyenas</td>\n",
       "      <td>56</td>\n",
       "      <td>Sub-Saharan Africa</td>\n",
       "      <td>Endangered</td>\n",
       "      <td>Canidae</td>\n",
       "      <td>70</td>\n",
       "      <td>56</td>\n",
       "      <td>Group-based</td>\n",
       "    </tr>\n",
       "    <tr>\n",
       "      <th>...</th>\n",
       "      <td>...</td>\n",
       "      <td>...</td>\n",
       "      <td>...</td>\n",
       "      <td>...</td>\n",
       "      <td>...</td>\n",
       "      <td>...</td>\n",
       "      <td>...</td>\n",
       "      <td>...</td>\n",
       "      <td>...</td>\n",
       "      <td>...</td>\n",
       "      <td>...</td>\n",
       "      <td>...</td>\n",
       "      <td>...</td>\n",
       "      <td>...</td>\n",
       "      <td>...</td>\n",
       "    </tr>\n",
       "    <tr>\n",
       "      <th>200</th>\n",
       "      <td>Yak</td>\n",
       "      <td>140-160</td>\n",
       "      <td>500-1200</td>\n",
       "      <td>Brown, Black</td>\n",
       "      <td>20-25</td>\n",
       "      <td>Herbivore</td>\n",
       "      <td>Mountains</td>\n",
       "      <td>Snow Leopards, Wolves</td>\n",
       "      <td>24</td>\n",
       "      <td>Himalayas, Central Asia</td>\n",
       "      <td>Least Concern</td>\n",
       "      <td>Bovidae</td>\n",
       "      <td>215-280</td>\n",
       "      <td>24</td>\n",
       "      <td>Group-based</td>\n",
       "    </tr>\n",
       "    <tr>\n",
       "      <th>201</th>\n",
       "      <td>Yellow-Eyed Penguin</td>\n",
       "      <td>60-65</td>\n",
       "      <td>1-3</td>\n",
       "      <td>Yellow, White</td>\n",
       "      <td>Up to 20</td>\n",
       "      <td>Carnivore</td>\n",
       "      <td>Coastal Areas</td>\n",
       "      <td>Seals, Orcas</td>\n",
       "      <td>25</td>\n",
       "      <td>New Zealand</td>\n",
       "      <td>Endangered</td>\n",
       "      <td>Spheniscidae</td>\n",
       "      <td>80-90</td>\n",
       "      <td>25</td>\n",
       "      <td>Solitary</td>\n",
       "    </tr>\n",
       "    <tr>\n",
       "      <th>202</th>\n",
       "      <td>Yeti Crab</td>\n",
       "      <td>Up to 15</td>\n",
       "      <td>Up to 0.5</td>\n",
       "      <td>White, Hairy</td>\n",
       "      <td>Up to 20</td>\n",
       "      <td>Omnivore</td>\n",
       "      <td>Hydrothermal Vents</td>\n",
       "      <td>Not Applicable</td>\n",
       "      <td>Not Applicable</td>\n",
       "      <td>Pacific Ocean</td>\n",
       "      <td>Not Evaluated</td>\n",
       "      <td>Kiwaidae</td>\n",
       "      <td>Not Applicable</td>\n",
       "      <td>Not Applicable</td>\n",
       "      <td>Solitary</td>\n",
       "    </tr>\n",
       "    <tr>\n",
       "      <th>203</th>\n",
       "      <td>Zebra</td>\n",
       "      <td>220-340</td>\n",
       "      <td>400-900</td>\n",
       "      <td>Black, White</td>\n",
       "      <td>20-25</td>\n",
       "      <td>Herbivore</td>\n",
       "      <td>Grasslands</td>\n",
       "      <td>Lions, Hyenas</td>\n",
       "      <td>25</td>\n",
       "      <td>Africa</td>\n",
       "      <td>Least Concern</td>\n",
       "      <td>Equidae</td>\n",
       "      <td>180-365</td>\n",
       "      <td>25</td>\n",
       "      <td>Group-based</td>\n",
       "    </tr>\n",
       "    <tr>\n",
       "      <th>204</th>\n",
       "      <td>Zebra Shark</td>\n",
       "      <td>Up to 330</td>\n",
       "      <td>Up to 32</td>\n",
       "      <td>Brown, Yellowish</td>\n",
       "      <td>25-30</td>\n",
       "      <td>Carnivore</td>\n",
       "      <td>Coral Reefs</td>\n",
       "      <td>Larger Fish</td>\n",
       "      <td>20</td>\n",
       "      <td>Indo-Pacific region</td>\n",
       "      <td>Endangered</td>\n",
       "      <td>Stegostomatidae</td>\n",
       "      <td>10-25</td>\n",
       "      <td>20</td>\n",
       "      <td>Solitary</td>\n",
       "    </tr>\n",
       "  </tbody>\n",
       "</table>\n",
       "<p>205 rows × 15 columns</p>\n",
       "</div>"
      ],
      "text/plain": [
       "                  Animal Height (cm) Weight (kg)             Color  \\\n",
       "0               Aardvark     105-130       40-65              Grey   \n",
       "1               Aardwolf       40-50        8-14      Yellow-brown   \n",
       "2       African Elephant     270-310   2700-6000              Grey   \n",
       "3           African Lion      80-110     120-250               Tan   \n",
       "4       African Wild Dog       75-80       18-36      Multicolored   \n",
       "..                   ...         ...         ...               ...   \n",
       "200                  Yak     140-160    500-1200      Brown, Black   \n",
       "201  Yellow-Eyed Penguin       60-65         1-3     Yellow, White   \n",
       "202            Yeti Crab    Up to 15   Up to 0.5      White, Hairy   \n",
       "203                Zebra     220-340     400-900      Black, White   \n",
       "204          Zebra Shark   Up to 330    Up to 32  Brown, Yellowish   \n",
       "\n",
       "    Lifespan (years)         Diet               Habitat  \\\n",
       "0              20-30  Insectivore  Savannas, Grasslands   \n",
       "1              10-12  Insectivore  Grasslands, Savannas   \n",
       "2              60-70    Herbivore      Savannah, Forest   \n",
       "3              10-14    Carnivore  Grasslands, Savannas   \n",
       "4              10-12    Carnivore             Savannahs   \n",
       "..               ...          ...                   ...   \n",
       "200            20-25    Herbivore             Mountains   \n",
       "201         Up to 20    Carnivore         Coastal Areas   \n",
       "202         Up to 20     Omnivore    Hydrothermal Vents   \n",
       "203            20-25    Herbivore            Grasslands   \n",
       "204            25-30    Carnivore           Coral Reefs   \n",
       "\n",
       "                 Predators Average Speed (km/h)              Countries Found  \\\n",
       "0            Lions, Hyenas                   40                       Africa   \n",
       "1          Lions, Leopards                24-30  Eastern and Southern Africa   \n",
       "2            Lions, Hyenas                   25                       Africa   \n",
       "3       Hyenas, Crocodiles                   58                       Africa   \n",
       "4            Lions, Hyenas                   56           Sub-Saharan Africa   \n",
       "..                     ...                  ...                          ...   \n",
       "200  Snow Leopards, Wolves                   24      Himalayas, Central Asia   \n",
       "201           Seals, Orcas                   25                  New Zealand   \n",
       "202         Not Applicable       Not Applicable                Pacific Ocean   \n",
       "203          Lions, Hyenas                   25                       Africa   \n",
       "204            Larger Fish                   20          Indo-Pacific region   \n",
       "\n",
       "    Conservation Status           Family Gestation Period (days)  \\\n",
       "0         Least Concern  Orycteropodidae                 210-240   \n",
       "1         Least Concern        Hyaenidae                      90   \n",
       "2            Vulnerable     Elephantidae                 640-660   \n",
       "3            Vulnerable          Felidae                  98-105   \n",
       "4            Endangered          Canidae                      70   \n",
       "..                  ...              ...                     ...   \n",
       "200       Least Concern          Bovidae                 215-280   \n",
       "201          Endangered     Spheniscidae                   80-90   \n",
       "202       Not Evaluated         Kiwaidae          Not Applicable   \n",
       "203       Least Concern          Equidae                 180-365   \n",
       "204          Endangered  Stegostomatidae                   10-25   \n",
       "\n",
       "    Top Speed (km/h) Social Structure  \n",
       "0                 40         Solitary  \n",
       "1                 40         Solitary  \n",
       "2                 40       Herd-based  \n",
       "3                 80      Group-based  \n",
       "4                 56      Group-based  \n",
       "..               ...              ...  \n",
       "200               24      Group-based  \n",
       "201               25         Solitary  \n",
       "202   Not Applicable         Solitary  \n",
       "203               25      Group-based  \n",
       "204               20         Solitary  \n",
       "\n",
       "[205 rows x 15 columns]"
      ]
     },
     "execution_count": 40,
     "metadata": {},
     "output_type": "execute_result"
    }
   ],
   "source": [
    "X"
   ]
  },
  {
   "cell_type": "code",
   "execution_count": null,
   "metadata": {
    "ExecuteTime": {
     "end_time": "2023-11-28T18:23:42.283184Z",
     "start_time": "2023-11-28T18:23:42.251474Z"
    }
   },
   "outputs": [],
   "source": [
    "pat_cls.predict(X_test.values)"
   ]
  },
  {
   "cell_type": "code",
   "execution_count": null,
   "metadata": {},
   "outputs": [
    {
     "data": {
      "text/plain": [
       "array([ 1., -1., -1., -1., -1., -1., -1., -1., -1., -1., -1., -1., -1.,\n",
       "       -1., -1., -1., -1.,  0., -1., -1., -1., -1., -1., -1., -1., -1.,\n",
       "       -1., -1., -1., -1., -1., -1., -1., -1., -1., -1., -1., -1., -1.,\n",
       "       -1., -1., -1., -1., -1., -1., -1., -1., -1., -1.,  0., -1., -1.,\n",
       "       -1., -1., -1., -1., -1., -1., -1., -1., -1., -1.])"
      ]
     },
     "execution_count": 49,
     "metadata": {},
     "output_type": "execute_result"
    }
   ],
   "source": [
    "pat_cls.predictions"
   ]
  },
  {
   "cell_type": "code",
   "execution_count": null,
   "metadata": {},
   "outputs": [
    {
     "data": {
      "text/plain": [
       "array([1, 1, 0, 0, 0, 0, 0, 1, 1, 1, 0, 0, 0, 0, 0, 0, 1, 0, 1, 0, 0, 0,\n",
       "       1, 0, 0, 1, 0, 0, 0, 0, 1, 0, 0, 0, 0, 0, 1, 1, 0, 0, 0, 1, 0, 0,\n",
       "       1, 0, 0, 1, 1, 0, 1, 0, 1, 0, 0, 1, 1, 1, 0, 0, 0, 0])"
      ]
     },
     "execution_count": 47,
     "metadata": {},
     "output_type": "execute_result"
    }
   ],
   "source": [
    "np.array(y_test+0)"
   ]
  },
  {
   "cell_type": "code",
   "execution_count": null,
   "metadata": {},
   "outputs": [
    {
     "name": "stdout",
     "output_type": "stream",
     "text": [
      "accuracy: 0.0484\n"
     ]
    },
    {
     "ename": "ValueError",
     "evalue": "Target is multiclass but average='binary'. Please choose another average setting, one of [None, 'micro', 'macro', 'weighted'].",
     "output_type": "error",
     "traceback": [
      "\u001b[0;31m---------------------------------------------------------------------------\u001b[0m",
      "\u001b[0;31mValueError\u001b[0m                                Traceback (most recent call last)",
      "\u001b[1;32m/Users/sharmiislam/Documents/FCALC/fcalc/exmp.ipynb Cell 25\u001b[0m line \u001b[0;36m3\n\u001b[1;32m      <a href='vscode-notebook-cell:/Users/sharmiislam/Documents/FCALC/fcalc/exmp.ipynb#X32sZmlsZQ%3D%3D?line=0'>1</a>\u001b[0m \u001b[39mfrom\u001b[39;00m \u001b[39msklearn\u001b[39;00m\u001b[39m.\u001b[39;00m\u001b[39mmetrics\u001b[39;00m \u001b[39mimport\u001b[39;00m accuracy_score, f1_score\n\u001b[1;32m      <a href='vscode-notebook-cell:/Users/sharmiislam/Documents/FCALC/fcalc/exmp.ipynb#X32sZmlsZQ%3D%3D?line=1'>2</a>\u001b[0m \u001b[39mprint\u001b[39m(\u001b[39m\"\u001b[39m\u001b[39maccuracy:\u001b[39m\u001b[39m\"\u001b[39m,\u001b[39mround\u001b[39m(accuracy_score(y_test, pat_cls\u001b[39m.\u001b[39mpredictions),\u001b[39m4\u001b[39m))\n\u001b[0;32m----> <a href='vscode-notebook-cell:/Users/sharmiislam/Documents/FCALC/fcalc/exmp.ipynb#X32sZmlsZQ%3D%3D?line=2'>3</a>\u001b[0m \u001b[39mprint\u001b[39m(\u001b[39m\"\u001b[39m\u001b[39mf1 score:\u001b[39m\u001b[39m\"\u001b[39m,\u001b[39mround\u001b[39m(f1_score(y_test, pat_cls\u001b[39m.\u001b[39mpredictions),\u001b[39m4\u001b[39m))\n",
      "File \u001b[0;32m~/anaconda3/lib/python3.11/site-packages/sklearn/utils/_param_validation.py:211\u001b[0m, in \u001b[0;36mvalidate_params.<locals>.decorator.<locals>.wrapper\u001b[0;34m(*args, **kwargs)\u001b[0m\n\u001b[1;32m    205\u001b[0m \u001b[39mtry\u001b[39;00m:\n\u001b[1;32m    206\u001b[0m     \u001b[39mwith\u001b[39;00m config_context(\n\u001b[1;32m    207\u001b[0m         skip_parameter_validation\u001b[39m=\u001b[39m(\n\u001b[1;32m    208\u001b[0m             prefer_skip_nested_validation \u001b[39mor\u001b[39;00m global_skip_validation\n\u001b[1;32m    209\u001b[0m         )\n\u001b[1;32m    210\u001b[0m     ):\n\u001b[0;32m--> 211\u001b[0m         \u001b[39mreturn\u001b[39;00m func(\u001b[39m*\u001b[39margs, \u001b[39m*\u001b[39m\u001b[39m*\u001b[39mkwargs)\n\u001b[1;32m    212\u001b[0m \u001b[39mexcept\u001b[39;00m InvalidParameterError \u001b[39mas\u001b[39;00m e:\n\u001b[1;32m    213\u001b[0m     \u001b[39m# When the function is just a wrapper around an estimator, we allow\u001b[39;00m\n\u001b[1;32m    214\u001b[0m     \u001b[39m# the function to delegate validation to the estimator, but we replace\u001b[39;00m\n\u001b[1;32m    215\u001b[0m     \u001b[39m# the name of the estimator by the name of the function in the error\u001b[39;00m\n\u001b[1;32m    216\u001b[0m     \u001b[39m# message to avoid confusion.\u001b[39;00m\n\u001b[1;32m    217\u001b[0m     msg \u001b[39m=\u001b[39m re\u001b[39m.\u001b[39msub(\n\u001b[1;32m    218\u001b[0m         \u001b[39mr\u001b[39m\u001b[39m\"\u001b[39m\u001b[39mparameter of \u001b[39m\u001b[39m\\\u001b[39m\u001b[39mw+ must be\u001b[39m\u001b[39m\"\u001b[39m,\n\u001b[1;32m    219\u001b[0m         \u001b[39mf\u001b[39m\u001b[39m\"\u001b[39m\u001b[39mparameter of \u001b[39m\u001b[39m{\u001b[39;00mfunc\u001b[39m.\u001b[39m\u001b[39m__qualname__\u001b[39m\u001b[39m}\u001b[39;00m\u001b[39m must be\u001b[39m\u001b[39m\"\u001b[39m,\n\u001b[1;32m    220\u001b[0m         \u001b[39mstr\u001b[39m(e),\n\u001b[1;32m    221\u001b[0m     )\n",
      "File \u001b[0;32m~/anaconda3/lib/python3.11/site-packages/sklearn/metrics/_classification.py:1238\u001b[0m, in \u001b[0;36mf1_score\u001b[0;34m(y_true, y_pred, labels, pos_label, average, sample_weight, zero_division)\u001b[0m\n\u001b[1;32m   1070\u001b[0m \u001b[39m@validate_params\u001b[39m(\n\u001b[1;32m   1071\u001b[0m     {\n\u001b[1;32m   1072\u001b[0m         \u001b[39m\"\u001b[39m\u001b[39my_true\u001b[39m\u001b[39m\"\u001b[39m: [\u001b[39m\"\u001b[39m\u001b[39marray-like\u001b[39m\u001b[39m\"\u001b[39m, \u001b[39m\"\u001b[39m\u001b[39msparse matrix\u001b[39m\u001b[39m\"\u001b[39m],\n\u001b[0;32m   (...)\u001b[0m\n\u001b[1;32m   1096\u001b[0m     zero_division\u001b[39m=\u001b[39m\u001b[39m\"\u001b[39m\u001b[39mwarn\u001b[39m\u001b[39m\"\u001b[39m,\n\u001b[1;32m   1097\u001b[0m ):\n\u001b[1;32m   1098\u001b[0m \u001b[39m    \u001b[39m\u001b[39m\"\"\"Compute the F1 score, also known as balanced F-score or F-measure.\u001b[39;00m\n\u001b[1;32m   1099\u001b[0m \n\u001b[1;32m   1100\u001b[0m \u001b[39m    The F1 score can be interpreted as a harmonic mean of the precision and\u001b[39;00m\n\u001b[0;32m   (...)\u001b[0m\n\u001b[1;32m   1236\u001b[0m \u001b[39m    array([0.66666667, 1.        , 0.66666667])\u001b[39;00m\n\u001b[1;32m   1237\u001b[0m \u001b[39m    \"\"\"\u001b[39;00m\n\u001b[0;32m-> 1238\u001b[0m     \u001b[39mreturn\u001b[39;00m fbeta_score(\n\u001b[1;32m   1239\u001b[0m         y_true,\n\u001b[1;32m   1240\u001b[0m         y_pred,\n\u001b[1;32m   1241\u001b[0m         beta\u001b[39m=\u001b[39m\u001b[39m1\u001b[39m,\n\u001b[1;32m   1242\u001b[0m         labels\u001b[39m=\u001b[39mlabels,\n\u001b[1;32m   1243\u001b[0m         pos_label\u001b[39m=\u001b[39mpos_label,\n\u001b[1;32m   1244\u001b[0m         average\u001b[39m=\u001b[39maverage,\n\u001b[1;32m   1245\u001b[0m         sample_weight\u001b[39m=\u001b[39msample_weight,\n\u001b[1;32m   1246\u001b[0m         zero_division\u001b[39m=\u001b[39mzero_division,\n\u001b[1;32m   1247\u001b[0m     )\n",
      "File \u001b[0;32m~/anaconda3/lib/python3.11/site-packages/sklearn/utils/_param_validation.py:184\u001b[0m, in \u001b[0;36mvalidate_params.<locals>.decorator.<locals>.wrapper\u001b[0;34m(*args, **kwargs)\u001b[0m\n\u001b[1;32m    182\u001b[0m global_skip_validation \u001b[39m=\u001b[39m get_config()[\u001b[39m\"\u001b[39m\u001b[39mskip_parameter_validation\u001b[39m\u001b[39m\"\u001b[39m]\n\u001b[1;32m    183\u001b[0m \u001b[39mif\u001b[39;00m global_skip_validation:\n\u001b[0;32m--> 184\u001b[0m     \u001b[39mreturn\u001b[39;00m func(\u001b[39m*\u001b[39margs, \u001b[39m*\u001b[39m\u001b[39m*\u001b[39mkwargs)\n\u001b[1;32m    186\u001b[0m func_sig \u001b[39m=\u001b[39m signature(func)\n\u001b[1;32m    188\u001b[0m \u001b[39m# Map *args/**kwargs to the function signature\u001b[39;00m\n",
      "File \u001b[0;32m~/anaconda3/lib/python3.11/site-packages/sklearn/metrics/_classification.py:1411\u001b[0m, in \u001b[0;36mfbeta_score\u001b[0;34m(y_true, y_pred, beta, labels, pos_label, average, sample_weight, zero_division)\u001b[0m\n\u001b[1;32m   1250\u001b[0m \u001b[39m@validate_params\u001b[39m(\n\u001b[1;32m   1251\u001b[0m     {\n\u001b[1;32m   1252\u001b[0m         \u001b[39m\"\u001b[39m\u001b[39my_true\u001b[39m\u001b[39m\"\u001b[39m: [\u001b[39m\"\u001b[39m\u001b[39marray-like\u001b[39m\u001b[39m\"\u001b[39m, \u001b[39m\"\u001b[39m\u001b[39msparse matrix\u001b[39m\u001b[39m\"\u001b[39m],\n\u001b[0;32m   (...)\u001b[0m\n\u001b[1;32m   1278\u001b[0m     zero_division\u001b[39m=\u001b[39m\u001b[39m\"\u001b[39m\u001b[39mwarn\u001b[39m\u001b[39m\"\u001b[39m,\n\u001b[1;32m   1279\u001b[0m ):\n\u001b[1;32m   1280\u001b[0m \u001b[39m    \u001b[39m\u001b[39m\"\"\"Compute the F-beta score.\u001b[39;00m\n\u001b[1;32m   1281\u001b[0m \n\u001b[1;32m   1282\u001b[0m \u001b[39m    The F-beta score is the weighted harmonic mean of precision and recall,\u001b[39;00m\n\u001b[0;32m   (...)\u001b[0m\n\u001b[1;32m   1408\u001b[0m \u001b[39m    0.38...\u001b[39;00m\n\u001b[1;32m   1409\u001b[0m \u001b[39m    \"\"\"\u001b[39;00m\n\u001b[0;32m-> 1411\u001b[0m     _, _, f, _ \u001b[39m=\u001b[39m precision_recall_fscore_support(\n\u001b[1;32m   1412\u001b[0m         y_true,\n\u001b[1;32m   1413\u001b[0m         y_pred,\n\u001b[1;32m   1414\u001b[0m         beta\u001b[39m=\u001b[39mbeta,\n\u001b[1;32m   1415\u001b[0m         labels\u001b[39m=\u001b[39mlabels,\n\u001b[1;32m   1416\u001b[0m         pos_label\u001b[39m=\u001b[39mpos_label,\n\u001b[1;32m   1417\u001b[0m         average\u001b[39m=\u001b[39maverage,\n\u001b[1;32m   1418\u001b[0m         warn_for\u001b[39m=\u001b[39m(\u001b[39m\"\u001b[39m\u001b[39mf-score\u001b[39m\u001b[39m\"\u001b[39m,),\n\u001b[1;32m   1419\u001b[0m         sample_weight\u001b[39m=\u001b[39msample_weight,\n\u001b[1;32m   1420\u001b[0m         zero_division\u001b[39m=\u001b[39mzero_division,\n\u001b[1;32m   1421\u001b[0m     )\n\u001b[1;32m   1422\u001b[0m     \u001b[39mreturn\u001b[39;00m f\n",
      "File \u001b[0;32m~/anaconda3/lib/python3.11/site-packages/sklearn/utils/_param_validation.py:184\u001b[0m, in \u001b[0;36mvalidate_params.<locals>.decorator.<locals>.wrapper\u001b[0;34m(*args, **kwargs)\u001b[0m\n\u001b[1;32m    182\u001b[0m global_skip_validation \u001b[39m=\u001b[39m get_config()[\u001b[39m\"\u001b[39m\u001b[39mskip_parameter_validation\u001b[39m\u001b[39m\"\u001b[39m]\n\u001b[1;32m    183\u001b[0m \u001b[39mif\u001b[39;00m global_skip_validation:\n\u001b[0;32m--> 184\u001b[0m     \u001b[39mreturn\u001b[39;00m func(\u001b[39m*\u001b[39margs, \u001b[39m*\u001b[39m\u001b[39m*\u001b[39mkwargs)\n\u001b[1;32m    186\u001b[0m func_sig \u001b[39m=\u001b[39m signature(func)\n\u001b[1;32m    188\u001b[0m \u001b[39m# Map *args/**kwargs to the function signature\u001b[39;00m\n",
      "File \u001b[0;32m~/anaconda3/lib/python3.11/site-packages/sklearn/metrics/_classification.py:1721\u001b[0m, in \u001b[0;36mprecision_recall_fscore_support\u001b[0;34m(y_true, y_pred, beta, labels, pos_label, average, warn_for, sample_weight, zero_division)\u001b[0m\n\u001b[1;32m   1563\u001b[0m \u001b[39m\u001b[39m\u001b[39m\"\"\"Compute precision, recall, F-measure and support for each class.\u001b[39;00m\n\u001b[1;32m   1564\u001b[0m \n\u001b[1;32m   1565\u001b[0m \u001b[39mThe precision is the ratio ``tp / (tp + fp)`` where ``tp`` is the number of\u001b[39;00m\n\u001b[0;32m   (...)\u001b[0m\n\u001b[1;32m   1718\u001b[0m \u001b[39m array([2, 2, 2]))\u001b[39;00m\n\u001b[1;32m   1719\u001b[0m \u001b[39m\"\"\"\u001b[39;00m\n\u001b[1;32m   1720\u001b[0m zero_division_value \u001b[39m=\u001b[39m _check_zero_division(zero_division)\n\u001b[0;32m-> 1721\u001b[0m labels \u001b[39m=\u001b[39m _check_set_wise_labels(y_true, y_pred, average, labels, pos_label)\n\u001b[1;32m   1723\u001b[0m \u001b[39m# Calculate tp_sum, pred_sum, true_sum ###\u001b[39;00m\n\u001b[1;32m   1724\u001b[0m samplewise \u001b[39m=\u001b[39m average \u001b[39m==\u001b[39m \u001b[39m\"\u001b[39m\u001b[39msamples\u001b[39m\u001b[39m\"\u001b[39m\n",
      "File \u001b[0;32m~/anaconda3/lib/python3.11/site-packages/sklearn/metrics/_classification.py:1516\u001b[0m, in \u001b[0;36m_check_set_wise_labels\u001b[0;34m(y_true, y_pred, average, labels, pos_label)\u001b[0m\n\u001b[1;32m   1514\u001b[0m         \u001b[39mif\u001b[39;00m y_type \u001b[39m==\u001b[39m \u001b[39m\"\u001b[39m\u001b[39mmulticlass\u001b[39m\u001b[39m\"\u001b[39m:\n\u001b[1;32m   1515\u001b[0m             average_options\u001b[39m.\u001b[39mremove(\u001b[39m\"\u001b[39m\u001b[39msamples\u001b[39m\u001b[39m\"\u001b[39m)\n\u001b[0;32m-> 1516\u001b[0m         \u001b[39mraise\u001b[39;00m \u001b[39mValueError\u001b[39;00m(\n\u001b[1;32m   1517\u001b[0m             \u001b[39m\"\u001b[39m\u001b[39mTarget is \u001b[39m\u001b[39m%s\u001b[39;00m\u001b[39m but average=\u001b[39m\u001b[39m'\u001b[39m\u001b[39mbinary\u001b[39m\u001b[39m'\u001b[39m\u001b[39m. Please \u001b[39m\u001b[39m\"\u001b[39m\n\u001b[1;32m   1518\u001b[0m             \u001b[39m\"\u001b[39m\u001b[39mchoose another average setting, one of \u001b[39m\u001b[39m%r\u001b[39;00m\u001b[39m.\u001b[39m\u001b[39m\"\u001b[39m \u001b[39m%\u001b[39m (y_type, average_options)\n\u001b[1;32m   1519\u001b[0m         )\n\u001b[1;32m   1520\u001b[0m \u001b[39melif\u001b[39;00m pos_label \u001b[39mnot\u001b[39;00m \u001b[39min\u001b[39;00m (\u001b[39mNone\u001b[39;00m, \u001b[39m1\u001b[39m):\n\u001b[1;32m   1521\u001b[0m     warnings\u001b[39m.\u001b[39mwarn(\n\u001b[1;32m   1522\u001b[0m         \u001b[39m\"\u001b[39m\u001b[39mNote that pos_label (set to \u001b[39m\u001b[39m%r\u001b[39;00m\u001b[39m) is ignored when \u001b[39m\u001b[39m\"\u001b[39m\n\u001b[1;32m   1523\u001b[0m         \u001b[39m\"\u001b[39m\u001b[39maverage != \u001b[39m\u001b[39m'\u001b[39m\u001b[39mbinary\u001b[39m\u001b[39m'\u001b[39m\u001b[39m (got \u001b[39m\u001b[39m%r\u001b[39;00m\u001b[39m). You may use \u001b[39m\u001b[39m\"\u001b[39m\n\u001b[0;32m   (...)\u001b[0m\n\u001b[1;32m   1526\u001b[0m         \u001b[39mUserWarning\u001b[39;00m,\n\u001b[1;32m   1527\u001b[0m     )\n",
      "\u001b[0;31mValueError\u001b[0m: Target is multiclass but average='binary'. Please choose another average setting, one of [None, 'micro', 'macro', 'weighted']."
     ]
    }
   ],
   "source": [
    "from sklearn.metrics import accuracy_score, f1_score\n",
    "print(\"accuracy:\",round(accuracy_score(y_test, pat_cls.predictions),4))\n",
    "print(\"f1 score:\",round(f1_score(y_test, pat_cls.predictions),4))"
   ]
  },
  {
   "cell_type": "code",
   "execution_count": 24,
   "metadata": {},
   "outputs": [
    {
     "data": {
      "image/png": "[encoded data removed]",
      "text/plain": [
       "<Figure size 800x600 with 1 Axes>"
      ]
     },
     "metadata": {},
     "output_type": "display_data"
    }
   ],
   "source": [
    "import matplotlib.pyplot as plt\n",
    "\n",
    "# Assuming cv_results is a dictionary containing cross-validation scores\n",
    "# For example:\n",
    "cv_results = {\n",
    "    \n",
    "    'accuracy': [0.75, 0.78, 0.79, 0.88, 0.90],  # Mean accuracy scores for each fold or parameter setting\n",
    "    'precision': [0.76, 0.76, 0.81, 0.89, 0.88],  # Mean precision scores\n",
    "    'recall': [0.92, 0.99, 0.97, 0.96, 0.85]  # Mean recall scores\n",
    "}\n",
    "\n",
    "# Plotting the cross-validation results\n",
    "plt.figure(figsize=(8, 6))\n",
    "\n",
    "# Plotting mean accuracy\n",
    "plt.plot(range(1, len(cv_results['accuracy']) + 1), cv_results['accuracy'], marker='o', label='Accuracy')\n",
    "# Plotting mean precision\n",
    "plt.plot(range(1, len(cv_results['precision']) + 1), cv_results['precision'], marker='o', label='Precision')\n",
    "# Plotting mean recall\n",
    "plt.plot(range(1, len(cv_results['recall']) + 1), cv_results['recall'], marker='o', label='Recall')\n",
    "\n",
    "plt.xlabel('Fold or Parameter Setting')\n",
    "plt.ylabel('Score')\n",
    "plt.title('Cross-Validation Results')\n",
    "plt.legend()\n",
    "plt.grid(True)\n",
    "plt.show()\n"
   ]
  }
 ],
 "metadata": {
  "kernelspec": {
   "display_name": "base",
   "language": "python",
   "name": "python3"
  },
  "language_info": {
   "codemirror_mode": {
    "name": "ipython",
    "version": 3
   },
   "file_extension": ".py",
   "mimetype": "text/x-python",
   "name": "python",
   "nbconvert_exporter": "python",
   "pygments_lexer": "ipython3",
   "version": "3.11.5"
  },
  "orig_nbformat": 4
 },
 "nbformat": 4,
 "nbformat_minor": 2
}
